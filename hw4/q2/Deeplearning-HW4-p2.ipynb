{
 "cells": [
  {
   "cell_type": "markdown",
   "metadata": {
    "id": "w_a3OXnSeV0z"
   },
   "source": [
    "\n",
    "<br>\n",
    "<font>\n",
    "<div dir=ltr align=center>\n",
    "<font color=0F5298 size=10>\n",
    "    Deep Learning - HW4 <br>\n",
    "<font color=2565AE size=5>\n",
    "    Electrical Engineering Department <br>\n",
    "    winter 2024<br>\n",
    "<font color=3C99D size=5>\n",
    "    Practical Assignment 2 <br>\n",
    "<font color=696880 size=4>\n",
    "    Armin Ghojehzadeh \n",
    "\n",
    "____"
   ]
  },
  {
   "cell_type": "markdown",
   "metadata": {},
   "source": [
    "### **Student Information:**\n",
    "\n",
    "- **Name:** Muhammad Erfan Bagherinejad\n",
    "- **Student Number:** 402200359"
   ]
  },
  {
   "cell_type": "code",
   "execution_count": 2,
   "metadata": {
    "execution": {
     "iopub.execute_input": "2025-01-01T23:02:24.620055Z",
     "iopub.status.busy": "2025-01-01T23:02:24.619737Z",
     "iopub.status.idle": "2025-01-01T23:06:40.325278Z",
     "shell.execute_reply": "2025-01-01T23:06:40.324182Z",
     "shell.execute_reply.started": "2025-01-01T23:02:24.620029Z"
    },
    "trusted": true
   },
   "outputs": [
    {
     "name": "stdout",
     "output_type": "stream",
     "text": [
      "\u001b[33mWARNING: Skipping torchtext as it is not installed.\u001b[0m\u001b[33m\n",
      "\u001b[0mLooking in indexes: https://download.pytorch.org/whl/cu118\n",
      "Requirement already satisfied: torch in /usr/local/lib/python3.10/dist-packages (2.4.1+cu121)\n",
      "Collecting torch\n",
      "  Downloading https://download.pytorch.org/whl/cu118/torch-2.5.1%2Bcu118-cp310-cp310-linux_x86_64.whl (838.3 MB)\n",
      "\u001b[2K     \u001b[90m━━━━━━━━━━━━━━━━━━━━━━━━━━━━━━━━━━━━━━━━\u001b[0m \u001b[32m838.3/838.3 MB\u001b[0m \u001b[31m2.0 MB/s\u001b[0m eta \u001b[36m0:00:00\u001b[0m0:00:01\u001b[0m00:01\u001b[0m\n",
      "\u001b[?25hRequirement already satisfied: filelock in /usr/local/lib/python3.10/dist-packages (from torch) (3.16.1)\n",
      "Requirement already satisfied: typing-extensions>=4.8.0 in /usr/local/lib/python3.10/dist-packages (from torch) (4.12.2)\n",
      "Requirement already satisfied: networkx in /usr/local/lib/python3.10/dist-packages (from torch) (3.3)\n",
      "Requirement already satisfied: jinja2 in /usr/local/lib/python3.10/dist-packages (from torch) (3.1.4)\n",
      "Requirement already satisfied: fsspec in /usr/local/lib/python3.10/dist-packages (from torch) (2024.6.1)\n",
      "Collecting nvidia-cuda-nvrtc-cu11==11.8.89 (from torch)\n",
      "  Downloading https://download.pytorch.org/whl/cu118/nvidia_cuda_nvrtc_cu11-11.8.89-py3-none-manylinux1_x86_64.whl (23.2 MB)\n",
      "\u001b[2K     \u001b[90m━━━━━━━━━━━━━━━━━━━━━━━━━━━━━━━━━━━━━━━━\u001b[0m \u001b[32m23.2/23.2 MB\u001b[0m \u001b[31m5.1 MB/s\u001b[0m eta \u001b[36m0:00:00\u001b[0m:00:01\u001b[0m00:01\u001b[0m\n",
      "\u001b[?25hCollecting nvidia-cuda-runtime-cu11==11.8.89 (from torch)\n",
      "  Downloading https://download.pytorch.org/whl/cu118/nvidia_cuda_runtime_cu11-11.8.89-py3-none-manylinux1_x86_64.whl (875 kB)\n",
      "\u001b[2K     \u001b[90m━━━━━━━━━━━━━━━━━━━━━━━━━━━━━━━━━━━━━━━━\u001b[0m \u001b[32m875.6/875.6 kB\u001b[0m \u001b[31m40.0 MB/s\u001b[0m eta \u001b[36m0:00:00\u001b[0m\n",
      "\u001b[?25hCollecting nvidia-cuda-cupti-cu11==11.8.87 (from torch)\n",
      "  Downloading https://download.pytorch.org/whl/cu118/nvidia_cuda_cupti_cu11-11.8.87-py3-none-manylinux1_x86_64.whl (13.1 MB)\n",
      "\u001b[2K     \u001b[90m━━━━━━━━━━━━━━━━━━━━━━━━━━━━━━━━━━━━━━━━\u001b[0m \u001b[32m13.1/13.1 MB\u001b[0m \u001b[31m63.0 MB/s\u001b[0m eta \u001b[36m0:00:00\u001b[0m00:01\u001b[0m00:01\u001b[0m\n",
      "\u001b[?25hCollecting nvidia-cudnn-cu11==9.1.0.70 (from torch)\n",
      "  Downloading https://download.pytorch.org/whl/cu118/nvidia_cudnn_cu11-9.1.0.70-py3-none-manylinux2014_x86_64.whl (663.9 MB)\n",
      "\u001b[2K     \u001b[90m━━━━━━━━━━━━━━━━━━━━━━━━━━━━━━━━━━━━━━━━\u001b[0m \u001b[32m663.9/663.9 MB\u001b[0m \u001b[31m2.6 MB/s\u001b[0m eta \u001b[36m0:00:00\u001b[0m0:00:01\u001b[0m00:01\u001b[0m\n",
      "\u001b[?25hCollecting nvidia-cublas-cu11==11.11.3.6 (from torch)\n",
      "  Downloading https://download.pytorch.org/whl/cu118/nvidia_cublas_cu11-11.11.3.6-py3-none-manylinux1_x86_64.whl (417.9 MB)\n",
      "\u001b[2K     \u001b[90m━━━━━━━━━━━━━━━━━━━━━━━━━━━━━━━━━━━━━━━━\u001b[0m \u001b[32m417.9/417.9 MB\u001b[0m \u001b[31m3.7 MB/s\u001b[0m eta \u001b[36m0:00:00\u001b[0m0:00:01\u001b[0m00:01\u001b[0m\n",
      "\u001b[?25hCollecting nvidia-cufft-cu11==10.9.0.58 (from torch)\n",
      "  Downloading https://download.pytorch.org/whl/cu118/nvidia_cufft_cu11-10.9.0.58-py3-none-manylinux1_x86_64.whl (168.4 MB)\n",
      "\u001b[2K     \u001b[90m━━━━━━━━━━━━━━━━━━━━━━━━━━━━━━━━━━━━━━━━\u001b[0m \u001b[32m168.4/168.4 MB\u001b[0m \u001b[31m9.5 MB/s\u001b[0m eta \u001b[36m0:00:00\u001b[0m:00:01\u001b[0m00:01\u001b[0m\n",
      "\u001b[?25hCollecting nvidia-curand-cu11==10.3.0.86 (from torch)\n",
      "  Downloading https://download.pytorch.org/whl/cu118/nvidia_curand_cu11-10.3.0.86-py3-none-manylinux1_x86_64.whl (58.1 MB)\n",
      "\u001b[2K     \u001b[90m━━━━━━━━━━━━━━━━━━━━━━━━━━━━━━━━━━━━━━━━\u001b[0m \u001b[32m58.1/58.1 MB\u001b[0m \u001b[31m2.3 MB/s\u001b[0m eta \u001b[36m0:00:00\u001b[0m:00:01\u001b[0m00:01\u001b[0m\n",
      "\u001b[?25hCollecting nvidia-cusolver-cu11==11.4.1.48 (from torch)\n",
      "  Downloading https://download.pytorch.org/whl/cu118/nvidia_cusolver_cu11-11.4.1.48-py3-none-manylinux1_x86_64.whl (128.2 MB)\n",
      "\u001b[2K     \u001b[90m━━━━━━━━━━━━━━━━━━━━━━━━━━━━━━━━━━━━━━━━\u001b[0m \u001b[32m128.2/128.2 MB\u001b[0m \u001b[31m13.5 MB/s\u001b[0m eta \u001b[36m0:00:00\u001b[0m:00:01\u001b[0m00:01\u001b[0m\n",
      "\u001b[?25hCollecting nvidia-cusparse-cu11==11.7.5.86 (from torch)\n",
      "  Downloading https://download.pytorch.org/whl/cu118/nvidia_cusparse_cu11-11.7.5.86-py3-none-manylinux1_x86_64.whl (204.1 MB)\n",
      "\u001b[2K     \u001b[90m━━━━━━━━━━━━━━━━━━━━━━━━━━━━━━━━━━━━━━━━\u001b[0m \u001b[32m204.1/204.1 MB\u001b[0m \u001b[31m8.4 MB/s\u001b[0m eta \u001b[36m0:00:00\u001b[0m0:00:01\u001b[0m00:01\u001b[0m\n",
      "\u001b[?25hCollecting nvidia-nccl-cu11==2.21.5 (from torch)\n",
      "  Downloading https://download.pytorch.org/whl/cu118/nvidia_nccl_cu11-2.21.5-py3-none-manylinux2014_x86_64.whl (147.8 MB)\n",
      "\u001b[2K     \u001b[90m━━━━━━━━━━━━━━━━━━━━━━━━━━━━━━━━━━━━━━━━\u001b[0m \u001b[32m147.8/147.8 MB\u001b[0m \u001b[31m11.4 MB/s\u001b[0m eta \u001b[36m0:00:00\u001b[0m:00:01\u001b[0m00:01\u001b[0m\n",
      "\u001b[?25hCollecting nvidia-nvtx-cu11==11.8.86 (from torch)\n",
      "  Downloading https://download.pytorch.org/whl/cu118/nvidia_nvtx_cu11-11.8.86-py3-none-manylinux1_x86_64.whl (99 kB)\n",
      "\u001b[2K     \u001b[90m━━━━━━━━━━━━━━━━━━━━━━━━━━━━━━━━━━━━━━━━\u001b[0m \u001b[32m99.1/99.1 kB\u001b[0m \u001b[31m6.0 MB/s\u001b[0m eta \u001b[36m0:00:00\u001b[0m\n",
      "\u001b[?25hCollecting triton==3.1.0 (from torch)\n",
      "  Downloading https://download.pytorch.org/whl/triton-3.1.0-cp310-cp310-manylinux_2_17_x86_64.manylinux2014_x86_64.whl (209.5 MB)\n",
      "\u001b[2K     \u001b[90m━━━━━━━━━━━━━━━━━━━━━━━━━━━━━━━━━━━━━━━━\u001b[0m \u001b[32m209.5/209.5 MB\u001b[0m \u001b[31m8.2 MB/s\u001b[0m eta \u001b[36m0:00:00\u001b[0m0:00:01\u001b[0m00:01\u001b[0m\n",
      "\u001b[?25hCollecting sympy==1.13.1 (from torch)\n",
      "  Downloading https://download.pytorch.org/whl/sympy-1.13.1-py3-none-any.whl (6.2 MB)\n",
      "\u001b[2K     \u001b[90m━━━━━━━━━━━━━━━━━━━━━━━━━━━━━━━━━━━━━━━━\u001b[0m \u001b[32m6.2/6.2 MB\u001b[0m \u001b[31m101.3 MB/s\u001b[0m eta \u001b[36m0:00:00\u001b[0m00:01\u001b[0m\n",
      "\u001b[?25hRequirement already satisfied: mpmath<1.4,>=1.1.0 in /usr/local/lib/python3.10/dist-packages (from sympy==1.13.1->torch) (1.3.0)\n",
      "Requirement already satisfied: MarkupSafe>=2.0 in /usr/local/lib/python3.10/dist-packages (from jinja2->torch) (2.1.5)\n",
      "Installing collected packages: triton, sympy, nvidia-nvtx-cu11, nvidia-nccl-cu11, nvidia-cusparse-cu11, nvidia-curand-cu11, nvidia-cufft-cu11, nvidia-cuda-runtime-cu11, nvidia-cuda-nvrtc-cu11, nvidia-cuda-cupti-cu11, nvidia-cublas-cu11, nvidia-cusolver-cu11, nvidia-cudnn-cu11, torch\n",
      "  Attempting uninstall: sympy\n",
      "    Found existing installation: sympy 1.13.3\n",
      "    Uninstalling sympy-1.13.3:\n",
      "      Successfully uninstalled sympy-1.13.3\n",
      "  Attempting uninstall: torch\n",
      "    Found existing installation: torch 2.4.1+cu121\n",
      "    Uninstalling torch-2.4.1+cu121:\n",
      "      Successfully uninstalled torch-2.4.1+cu121\n",
      "\u001b[31mERROR: pip's dependency resolver does not currently take into account all the packages that are installed. This behaviour is the source of the following dependency conflicts.\n",
      "fastai 2.7.17 requires torch<2.5,>=1.10, but you have torch 2.5.1+cu118 which is incompatible.\n",
      "torchaudio 2.4.1+cu121 requires torch==2.4.1, but you have torch 2.5.1+cu118 which is incompatible.\n",
      "torchvision 0.19.1+cu121 requires torch==2.4.1, but you have torch 2.5.1+cu118 which is incompatible.\u001b[0m\u001b[31m\n",
      "\u001b[0mSuccessfully installed nvidia-cublas-cu11-11.11.3.6 nvidia-cuda-cupti-cu11-11.8.87 nvidia-cuda-nvrtc-cu11-11.8.89 nvidia-cuda-runtime-cu11-11.8.89 nvidia-cudnn-cu11-9.1.0.70 nvidia-cufft-cu11-10.9.0.58 nvidia-curand-cu11-10.3.0.86 nvidia-cusolver-cu11-11.4.1.48 nvidia-cusparse-cu11-11.7.5.86 nvidia-nccl-cu11-2.21.5 nvidia-nvtx-cu11-11.8.86 sympy-1.13.1 torch-2.5.1+cu118 triton-3.1.0\n",
      "Collecting torchdata\n",
      "  Downloading torchdata-0.10.1-py3-none-any.whl.metadata (6.3 kB)\n",
      "Requirement already satisfied: urllib3>=1.25 in /usr/local/lib/python3.10/dist-packages (from torchdata) (2.2.3)\n",
      "Requirement already satisfied: requests in /usr/local/lib/python3.10/dist-packages (from torchdata) (2.32.3)\n",
      "Requirement already satisfied: torch>=2 in /usr/local/lib/python3.10/dist-packages (from torchdata) (2.5.1+cu118)\n",
      "Requirement already satisfied: filelock in /usr/local/lib/python3.10/dist-packages (from torch>=2->torchdata) (3.16.1)\n",
      "Requirement already satisfied: typing-extensions>=4.8.0 in /usr/local/lib/python3.10/dist-packages (from torch>=2->torchdata) (4.12.2)\n",
      "Requirement already satisfied: networkx in /usr/local/lib/python3.10/dist-packages (from torch>=2->torchdata) (3.3)\n",
      "Requirement already satisfied: jinja2 in /usr/local/lib/python3.10/dist-packages (from torch>=2->torchdata) (3.1.4)\n",
      "Requirement already satisfied: fsspec in /usr/local/lib/python3.10/dist-packages (from torch>=2->torchdata) (2024.6.1)\n",
      "Requirement already satisfied: nvidia-cuda-nvrtc-cu11==11.8.89 in /usr/local/lib/python3.10/dist-packages (from torch>=2->torchdata) (11.8.89)\n",
      "Requirement already satisfied: nvidia-cuda-runtime-cu11==11.8.89 in /usr/local/lib/python3.10/dist-packages (from torch>=2->torchdata) (11.8.89)\n",
      "Requirement already satisfied: nvidia-cuda-cupti-cu11==11.8.87 in /usr/local/lib/python3.10/dist-packages (from torch>=2->torchdata) (11.8.87)\n",
      "Requirement already satisfied: nvidia-cudnn-cu11==9.1.0.70 in /usr/local/lib/python3.10/dist-packages (from torch>=2->torchdata) (9.1.0.70)\n",
      "Requirement already satisfied: nvidia-cublas-cu11==11.11.3.6 in /usr/local/lib/python3.10/dist-packages (from torch>=2->torchdata) (11.11.3.6)\n",
      "Requirement already satisfied: nvidia-cufft-cu11==10.9.0.58 in /usr/local/lib/python3.10/dist-packages (from torch>=2->torchdata) (10.9.0.58)\n",
      "Requirement already satisfied: nvidia-curand-cu11==10.3.0.86 in /usr/local/lib/python3.10/dist-packages (from torch>=2->torchdata) (10.3.0.86)\n",
      "Requirement already satisfied: nvidia-cusolver-cu11==11.4.1.48 in /usr/local/lib/python3.10/dist-packages (from torch>=2->torchdata) (11.4.1.48)\n",
      "Requirement already satisfied: nvidia-cusparse-cu11==11.7.5.86 in /usr/local/lib/python3.10/dist-packages (from torch>=2->torchdata) (11.7.5.86)\n",
      "Requirement already satisfied: nvidia-nccl-cu11==2.21.5 in /usr/local/lib/python3.10/dist-packages (from torch>=2->torchdata) (2.21.5)\n",
      "Requirement already satisfied: nvidia-nvtx-cu11==11.8.86 in /usr/local/lib/python3.10/dist-packages (from torch>=2->torchdata) (11.8.86)\n",
      "Requirement already satisfied: triton==3.1.0 in /usr/local/lib/python3.10/dist-packages (from torch>=2->torchdata) (3.1.0)\n",
      "Requirement already satisfied: sympy==1.13.1 in /usr/local/lib/python3.10/dist-packages (from torch>=2->torchdata) (1.13.1)\n",
      "Requirement already satisfied: mpmath<1.4,>=1.1.0 in /usr/local/lib/python3.10/dist-packages (from sympy==1.13.1->torch>=2->torchdata) (1.3.0)\n",
      "Requirement already satisfied: charset-normalizer<4,>=2 in /usr/local/lib/python3.10/dist-packages (from requests->torchdata) (3.3.2)\n",
      "Requirement already satisfied: idna<4,>=2.5 in /usr/local/lib/python3.10/dist-packages (from requests->torchdata) (3.10)\n",
      "Requirement already satisfied: certifi>=2017.4.17 in /usr/local/lib/python3.10/dist-packages (from requests->torchdata) (2024.8.30)\n",
      "Requirement already satisfied: MarkupSafe>=2.0 in /usr/local/lib/python3.10/dist-packages (from jinja2->torch>=2->torchdata) (2.1.5)\n",
      "Downloading torchdata-0.10.1-py3-none-any.whl (57 kB)\n",
      "\u001b[2K   \u001b[90m━━━━━━━━━━━━━━━━━━━━━━━━━━━━━━━━━━━━━━━━\u001b[0m \u001b[32m57.5/57.5 kB\u001b[0m \u001b[31m1.9 MB/s\u001b[0m eta \u001b[36m0:00:00\u001b[0m\n",
      "\u001b[?25hInstalling collected packages: torchdata\n",
      "Successfully installed torchdata-0.10.1\n",
      "Looking in indexes: https://download.pytorch.org/whl/cu118\n",
      "Collecting torchtext\n",
      "  Downloading https://download.pytorch.org/whl/torchtext-0.17.0%2Bcpu-cp310-cp310-linux_x86_64.whl (2.0 MB)\n",
      "\u001b[2K     \u001b[90m━━━━━━━━━━━━━━━━━━━━━━━━━━━━━━━━━━━━━━━━\u001b[0m \u001b[32m2.0/2.0 MB\u001b[0m \u001b[31m30.5 MB/s\u001b[0m eta \u001b[36m0:00:00\u001b[0ma \u001b[36m0:00:01\u001b[0m\n",
      "\u001b[?25hRequirement already satisfied: tqdm in /usr/local/lib/python3.10/dist-packages (from torchtext) (4.66.5)\n",
      "Requirement already satisfied: requests in /usr/local/lib/python3.10/dist-packages (from torchtext) (2.32.3)\n",
      "Collecting torch==2.2.0 (from torchtext)\n",
      "  Downloading https://download.pytorch.org/whl/cu118/torch-2.2.0%2Bcu118-cp310-cp310-linux_x86_64.whl (811.7 MB)\n",
      "\u001b[2K     \u001b[90m━━━━━━━━━━━━━━━━━━━━━━━━━━━━━━━━━━━━━━━━\u001b[0m \u001b[32m811.7/811.7 MB\u001b[0m \u001b[31m1.9 MB/s\u001b[0m eta \u001b[36m0:00:00\u001b[0m0:00:01\u001b[0m00:01\u001b[0m\n",
      "\u001b[?25hRequirement already satisfied: numpy in /usr/local/lib/python3.10/dist-packages (from torchtext) (1.26.4)\n",
      "Collecting torchdata==0.7.1 (from torchtext)\n",
      "  Downloading https://download.pytorch.org/whl/torchdata-0.7.1-cp310-cp310-manylinux_2_17_x86_64.manylinux2014_x86_64.whl (4.7 MB)\n",
      "\u001b[2K     \u001b[90m━━━━━━━━━━━━━━━━━━━━━━━━━━━━━━━━━━━━━━━━\u001b[0m \u001b[32m4.7/4.7 MB\u001b[0m \u001b[31m1.9 MB/s\u001b[0m eta \u001b[36m0:00:00\u001b[0m:00:01\u001b[0m:00:06\u001b[0m\n",
      "\u001b[?25hRequirement already satisfied: filelock in /usr/local/lib/python3.10/dist-packages (from torch==2.2.0->torchtext) (3.16.1)\n",
      "Requirement already satisfied: typing-extensions>=4.8.0 in /usr/local/lib/python3.10/dist-packages (from torch==2.2.0->torchtext) (4.12.2)\n",
      "Requirement already satisfied: sympy in /usr/local/lib/python3.10/dist-packages (from torch==2.2.0->torchtext) (1.13.1)\n",
      "Requirement already satisfied: networkx in /usr/local/lib/python3.10/dist-packages (from torch==2.2.0->torchtext) (3.3)\n",
      "Requirement already satisfied: jinja2 in /usr/local/lib/python3.10/dist-packages (from torch==2.2.0->torchtext) (3.1.4)\n",
      "Requirement already satisfied: fsspec in /usr/local/lib/python3.10/dist-packages (from torch==2.2.0->torchtext) (2024.6.1)\n",
      "Requirement already satisfied: nvidia-cuda-nvrtc-cu11==11.8.89 in /usr/local/lib/python3.10/dist-packages (from torch==2.2.0->torchtext) (11.8.89)\n",
      "Requirement already satisfied: nvidia-cuda-runtime-cu11==11.8.89 in /usr/local/lib/python3.10/dist-packages (from torch==2.2.0->torchtext) (11.8.89)\n",
      "Requirement already satisfied: nvidia-cuda-cupti-cu11==11.8.87 in /usr/local/lib/python3.10/dist-packages (from torch==2.2.0->torchtext) (11.8.87)\n",
      "Collecting nvidia-cudnn-cu11==8.7.0.84 (from torch==2.2.0->torchtext)\n",
      "  Downloading https://download.pytorch.org/whl/cu118/nvidia_cudnn_cu11-8.7.0.84-py3-none-manylinux1_x86_64.whl (728.5 MB)\n",
      "\u001b[2K     \u001b[90m━━━━━━━━━━━━━━━━━━━━━━━━━━━━━━━━━━━━━━━━\u001b[0m \u001b[32m728.5/728.5 MB\u001b[0m \u001b[31m2.3 MB/s\u001b[0m eta \u001b[36m0:00:00\u001b[0m:00:01\u001b[0m00:01\u001b[0m\n",
      "\u001b[?25hRequirement already satisfied: nvidia-cublas-cu11==11.11.3.6 in /usr/local/lib/python3.10/dist-packages (from torch==2.2.0->torchtext) (11.11.3.6)\n",
      "Requirement already satisfied: nvidia-cufft-cu11==10.9.0.58 in /usr/local/lib/python3.10/dist-packages (from torch==2.2.0->torchtext) (10.9.0.58)\n",
      "Requirement already satisfied: nvidia-curand-cu11==10.3.0.86 in /usr/local/lib/python3.10/dist-packages (from torch==2.2.0->torchtext) (10.3.0.86)\n",
      "Requirement already satisfied: nvidia-cusolver-cu11==11.4.1.48 in /usr/local/lib/python3.10/dist-packages (from torch==2.2.0->torchtext) (11.4.1.48)\n",
      "Requirement already satisfied: nvidia-cusparse-cu11==11.7.5.86 in /usr/local/lib/python3.10/dist-packages (from torch==2.2.0->torchtext) (11.7.5.86)\n",
      "Collecting nvidia-nccl-cu11==2.19.3 (from torch==2.2.0->torchtext)\n",
      "  Downloading https://download.pytorch.org/whl/cu118/nvidia_nccl_cu11-2.19.3-py3-none-manylinux1_x86_64.whl (135.3 MB)\n",
      "\u001b[2K     \u001b[90m━━━━━━━━━━━━━━━━━━━━━━━━━━━━━━━━━━━━━━━━\u001b[0m \u001b[32m135.3/135.3 MB\u001b[0m \u001b[31m11.7 MB/s\u001b[0m eta \u001b[36m0:00:00\u001b[0m00:01\u001b[0m00:01\u001b[0mm\n",
      "\u001b[?25hRequirement already satisfied: nvidia-nvtx-cu11==11.8.86 in /usr/local/lib/python3.10/dist-packages (from torch==2.2.0->torchtext) (11.8.86)\n",
      "Collecting triton==2.2.0 (from torch==2.2.0->torchtext)\n",
      "  Downloading https://download.pytorch.org/whl/triton-2.2.0-cp310-cp310-manylinux_2_17_x86_64.manylinux2014_x86_64.whl (167.9 MB)\n",
      "\u001b[2K     \u001b[90m━━━━━━━━━━━━━━━━━━━━━━━━━━━━━━━━━━━━━━━━\u001b[0m \u001b[32m167.9/167.9 MB\u001b[0m \u001b[31m9.3 MB/s\u001b[0m eta \u001b[36m0:00:00\u001b[0m:00:01\u001b[0m00:01\u001b[0m\n",
      "\u001b[?25hRequirement already satisfied: urllib3>=1.25 in /usr/local/lib/python3.10/dist-packages (from torchdata==0.7.1->torchtext) (2.2.3)\n",
      "Requirement already satisfied: charset-normalizer<4,>=2 in /usr/local/lib/python3.10/dist-packages (from requests->torchtext) (3.3.2)\n",
      "Requirement already satisfied: idna<4,>=2.5 in /usr/local/lib/python3.10/dist-packages (from requests->torchtext) (3.10)\n",
      "Requirement already satisfied: certifi>=2017.4.17 in /usr/local/lib/python3.10/dist-packages (from requests->torchtext) (2024.8.30)\n",
      "Requirement already satisfied: MarkupSafe>=2.0 in /usr/local/lib/python3.10/dist-packages (from jinja2->torch==2.2.0->torchtext) (2.1.5)\n",
      "Requirement already satisfied: mpmath<1.4,>=1.1.0 in /usr/local/lib/python3.10/dist-packages (from sympy->torch==2.2.0->torchtext) (1.3.0)\n",
      "Installing collected packages: triton, nvidia-nccl-cu11, nvidia-cudnn-cu11, torch, torchdata, torchtext\n",
      "  Attempting uninstall: triton\n",
      "    Found existing installation: triton 3.1.0\n",
      "    Uninstalling triton-3.1.0:\n",
      "      Successfully uninstalled triton-3.1.0\n",
      "  Attempting uninstall: nvidia-nccl-cu11\n",
      "    Found existing installation: nvidia-nccl-cu11 2.21.5\n",
      "    Uninstalling nvidia-nccl-cu11-2.21.5:\n",
      "      Successfully uninstalled nvidia-nccl-cu11-2.21.5\n",
      "  Attempting uninstall: nvidia-cudnn-cu11\n",
      "    Found existing installation: nvidia-cudnn-cu11 9.1.0.70\n",
      "    Uninstalling nvidia-cudnn-cu11-9.1.0.70:\n",
      "      Successfully uninstalled nvidia-cudnn-cu11-9.1.0.70\n",
      "  Attempting uninstall: torch\n",
      "    Found existing installation: torch 2.5.1+cu118\n",
      "    Uninstalling torch-2.5.1+cu118:\n",
      "      Successfully uninstalled torch-2.5.1+cu118\n",
      "  Attempting uninstall: torchdata\n",
      "    Found existing installation: torchdata 0.10.1\n",
      "    Uninstalling torchdata-0.10.1:\n",
      "      Successfully uninstalled torchdata-0.10.1\n",
      "\u001b[31mERROR: pip's dependency resolver does not currently take into account all the packages that are installed. This behaviour is the source of the following dependency conflicts.\n",
      "torchaudio 2.4.1+cu121 requires torch==2.4.1, but you have torch 2.2.0+cu118 which is incompatible.\n",
      "torchvision 0.19.1+cu121 requires torch==2.4.1, but you have torch 2.2.0+cu118 which is incompatible.\u001b[0m\u001b[31m\n",
      "\u001b[0mSuccessfully installed nvidia-cudnn-cu11-8.7.0.84 nvidia-nccl-cu11-2.19.3 torch-2.2.0+cu118 torchdata-0.7.1 torchtext-0.17.0+cpu triton-2.2.0\n",
      "Requirement already satisfied: torchmetrics in /usr/local/lib/python3.10/dist-packages (1.6.0)\n",
      "Requirement already satisfied: numpy>1.20.0 in /usr/local/lib/python3.10/dist-packages (from torchmetrics) (1.26.4)\n",
      "Requirement already satisfied: packaging>17.1 in /usr/local/lib/python3.10/dist-packages (from torchmetrics) (24.1)\n",
      "Requirement already satisfied: torch>=2.0.0 in /usr/local/lib/python3.10/dist-packages (from torchmetrics) (2.2.0+cu118)\n",
      "Requirement already satisfied: lightning-utilities>=0.8.0 in /usr/local/lib/python3.10/dist-packages (from torchmetrics) (0.11.9)\n",
      "Requirement already satisfied: setuptools in /usr/local/lib/python3.10/dist-packages (from lightning-utilities>=0.8.0->torchmetrics) (71.0.4)\n",
      "Requirement already satisfied: typing-extensions in /usr/local/lib/python3.10/dist-packages (from lightning-utilities>=0.8.0->torchmetrics) (4.12.2)\n",
      "Requirement already satisfied: filelock in /usr/local/lib/python3.10/dist-packages (from torch>=2.0.0->torchmetrics) (3.16.1)\n",
      "Requirement already satisfied: sympy in /usr/local/lib/python3.10/dist-packages (from torch>=2.0.0->torchmetrics) (1.13.1)\n",
      "Requirement already satisfied: networkx in /usr/local/lib/python3.10/dist-packages (from torch>=2.0.0->torchmetrics) (3.3)\n",
      "Requirement already satisfied: jinja2 in /usr/local/lib/python3.10/dist-packages (from torch>=2.0.0->torchmetrics) (3.1.4)\n",
      "Requirement already satisfied: fsspec in /usr/local/lib/python3.10/dist-packages (from torch>=2.0.0->torchmetrics) (2024.6.1)\n",
      "Requirement already satisfied: nvidia-cuda-nvrtc-cu11==11.8.89 in /usr/local/lib/python3.10/dist-packages (from torch>=2.0.0->torchmetrics) (11.8.89)\n",
      "Requirement already satisfied: nvidia-cuda-runtime-cu11==11.8.89 in /usr/local/lib/python3.10/dist-packages (from torch>=2.0.0->torchmetrics) (11.8.89)\n",
      "Requirement already satisfied: nvidia-cuda-cupti-cu11==11.8.87 in /usr/local/lib/python3.10/dist-packages (from torch>=2.0.0->torchmetrics) (11.8.87)\n",
      "Requirement already satisfied: nvidia-cudnn-cu11==8.7.0.84 in /usr/local/lib/python3.10/dist-packages (from torch>=2.0.0->torchmetrics) (8.7.0.84)\n",
      "Requirement already satisfied: nvidia-cublas-cu11==11.11.3.6 in /usr/local/lib/python3.10/dist-packages (from torch>=2.0.0->torchmetrics) (11.11.3.6)\n",
      "Requirement already satisfied: nvidia-cufft-cu11==10.9.0.58 in /usr/local/lib/python3.10/dist-packages (from torch>=2.0.0->torchmetrics) (10.9.0.58)\n",
      "Requirement already satisfied: nvidia-curand-cu11==10.3.0.86 in /usr/local/lib/python3.10/dist-packages (from torch>=2.0.0->torchmetrics) (10.3.0.86)\n",
      "Requirement already satisfied: nvidia-cusolver-cu11==11.4.1.48 in /usr/local/lib/python3.10/dist-packages (from torch>=2.0.0->torchmetrics) (11.4.1.48)\n",
      "Requirement already satisfied: nvidia-cusparse-cu11==11.7.5.86 in /usr/local/lib/python3.10/dist-packages (from torch>=2.0.0->torchmetrics) (11.7.5.86)\n",
      "Requirement already satisfied: nvidia-nccl-cu11==2.19.3 in /usr/local/lib/python3.10/dist-packages (from torch>=2.0.0->torchmetrics) (2.19.3)\n",
      "Requirement already satisfied: nvidia-nvtx-cu11==11.8.86 in /usr/local/lib/python3.10/dist-packages (from torch>=2.0.0->torchmetrics) (11.8.86)\n",
      "Requirement already satisfied: triton==2.2.0 in /usr/local/lib/python3.10/dist-packages (from torch>=2.0.0->torchmetrics) (2.2.0)\n",
      "Requirement already satisfied: MarkupSafe>=2.0 in /usr/local/lib/python3.10/dist-packages (from jinja2->torch>=2.0.0->torchmetrics) (2.1.5)\n",
      "Requirement already satisfied: mpmath<1.4,>=1.1.0 in /usr/local/lib/python3.10/dist-packages (from sympy->torch>=2.0.0->torchmetrics) (1.3.0)\n"
     ]
    }
   ],
   "source": [
    "!pip uninstall torchtext -y\n",
    "!pip install --upgrade torch --index-url https://download.pytorch.org/whl/cu118\n",
    "!pip install --upgrade torchdata\n",
    "!pip install --upgrade torchtext --index-url https://download.pytorch.org/whl/cu118\n",
    "!pip install torchmetrics"
   ]
  },
  {
   "cell_type": "markdown",
   "metadata": {},
   "source": [
    "# 🔴 **Import Libs**"
   ]
  },
  {
   "cell_type": "code",
   "execution_count": 4,
   "metadata": {
    "execution": {
     "iopub.execute_input": "2025-01-01T23:06:40.326957Z",
     "iopub.status.busy": "2025-01-01T23:06:40.326646Z",
     "iopub.status.idle": "2025-01-01T23:06:46.022181Z",
     "shell.execute_reply": "2025-01-01T23:06:46.021296Z",
     "shell.execute_reply.started": "2025-01-01T23:06:40.326929Z"
    },
    "id": "vhlVJEkJeTsV",
    "trusted": true
   },
   "outputs": [
    {
     "data": {
      "text/plain": [
       "<torch._C.Generator at 0x1b45bb33c10>"
      ]
     },
     "execution_count": 4,
     "metadata": {},
     "output_type": "execute_result"
    }
   ],
   "source": [
    "import numpy as np\n",
    "import matplotlib.pyplot as plt\n",
    "from tqdm import tqdm\n",
    "import torchtext\n",
    "\n",
    "import torch\n",
    "\n",
    "import math\n",
    "\n",
    "from torch import nn\n",
    "from torch.utils.data import DataLoader, Dataset\n",
    "\n",
    "from torch import optim\n",
    "from torch.nn import functional as F\n",
    "\n",
    "import torchmetrics as tm\n",
    "\n",
    "device = torch.device('cuda' if torch.cuda.is_available() else 'cpu')\n",
    "torch.manual_seed(0)"
   ]
  },
  {
   "cell_type": "code",
   "execution_count": 4,
   "metadata": {
    "execution": {
     "iopub.execute_input": "2025-01-01T23:06:46.024252Z",
     "iopub.status.busy": "2025-01-01T23:06:46.023785Z",
     "iopub.status.idle": "2025-01-01T23:06:46.165804Z",
     "shell.execute_reply": "2025-01-01T23:06:46.164880Z",
     "shell.execute_reply.started": "2025-01-01T23:06:46.024226Z"
    },
    "id": "DEzYlyeqTZqQ",
    "trusted": true
   },
   "outputs": [
    {
     "name": "stdout",
     "output_type": "stream",
     "text": [
      "Python 3.10.12\n",
      "2.2.0+cu118\n",
      "0.17.0+cpu\n"
     ]
    }
   ],
   "source": [
    "!python --version\n",
    "print(torch.__version__)\n",
    "print(torchtext.__version__)"
   ]
  },
  {
   "cell_type": "code",
   "execution_count": 5,
   "metadata": {
    "execution": {
     "iopub.execute_input": "2025-01-01T20:17:19.970306Z",
     "iopub.status.busy": "2025-01-01T20:17:19.970007Z",
     "iopub.status.idle": "2025-01-01T20:17:19.976084Z",
     "shell.execute_reply": "2025-01-01T20:17:19.975279Z",
     "shell.execute_reply.started": "2025-01-01T20:17:19.970282Z"
    },
    "id": "6DWjGTq6T8Jg",
    "trusted": true
   },
   "outputs": [
    {
     "name": "stdout",
     "output_type": "stream",
     "text": [
      "numpy --> 1.26.4\n",
      "torch --> 2.2.0+cu118\n",
      "torchtext --> 0.17.0+cpu\n"
     ]
    }
   ],
   "source": [
    "for lib in [np, torch, torchtext]:\n",
    "  print(lib.__name__, '-->', lib.__version__)"
   ]
  },
  {
   "cell_type": "markdown",
   "metadata": {
    "id": "RwaY_YcgRayy"
   },
   "source": [
    "# 🔴 **Utils**"
   ]
  },
  {
   "cell_type": "code",
   "execution_count": 5,
   "metadata": {
    "execution": {
     "iopub.execute_input": "2025-01-01T23:06:46.167526Z",
     "iopub.status.busy": "2025-01-01T23:06:46.167265Z",
     "iopub.status.idle": "2025-01-01T23:06:46.172917Z",
     "shell.execute_reply": "2025-01-01T23:06:46.171981Z",
     "shell.execute_reply.started": "2025-01-01T23:06:46.167503Z"
    },
    "id": "8yMS7bbmRayz",
    "trusted": true
   },
   "outputs": [],
   "source": [
    "class AverageMeter(object):\n",
    "    \"\"\"Computes and stores the average and current value\"\"\"\n",
    "    def __init__(self):\n",
    "        self.reset()\n",
    "\n",
    "    def reset(self):\n",
    "        self.val = 0\n",
    "        self.avg = 0\n",
    "        self.sum = 0\n",
    "        self.count = 0\n",
    "\n",
    "    def update(self, val, n=1):\n",
    "        self.val = val\n",
    "        self.sum += val * n\n",
    "        self.count += n\n",
    "        self.avg = self.sum / self.count"
   ]
  },
  {
   "cell_type": "code",
   "execution_count": 6,
   "metadata": {
    "execution": {
     "iopub.execute_input": "2025-01-01T23:06:46.174314Z",
     "iopub.status.busy": "2025-01-01T23:06:46.173810Z",
     "iopub.status.idle": "2025-01-01T23:06:46.187791Z",
     "shell.execute_reply": "2025-01-01T23:06:46.187159Z",
     "shell.execute_reply.started": "2025-01-01T23:06:46.174292Z"
    },
    "id": "PpKbTUEIRayz",
    "trusted": true
   },
   "outputs": [],
   "source": [
    "def num_trainable_params(model):\n",
    "  nums = sum(p.numel() for p in model.parameters() if p.requires_grad)/1e6\n",
    "  return nums"
   ]
  },
  {
   "cell_type": "markdown",
   "metadata": {
    "id": "RTql4Ftiunfr"
   },
   "source": [
    "# 🔴 **Dataset**"
   ]
  },
  {
   "cell_type": "markdown",
   "metadata": {
    "id": "ujIVtjsYvxOI"
   },
   "source": [
    "## 🟠 **Load the Dataset**"
   ]
  },
  {
   "cell_type": "markdown",
   "metadata": {
    "id": "Ek9DpCNCChzF"
   },
   "source": [
    "🔰 In this session you should load WikiText2 dataset."
   ]
  },
  {
   "cell_type": "code",
   "execution_count": 7,
   "metadata": {
    "execution": {
     "iopub.execute_input": "2025-01-01T23:06:46.188698Z",
     "iopub.status.busy": "2025-01-01T23:06:46.188520Z",
     "iopub.status.idle": "2025-01-01T23:06:51.056249Z",
     "shell.execute_reply": "2025-01-01T23:06:51.055447Z",
     "shell.execute_reply.started": "2025-01-01T23:06:46.188682Z"
    },
    "id": "ShYpXvVzVmP6",
    "trusted": true
   },
   "outputs": [
    {
     "data": {
      "application/vnd.jupyter.widget-view+json": {
       "model_id": "2f6fa815d4cf44269d25025d1aba3d17",
       "version_major": 2,
       "version_minor": 0
      },
      "text/plain": [
       "README.md:   0%|          | 0.00/10.5k [00:00<?, ?B/s]"
      ]
     },
     "metadata": {},
     "output_type": "display_data"
    },
    {
     "data": {
      "application/vnd.jupyter.widget-view+json": {
       "model_id": "a2ff1a71e6264263ad1fc43abd086995",
       "version_major": 2,
       "version_minor": 0
      },
      "text/plain": [
       "test-00000-of-00001.parquet:   0%|          | 0.00/733k [00:00<?, ?B/s]"
      ]
     },
     "metadata": {},
     "output_type": "display_data"
    },
    {
     "data": {
      "application/vnd.jupyter.widget-view+json": {
       "model_id": "4dc5c2f063414122b8611cda1adf69ac",
       "version_major": 2,
       "version_minor": 0
      },
      "text/plain": [
       "train-00000-of-00001.parquet:   0%|          | 0.00/6.36M [00:00<?, ?B/s]"
      ]
     },
     "metadata": {},
     "output_type": "display_data"
    },
    {
     "data": {
      "application/vnd.jupyter.widget-view+json": {
       "model_id": "11c134aa485f41999242d3f99ef624ad",
       "version_major": 2,
       "version_minor": 0
      },
      "text/plain": [
       "validation-00000-of-00001.parquet:   0%|          | 0.00/657k [00:00<?, ?B/s]"
      ]
     },
     "metadata": {},
     "output_type": "display_data"
    },
    {
     "data": {
      "application/vnd.jupyter.widget-view+json": {
       "model_id": "91bda1db4b214279a99350d1a888e690",
       "version_major": 2,
       "version_minor": 0
      },
      "text/plain": [
       "Generating test split:   0%|          | 0/4358 [00:00<?, ? examples/s]"
      ]
     },
     "metadata": {},
     "output_type": "display_data"
    },
    {
     "data": {
      "application/vnd.jupyter.widget-view+json": {
       "model_id": "3ee02f023be14106a606e1a313d5d462",
       "version_major": 2,
       "version_minor": 0
      },
      "text/plain": [
       "Generating train split:   0%|          | 0/36718 [00:00<?, ? examples/s]"
      ]
     },
     "metadata": {},
     "output_type": "display_data"
    },
    {
     "data": {
      "application/vnd.jupyter.widget-view+json": {
       "model_id": "9871ed31218745ef8da2b1b937a66a33",
       "version_major": 2,
       "version_minor": 0
      },
      "text/plain": [
       "Generating validation split:   0%|          | 0/3760 [00:00<?, ? examples/s]"
      ]
     },
     "metadata": {},
     "output_type": "display_data"
    },
    {
     "name": "stdout",
     "output_type": "stream",
     "text": [
      "DatasetDict({\n",
      "    test: Dataset({\n",
      "        features: ['text'],\n",
      "        num_rows: 4358\n",
      "    })\n",
      "    train: Dataset({\n",
      "        features: ['text'],\n",
      "        num_rows: 36718\n",
      "    })\n",
      "    validation: Dataset({\n",
      "        features: ['text'],\n",
      "        num_rows: 3760\n",
      "    })\n",
      "})\n"
     ]
    }
   ],
   "source": [
    "from datasets import load_dataset\n",
    "\n",
    "dataset = load_dataset(\"wikitext\", \"wikitext-2-raw-v1\")\n",
    "print(dataset)"
   ]
  },
  {
   "cell_type": "code",
   "execution_count": 8,
   "metadata": {
    "execution": {
     "iopub.execute_input": "2025-01-01T23:06:51.057455Z",
     "iopub.status.busy": "2025-01-01T23:06:51.057208Z",
     "iopub.status.idle": "2025-01-01T23:06:51.084026Z",
     "shell.execute_reply": "2025-01-01T23:06:51.083214Z",
     "shell.execute_reply.started": "2025-01-01T23:06:51.057435Z"
    },
    "trusted": true
   },
   "outputs": [
    {
     "name": "stdout",
     "output_type": "stream",
     "text": [
      "Lt. Col. Dunnington 's \" Returns for the month of August , 1862 , at Little Rock Arsenal , C.S.A. \n",
      ", \" are found in Vol . 149 , Chapter IV of the \" Captured Rebel Ordnance Records , \" \n",
      "and are most enlightening as to the scope of Confederate ordnance activities at Little Rock during this crucial time . \n",
      "According to Dunnington , \" When I assumed command at this Post , all material had been removed to Arkadelphia \n",
      ". There were no persons employed . No shops were open for repair of arms or for fabricating ammunition . \n",
      "Material , tools , etc . , had to be procured as well as the employment of laborers . Work \n",
      "commenced the last part of the month . \" "
     ]
    }
   ],
   "source": [
    "sample_text = dataset['train'][90]['text']\n",
    "for i, voc in enumerate(sample_text.split()):\n",
    "    print(voc, end=\" \")\n",
    "    if i%20 == 19:\n",
    "        print('')"
   ]
  },
  {
   "cell_type": "markdown",
   "metadata": {
    "id": "wCi-ofSLCzop"
   },
   "source": [
    "## 🟠 **Build vocabulary and save it**"
   ]
  },
  {
   "cell_type": "markdown",
   "metadata": {
    "id": "L02PHFuyNRb3"
   },
   "source": [
    "🔰 In this section we need to:\n",
    "\n",
    "*   Define a tokenizer using `basic_english`\n",
    "*   Tokenize the dataset and collect tokens\n",
    "*   Build the vocabulary using `build_vocab_from_iterator`\n",
    "*   Manually insert special tokens and set the default index\n"
   ]
  },
  {
   "cell_type": "code",
   "execution_count": 9,
   "metadata": {
    "execution": {
     "iopub.execute_input": "2025-01-01T23:06:51.086779Z",
     "iopub.status.busy": "2025-01-01T23:06:51.086546Z",
     "iopub.status.idle": "2025-01-01T23:06:54.326990Z",
     "shell.execute_reply": "2025-01-01T23:06:54.326317Z",
     "shell.execute_reply.started": "2025-01-01T23:06:51.086758Z"
    },
    "id": "dlJ6Q6xCVuf0",
    "trusted": true
   },
   "outputs": [
    {
     "data": {
      "application/vnd.jupyter.widget-view+json": {
       "model_id": "9b01e3866fe846b99cffa70968a10b51",
       "version_major": 2,
       "version_minor": 0
      },
      "text/plain": [
       "Map:   0%|          | 0/4358 [00:00<?, ? examples/s]"
      ]
     },
     "metadata": {},
     "output_type": "display_data"
    },
    {
     "data": {
      "application/vnd.jupyter.widget-view+json": {
       "model_id": "1c1eb0492e7d4f028d33e7d754df2ea4",
       "version_major": 2,
       "version_minor": 0
      },
      "text/plain": [
       "Map:   0%|          | 0/36718 [00:00<?, ? examples/s]"
      ]
     },
     "metadata": {},
     "output_type": "display_data"
    },
    {
     "data": {
      "application/vnd.jupyter.widget-view+json": {
       "model_id": "2a332264c4dc47d9bdbae241476c06e1",
       "version_major": 2,
       "version_minor": 0
      },
      "text/plain": [
       "Map:   0%|          | 0/3760 [00:00<?, ? examples/s]"
      ]
     },
     "metadata": {},
     "output_type": "display_data"
    },
    {
     "name": "stdout",
     "output_type": "stream",
     "text": [
      "lt . col . dunnington ' s returns for the month of august , 1862 , at little rock arsenal \n",
      ", c . s . a . , are found in vol . 149 , chapter iv of the captured \n",
      "rebel ordnance records , and are most enlightening as to the scope of confederate ordnance activities at little rock during \n",
      "this crucial time . according to dunnington , when i assumed command at this post , all material had been \n",
      "removed to arkadelphia . there were no persons employed . no shops were open for repair of arms or for \n",
      "fabricating ammunition . material , tools , etc . , had to be procured as well as the employment of \n",
      "laborers . work commenced the last part of the month . "
     ]
    }
   ],
   "source": [
    "import torchtext\n",
    "from torchtext.data import get_tokenizer\n",
    "from torchtext.vocab import build_vocab_from_iterator\n",
    "\n",
    "tokenizer = torchtext.data.get_tokenizer('basic_english')\n",
    "tokenize_data = lambda example, tokenizer: {'tokens': tokenizer(example['text'])}\n",
    "tokenized_dataset = dataset.map(tokenize_data, remove_columns=['text'], fn_kwargs={'tokenizer': tokenizer})\n",
    "\n",
    "sample_text = tokenized_dataset['train'][90]['tokens']\n",
    "for i, voc in enumerate(sample_text):\n",
    "    print(voc, end=\" \")\n",
    "    if i%20 == 19:\n",
    "        print('')"
   ]
  },
  {
   "cell_type": "code",
   "execution_count": 10,
   "metadata": {
    "execution": {
     "iopub.execute_input": "2025-01-01T23:06:54.328681Z",
     "iopub.status.busy": "2025-01-01T23:06:54.328475Z",
     "iopub.status.idle": "2025-01-01T23:06:56.771877Z",
     "shell.execute_reply": "2025-01-01T23:06:56.771188Z",
     "shell.execute_reply.started": "2025-01-01T23:06:54.328663Z"
    },
    "trusted": true
   },
   "outputs": [
    {
     "name": "stdout",
     "output_type": "stream",
     "text": [
      "Vocab length is: 20923\n",
      "['<unk>', '<eos>', 'the', ',', '.', 'of', 'and', 'in', 'to', 'a', '=', 'was', \"'\", '@-@', 'on', 'as', 's', 'that', 'for', 'with']\n"
     ]
    }
   ],
   "source": [
    "vocab = build_vocab_from_iterator(tokenized_dataset['train']['tokens'], min_freq=5) \n",
    "vocab.insert_token('<unk>', 0)           \n",
    "vocab.insert_token('<eos>', 1)            \n",
    "vocab.set_default_index(vocab['<unk>'])   \n",
    "print(f'Vocab length is: {len(vocab)}')                         \n",
    "print(vocab.get_itos()[:20])  # itos: index to string  "
   ]
  },
  {
   "cell_type": "markdown",
   "metadata": {
    "id": "B29jrEvwRqXA"
   },
   "source": [
    "## 🟠 EDA"
   ]
  },
  {
   "cell_type": "markdown",
   "metadata": {
    "id": "pHtoYxEPd3bL"
   },
   "source": [
    "### 🟡 Let's explore the WikiText2 dataset!"
   ]
  },
  {
   "cell_type": "markdown",
   "metadata": {
    "id": "A3rnR739GbYb"
   },
   "source": [
    "### 🟡 Calculate basic statistics such as the number of documents, total words, average document length, etc."
   ]
  },
  {
   "cell_type": "code",
   "execution_count": 11,
   "metadata": {
    "execution": {
     "iopub.execute_input": "2025-01-01T23:06:56.772959Z",
     "iopub.status.busy": "2025-01-01T23:06:56.772664Z",
     "iopub.status.idle": "2025-01-01T23:06:56.777689Z",
     "shell.execute_reply": "2025-01-01T23:06:56.776833Z",
     "shell.execute_reply.started": "2025-01-01T23:06:56.772936Z"
    },
    "id": "jHVKeKwk2WaG",
    "trusted": true
   },
   "outputs": [
    {
     "name": "stdout",
     "output_type": "stream",
     "text": [
      "DatasetDict({\n",
      "    test: Dataset({\n",
      "        features: ['text'],\n",
      "        num_rows: 4358\n",
      "    })\n",
      "    train: Dataset({\n",
      "        features: ['text'],\n",
      "        num_rows: 36718\n",
      "    })\n",
      "    validation: Dataset({\n",
      "        features: ['text'],\n",
      "        num_rows: 3760\n",
      "    })\n",
      "})\n",
      "number of documents: 44836\n"
     ]
    }
   ],
   "source": [
    "print(dataset)\n",
    "print(f\"number of documents: {len(dataset['test'])+ len(dataset['validation'])+ len(dataset['train'])}\")"
   ]
  },
  {
   "cell_type": "code",
   "execution_count": 12,
   "metadata": {
    "execution": {
     "iopub.execute_input": "2025-01-01T23:06:56.778887Z",
     "iopub.status.busy": "2025-01-01T23:06:56.778587Z",
     "iopub.status.idle": "2025-01-01T23:06:58.157649Z",
     "shell.execute_reply": "2025-01-01T23:06:58.156947Z",
     "shell.execute_reply.started": "2025-01-01T23:06:56.778857Z"
    },
    "trusted": true
   },
   "outputs": [
    {
     "data": {
      "image/png": "[encoded data removed]",
      "text/plain": [
       "<Figure size 1000x600 with 1 Axes>"
      ]
     },
     "metadata": {},
     "output_type": "display_data"
    },
    {
     "name": "stdout",
     "output_type": "stream",
     "text": [
      "Total words: 2051910\n",
      "Average document length: 55\n",
      "99.9% of the sentences have 425 words.\n"
     ]
    }
   ],
   "source": [
    "sentences = dataset['train']['text']\n",
    "word_count = [len(sentence.split()) for sentence in sentences]\n",
    "# Plot the distribution of word counts\n",
    "plt.figure(figsize=(10, 6))\n",
    "plt.hist(word_count, \n",
    "         bins=range(1, max(word_count) + 2),\n",
    "         zorder=2, \n",
    "         edgecolor='black')\n",
    "plt.title('Distributoin of Sentences Length')\n",
    "plt.xlabel('sentence length')\n",
    "plt.ylabel('Frequency')\n",
    "plt.grid()\n",
    "plt.show()\n",
    "\n",
    "print(f'Total words: {sum(word_count)}')\n",
    "print(f'Average document length: {sum(word_count)//len(word_count)}')\n",
    "\n",
    "p = 99.9\n",
    "maximum_length = int(np.percentile(word_count, p))\n",
    "print(f\"{p}% of the sentences have {maximum_length} words.\")"
   ]
  },
  {
   "cell_type": "code",
   "execution_count": 13,
   "metadata": {
    "execution": {
     "iopub.execute_input": "2025-01-01T23:06:58.158647Z",
     "iopub.status.busy": "2025-01-01T23:06:58.158431Z",
     "iopub.status.idle": "2025-01-01T23:06:58.163368Z",
     "shell.execute_reply": "2025-01-01T23:06:58.162475Z",
     "shell.execute_reply.started": "2025-01-01T23:06:58.158629Z"
    },
    "trusted": true
   },
   "outputs": [
    {
     "name": "stdout",
     "output_type": "stream",
     "text": [
      "Vocab length is: 20923\n"
     ]
    }
   ],
   "source": [
    "print(f'Vocab length is: {len(vocab)}')"
   ]
  },
  {
   "cell_type": "markdown",
   "metadata": {
    "id": "a4HyLPqcsF43"
   },
   "source": [
    "### 🟡 Analyze the most common and least common words in the dataset."
   ]
  },
  {
   "cell_type": "code",
   "execution_count": 14,
   "metadata": {
    "execution": {
     "iopub.execute_input": "2025-01-01T23:06:58.164325Z",
     "iopub.status.busy": "2025-01-01T23:06:58.164067Z",
     "iopub.status.idle": "2025-01-01T23:07:00.356904Z",
     "shell.execute_reply": "2025-01-01T23:07:00.356166Z",
     "shell.execute_reply.started": "2025-01-01T23:06:58.164305Z"
    },
    "id": "cBnEjagdTN8n",
    "trusted": true
   },
   "outputs": [
    {
     "name": "stdout",
     "output_type": "stream",
     "text": [
      "Most Frequent Tokens:\n",
      "  Token   Count\n",
      "0   the  130770\n",
      "1     ,  102624\n",
      "2     .   84291\n",
      "3    of   57032\n",
      "4   and   50736\n",
      "5    in   45018\n",
      "6    to   39522\n",
      "7     a   36564\n",
      "8     =   29570\n",
      "9   was   21008\n",
      "\n",
      "Least Frequent Tokens(<10): 45136\n",
      "         Token  Count\n",
      "0   unrecorded      4\n",
      "1  戦場のヴァルキュリア3      3\n",
      "2      europan      3\n",
      "3     calamaty      1\n",
      "4    forgiving      1\n",
      "5        raita      2\n",
      "6       honjou      3\n",
      "7      hitoshi      3\n",
      "8        ozawa      3\n",
      "9        azure      4\n"
     ]
    }
   ],
   "source": [
    "import pandas as pd\n",
    "from collections import Counter\n",
    "\n",
    "# Get the counts of tokens\n",
    "token_counts = Counter(token for tokens in tokenized_dataset['train']['tokens'] for token in tokens)\n",
    "\n",
    "# Find the most and least frequent tokens\n",
    "most_frequent_tokens = token_counts.most_common(10)\n",
    "least_frequent_tokens = [(token, count) for token, count in token_counts.items() if count < 5]\n",
    "\n",
    "# Create DataFrames\n",
    "most_frequent_df = pd.DataFrame(most_frequent_tokens, columns=['Token', 'Count'])\n",
    "least_frequent_df = pd.DataFrame(least_frequent_tokens[:10], columns=['Token', 'Count'])\n",
    "\n",
    "# Display DataFrames\n",
    "print(\"Most Frequent Tokens:\")\n",
    "print(most_frequent_df)\n",
    "\n",
    "print(f\"\\nLeast Frequent Tokens(<10): {len(least_frequent_tokens)}\")\n",
    "print(least_frequent_df)\n"
   ]
  },
  {
   "cell_type": "markdown",
   "metadata": {
    "id": "cfBasjQCE_aI"
   },
   "source": [
    "### 🟡  Please proceed with further exploration of the dataset. what do you suggest?"
   ]
  },
  {
   "cell_type": "code",
   "execution_count": 15,
   "metadata": {
    "execution": {
     "iopub.execute_input": "2025-01-01T23:07:00.357928Z",
     "iopub.status.busy": "2025-01-01T23:07:00.357666Z",
     "iopub.status.idle": "2025-01-01T23:07:00.361220Z",
     "shell.execute_reply": "2025-01-01T23:07:00.360307Z",
     "shell.execute_reply.started": "2025-01-01T23:07:00.357907Z"
    },
    "id": "yR8uQsv4E_aJ",
    "trusted": true
   },
   "outputs": [],
   "source": [
    "# I suggest distribution of sentences length."
   ]
  },
  {
   "cell_type": "markdown",
   "metadata": {
    "id": "idRexFij4wgN"
   },
   "source": [
    "## 🟠 Transform the data"
   ]
  },
  {
   "cell_type": "markdown",
   "metadata": {
    "id": "2VjvBOtvHu2v"
   },
   "source": [
    "🛑 Make sure to perform the transformations on train, validation and test datasets."
   ]
  },
  {
   "cell_type": "markdown",
   "metadata": {
    "id": "ApisIcGeGSsJ"
   },
   "source": [
    "🔰 Reshape the dataset into an `N x B x L` or `M x L` format, where `N` represents the number of batches, `B` is the batch size, `L` is the length of a sample within each batch, and `M` is equal to `N x B`."
   ]
  },
  {
   "cell_type": "code",
   "execution_count": 16,
   "metadata": {
    "execution": {
     "iopub.execute_input": "2025-01-01T23:07:00.362331Z",
     "iopub.status.busy": "2025-01-01T23:07:00.362055Z",
     "iopub.status.idle": "2025-01-01T23:07:00.377943Z",
     "shell.execute_reply": "2025-01-01T23:07:00.377240Z",
     "shell.execute_reply.started": "2025-01-01T23:07:00.362313Z"
    },
    "id": "ocxM8YdsWH-1",
    "trusted": true
   },
   "outputs": [],
   "source": [
    "def get_data(dataset, vocab, batch_size):\n",
    "    data = []                                                   \n",
    "    for example in dataset:\n",
    "        if example['tokens']:                                      \n",
    "            tokens = example['tokens'].append('<eos>')             \n",
    "            tokens = [vocab[token] for token in example['tokens']] \n",
    "            data.extend(tokens)                                    \n",
    "    data = torch.LongTensor(data)                                 \n",
    "    num_batches = data.shape[0] // batch_size \n",
    "    data = data[:num_batches * batch_size]                       \n",
    "    data = data.view(batch_size, num_batches)          \n",
    "    return data"
   ]
  },
  {
   "cell_type": "code",
   "execution_count": 17,
   "metadata": {
    "execution": {
     "iopub.execute_input": "2025-01-01T23:07:00.378913Z",
     "iopub.status.busy": "2025-01-01T23:07:00.378726Z",
     "iopub.status.idle": "2025-01-01T23:07:04.872161Z",
     "shell.execute_reply": "2025-01-01T23:07:04.871483Z",
     "shell.execute_reply.started": "2025-01-01T23:07:00.378897Z"
    },
    "id": "4GndG2B0WPIb",
    "trusted": true
   },
   "outputs": [],
   "source": [
    "batch_size = 128\n",
    "train_data = get_data(tokenized_dataset['train'], vocab, batch_size)\n",
    "valid_data = get_data(tokenized_dataset['validation'], vocab, batch_size)\n",
    "test_data = get_data(tokenized_dataset['test'], vocab, batch_size)"
   ]
  },
  {
   "cell_type": "code",
   "execution_count": 18,
   "metadata": {
    "execution": {
     "iopub.execute_input": "2025-01-01T23:07:04.873157Z",
     "iopub.status.busy": "2025-01-01T23:07:04.872906Z",
     "iopub.status.idle": "2025-01-01T23:07:04.877610Z",
     "shell.execute_reply": "2025-01-01T23:07:04.876763Z",
     "shell.execute_reply.started": "2025-01-01T23:07:04.873132Z"
    },
    "trusted": true
   },
   "outputs": [
    {
     "name": "stdout",
     "output_type": "stream",
     "text": [
      "torch.Size([128, 16214])\n"
     ]
    }
   ],
   "source": [
    "print(train_data.shape)"
   ]
  },
  {
   "cell_type": "markdown",
   "metadata": {
    "id": "PgLgP04P4-aX"
   },
   "source": [
    "## 🟠 Custom dataset"
   ]
  },
  {
   "cell_type": "markdown",
   "metadata": {
    "id": "XkxH_IR2PBNq"
   },
   "source": [
    "🔰 Write a custom dataset class for LanguageModelDataset."
   ]
  },
  {
   "cell_type": "code",
   "execution_count": 19,
   "metadata": {
    "execution": {
     "iopub.execute_input": "2025-01-01T23:07:04.878813Z",
     "iopub.status.busy": "2025-01-01T23:07:04.878488Z",
     "iopub.status.idle": "2025-01-01T23:07:04.895712Z",
     "shell.execute_reply": "2025-01-01T23:07:04.894934Z",
     "shell.execute_reply.started": "2025-01-01T23:07:04.878785Z"
    },
    "id": "1cjpSkrtexap",
    "trusted": true
   },
   "outputs": [],
   "source": [
    "class LanguageModelDataset(Dataset):\n",
    "    def __init__(self, data, seq_len):\n",
    "        self.data = data\n",
    "        self.seq_len = seq_len\n",
    "        self.batch_size, self.total_seq_len = data.shape\n",
    "\n",
    "        # Calculate number of splits (N) correctly\n",
    "        self.num_splits = (self.total_seq_len + seq_len - 1) // seq_len\n",
    "\n",
    "    def __len__(self):\n",
    "        return self.num_splits\n",
    "\n",
    "    def __getitem__(self, idx):\n",
    "        if idx >= self.num_splits:\n",
    "            raise IndexError(\"Index out of range\")\n",
    "\n",
    "        start_idx = idx * self.seq_len\n",
    "        end_idx = start_idx + self.seq_len\n",
    "\n",
    "        # Handle overlap for the last submatrix\n",
    "        if end_idx > self.total_seq_len-1:\n",
    "            end_idx = self.total_seq_len-1\n",
    "            start_idx = max(0, end_idx - self.seq_len)\n",
    "\n",
    "        inputs = self.data[:, start_idx:end_idx]\n",
    "        targets = self.data[:, start_idx + 1:end_idx + 1]\n",
    "\n",
    "        return inputs, targets\n"
   ]
  },
  {
   "cell_type": "code",
   "execution_count": 20,
   "metadata": {
    "execution": {
     "iopub.execute_input": "2025-01-01T23:07:04.896801Z",
     "iopub.status.busy": "2025-01-01T23:07:04.896525Z",
     "iopub.status.idle": "2025-01-01T23:07:04.916844Z",
     "shell.execute_reply": "2025-01-01T23:07:04.916252Z",
     "shell.execute_reply.started": "2025-01-01T23:07:04.896773Z"
    },
    "id": "o0qUkL0CfQmr",
    "trusted": true
   },
   "outputs": [
    {
     "name": "stdout",
     "output_type": "stream",
     "text": [
      "Inputs: torch.Size([128, 100])\n",
      "Targets: torch.Size([128, 100])\n"
     ]
    }
   ],
   "source": [
    "seq_len = 100\n",
    "\n",
    "# Create dataset objects\n",
    "train_dataset = LanguageModelDataset(train_data, seq_len)\n",
    "valid_dataset = LanguageModelDataset(valid_data, seq_len)\n",
    "test_dataset = LanguageModelDataset(test_data, seq_len)\n",
    "\n",
    "inputs, targets = train_dataset[0]\n",
    "print(\"Inputs:\", inputs.shape)  # Should be [batch_size, seq_len]\n",
    "print(\"Targets:\", targets.shape)  # Should be [batch_size, seq_len]\n"
   ]
  },
  {
   "cell_type": "code",
   "execution_count": 21,
   "metadata": {
    "execution": {
     "iopub.execute_input": "2025-01-01T23:07:04.917767Z",
     "iopub.status.busy": "2025-01-01T23:07:04.917559Z",
     "iopub.status.idle": "2025-01-01T23:07:04.931543Z",
     "shell.execute_reply": "2025-01-01T23:07:04.930880Z",
     "shell.execute_reply.started": "2025-01-01T23:07:04.917749Z"
    },
    "trusted": true
   },
   "outputs": [
    {
     "name": "stdout",
     "output_type": "stream",
     "text": [
      "Number of samples: 163\n",
      "Sample data shape: torch.Size([128, 100])\n",
      "Sample target shape: torch.Size([128, 100])\n"
     ]
    }
   ],
   "source": [
    "num_samples = len(train_dataset)\n",
    "sample_data_shape = train_dataset[0][0].shape  # Shape of the first data sample\n",
    "sample_target_shape = train_dataset[0][1].shape  # Shape of the first target sample\n",
    "\n",
    "print(f\"Number of samples: {num_samples}\")\n",
    "print(f\"Sample data shape: {sample_data_shape}\")    # Shape: [seq_len, feature_dim]\n",
    "print(f\"Sample target shape: {sample_target_shape}\")  # Shape: [target_dim]"
   ]
  },
  {
   "cell_type": "code",
   "execution_count": 22,
   "metadata": {
    "execution": {
     "iopub.execute_input": "2025-01-01T23:07:04.932595Z",
     "iopub.status.busy": "2025-01-01T23:07:04.932322Z",
     "iopub.status.idle": "2025-01-01T23:07:04.946994Z",
     "shell.execute_reply": "2025-01-01T23:07:04.946328Z",
     "shell.execute_reply.started": "2025-01-01T23:07:04.932567Z"
    },
    "trusted": true
   },
   "outputs": [
    {
     "name": "stdout",
     "output_type": "stream",
     "text": [
      "torch.Size([128, 100])\n"
     ]
    }
   ],
   "source": [
    "print((train_dataset[162][1].shape))"
   ]
  },
  {
   "cell_type": "markdown",
   "metadata": {
    "id": "NCQjacybOfqV"
   },
   "source": [
    "## 🟠 Define a dataloader if needed"
   ]
  },
  {
   "cell_type": "markdown",
   "metadata": {
    "id": "HqKMEyFNS-1a"
   },
   "source": [
    "🔰 Write dataloaders for the training, validation, and test sets.\n",
    "## we don't need that."
   ]
  },
  {
   "cell_type": "markdown",
   "metadata": {
    "id": "3ttl0AK3Hvyh"
   },
   "source": [
    "# 🔴 **Model**"
   ]
  },
  {
   "cell_type": "markdown",
   "metadata": {
    "id": "06p-oBowTf-R"
   },
   "source": [
    "🔰 Use the following template to create a custom model.\n",
    "\n",
    "Your model should consist of three parts:\n",
    "\n",
    "*   an embedding layer\n",
    "*   an LSTM layer\n",
    "*   a fully connected layer"
   ]
  },
  {
   "cell_type": "code",
   "execution_count": 5,
   "metadata": {
    "execution": {
     "iopub.execute_input": "2025-01-01T23:07:04.947996Z",
     "iopub.status.busy": "2025-01-01T23:07:04.947762Z",
     "iopub.status.idle": "2025-01-01T23:07:04.957962Z",
     "shell.execute_reply": "2025-01-01T23:07:04.957176Z",
     "shell.execute_reply.started": "2025-01-01T23:07:04.947977Z"
    },
    "id": "ISnnHE0BMVqp",
    "trusted": true
   },
   "outputs": [],
   "source": [
    "class LSTM(nn.Module):\n",
    "    def __init__(self, vocab_size, embedding_dim, hidden_dim, num_layers, dropout_rate, tie_weights):\n",
    "        super().__init__()\n",
    "        self.num_layers = num_layers\n",
    "        self.hidden_dim = hidden_dim\n",
    "        self.embedding_dim = embedding_dim\n",
    "\n",
    "        self.embedding = nn.Embedding(vocab_size, embedding_dim)\n",
    "        self.lstm = nn.LSTM(embedding_dim, hidden_dim, num_layers=num_layers, dropout=dropout_rate, batch_first=True)\n",
    "        self.dropout = nn.Dropout(dropout_rate)\n",
    "        self.fc = nn.Linear(hidden_dim, vocab_size)\n",
    "        \n",
    "        if tie_weights:\n",
    "            assert embedding_dim == hidden_dim, 'embedding_dim must equal hidden_dim'\n",
    "            self.embedding.weight = self.fc.weight\n",
    "            \n",
    "            \n",
    "        self.init_weights()\n",
    "\n",
    "    def forward(self, src, hidden):\n",
    "        embedding = self.dropout(self.embedding(src))\n",
    "        output, hidden = self.lstm(embedding, hidden)          \n",
    "        output = self.dropout(output) \n",
    "        prediction = self.fc(output)\n",
    "        return prediction, hidden\n",
    "\n",
    "    def init_weights(self):\n",
    "        init_range_emb = 0.1\n",
    "        init_range_other = 1/math.sqrt(self.hidden_dim)\n",
    "        self.embedding.weight.data.uniform_(-init_range_emb, init_range_emb)\n",
    "        self.fc.weight.data.uniform_(-init_range_other, init_range_other)\n",
    "        self.fc.bias.data.zero_()\n",
    "        for i in range(self.num_layers):\n",
    "            self.lstm.all_weights[i][0] = torch.FloatTensor(self.embedding_dim, self.hidden_dim).uniform_(-init_range_other, init_range_other) \n",
    "            self.lstm.all_weights[i][1] = torch.FloatTensor(self.hidden_dim, self.hidden_dim).uniform_(-init_range_other, init_range_other) \n",
    "\n",
    "    def init_hidden(self, batch_size, device):\n",
    "        hidden = torch.zeros(self.num_layers, batch_size, self.hidden_dim).to(device)\n",
    "        cell = torch.zeros(self.num_layers, batch_size, self.hidden_dim).to(device)\n",
    "        return hidden, cell\n",
    "\n",
    "    # We don't need to learn the hidden state so we can detach it from the computation graph\n",
    "    def detach_hidden(self, hidden):\n",
    "        hidden, cell = hidden\n",
    "        hidden = hidden.detach()\n",
    "        cell = cell.detach()\n",
    "        return hidden, cell"
   ]
  },
  {
   "cell_type": "markdown",
   "metadata": {
    "id": "24qT-sgUO2-d"
   },
   "source": [
    "# 🔴 **Config**"
   ]
  },
  {
   "cell_type": "code",
   "execution_count": 24,
   "metadata": {
    "execution": {
     "iopub.execute_input": "2025-01-01T23:07:04.961165Z",
     "iopub.status.busy": "2025-01-01T23:07:04.960921Z",
     "iopub.status.idle": "2025-01-01T23:07:04.975769Z",
     "shell.execute_reply": "2025-01-01T23:07:04.974952Z",
     "shell.execute_reply.started": "2025-01-01T23:07:04.961145Z"
    },
    "id": "Ma28M5Z36gsq",
    "trusted": true
   },
   "outputs": [
    {
     "data": {
      "text/plain": [
       "'cuda'"
      ]
     },
     "execution_count": 24,
     "metadata": {},
     "output_type": "execute_result"
    }
   ],
   "source": [
    "device = 'cuda' if torch.cuda.is_available() else 'cpu'\n",
    "device"
   ]
  },
  {
   "cell_type": "markdown",
   "metadata": {
    "id": "bwYDJKjuduUT"
   },
   "source": [
    "🔰 Define the optimizer, loss function, metrics and other necessary parameters in this section, and ensure the model is sent to the appropriate device."
   ]
  },
  {
   "cell_type": "code",
   "execution_count": 7,
   "metadata": {
    "execution": {
     "iopub.execute_input": "2025-01-01T23:07:04.977137Z",
     "iopub.status.busy": "2025-01-01T23:07:04.976817Z",
     "iopub.status.idle": "2025-01-01T23:07:04.989185Z",
     "shell.execute_reply": "2025-01-01T23:07:04.988322Z",
     "shell.execute_reply.started": "2025-01-01T23:07:04.977084Z"
    },
    "trusted": true
   },
   "outputs": [],
   "source": [
    "vocab_size = len(vocab)\n",
    "embedding_dim = 1024            \n",
    "hidden_dim = 1024                \n",
    "num_layers = 2                   \n",
    "dropout_rate = 0.65             \n",
    "tie_weights = True                  "
   ]
  },
  {
   "cell_type": "code",
   "execution_count": 26,
   "metadata": {
    "execution": {
     "iopub.execute_input": "2025-01-01T23:07:04.990150Z",
     "iopub.status.busy": "2025-01-01T23:07:04.989911Z",
     "iopub.status.idle": "2025-01-01T23:07:05.144351Z",
     "shell.execute_reply": "2025-01-01T23:07:05.143601Z",
     "shell.execute_reply.started": "2025-01-01T23:07:04.990125Z"
    },
    "id": "9ubk3xKaIG6i",
    "trusted": true
   },
   "outputs": [],
   "source": [
    "# Loss and optimizer\n",
    "loss_fn = nn.CrossEntropyLoss().to(device)\n",
    "\n",
    "class Perplexity(tm.Metric):\n",
    "    def __init__(self):\n",
    "        super().__init__()\n",
    "        self.add_state(\"loss\", default=torch.tensor(0.0), dist_reduce_fx=\"sum\")  # Initialize as tensor\n",
    "        self.add_state(\"count\", default=torch.tensor(0.0), dist_reduce_fx=\"sum\")  # Initialize as tensor\n",
    "\n",
    "    def update(self, preds, targets):\n",
    "        # Compute the loss\n",
    "        loss = loss_fn(preds.view(-1, vocab_size), targets.view(-1))\n",
    "        self.loss += loss * targets.size(0)  # Cumulative loss\n",
    "        self.count += targets.size(0)  # Cumulative count of tokens\n",
    "\n",
    "    def compute(self):\n",
    "        return torch.exp(self.loss / self.count)  # Calculate perplexity\n",
    "\n",
    "# Instantiate the perplexity metric\n",
    "metric = Perplexity().to(device)"
   ]
  },
  {
   "cell_type": "markdown",
   "metadata": {
    "id": "W0QNbC0YPCKZ"
   },
   "source": [
    "# 🔴 **Train ➰**"
   ]
  },
  {
   "cell_type": "markdown",
   "metadata": {
    "id": "yS6EF4HUhi5e"
   },
   "source": [
    "🔰 This is the template for train function, change it if needed."
   ]
  },
  {
   "cell_type": "code",
   "execution_count": 27,
   "metadata": {
    "execution": {
     "iopub.execute_input": "2025-01-01T23:07:05.145432Z",
     "iopub.status.busy": "2025-01-01T23:07:05.145204Z",
     "iopub.status.idle": "2025-01-01T23:07:05.152002Z",
     "shell.execute_reply": "2025-01-01T23:07:05.151123Z",
     "shell.execute_reply.started": "2025-01-01T23:07:05.145414Z"
    },
    "id": "WniOAgk0QyRI",
    "trusted": true
   },
   "outputs": [],
   "source": [
    "def train(model, data_loader, loss_fn, optimizer, metric, device):\n",
    "    epoch_loss = 0\n",
    "    model.train()\n",
    "    loss_train = AverageMeter()\n",
    "    metric.reset()\n",
    "    \n",
    "    # Get batch size and sequence length from the first batch\n",
    "    tmp, _ = next(iter(data_loader))\n",
    "    batch_size = tmp.shape[0]\n",
    "    seq_len = tmp.shape[1]\n",
    "\n",
    "    hidden = model.init_hidden(batch_size, device)\n",
    "    \n",
    "    tepoch = tqdm(data_loader, desc=\"Training\", leave=True)\n",
    "    \n",
    "    for data in tepoch: \n",
    "        inputs, targets = data\n",
    "        \n",
    "        inputs, targets = inputs.to(device), targets.to(device)\n",
    "        \n",
    "        optimizer.zero_grad()\n",
    "        hidden = model.detach_hidden(hidden)\n",
    "\n",
    "        prediction, hidden = model(inputs, hidden)  \n",
    "        prediction = prediction.reshape(batch_size * seq_len, -1)   \n",
    "        target = targets.reshape(-1)\n",
    "        loss = loss_fn(prediction, target)\n",
    "        \n",
    "        loss.backward()\n",
    "        torch.nn.utils.clip_grad_norm_(model.parameters(), 0.25)\n",
    "        \n",
    "        optimizer.step()\n",
    "        \n",
    "        loss_train.update(loss.item(), n=len(targets))\n",
    "        metric.update(prediction, targets) \n",
    "        \n",
    "        epoch_loss += loss.item() * seq_len\n",
    "        \n",
    "        tepoch.set_postfix(loss=loss_train.avg, metric=metric.compute().item())\n",
    "    \n",
    "    return model, loss_train.avg, metric.compute().item()\n"
   ]
  },
  {
   "cell_type": "markdown",
   "metadata": {
    "id": "G9HgVWslPGsH"
   },
   "source": [
    "# 🔴 **Evaluation**"
   ]
  },
  {
   "cell_type": "markdown",
   "metadata": {
    "id": "TsszJ7GVj2l3"
   },
   "source": [
    "🔰 This is the template for evaluation function, change it if needed."
   ]
  },
  {
   "cell_type": "code",
   "execution_count": 28,
   "metadata": {
    "execution": {
     "iopub.execute_input": "2025-01-01T23:07:05.153142Z",
     "iopub.status.busy": "2025-01-01T23:07:05.152847Z",
     "iopub.status.idle": "2025-01-01T23:07:05.169927Z",
     "shell.execute_reply": "2025-01-01T23:07:05.169256Z",
     "shell.execute_reply.started": "2025-01-01T23:07:05.153081Z"
    },
    "id": "uV0_67_ZQ0xf",
    "trusted": true
   },
   "outputs": [],
   "source": [
    "def evaluate(model, data_loader, loss_fn, metric):\n",
    "    model.eval()\n",
    "    loss_eval = AverageMeter()\n",
    "    metric.reset()\n",
    "\n",
    "    # Get batch size and sequence length from the first batch\n",
    "    tmp, _ = next(iter(data_loader))\n",
    "    batch_size = tmp.shape[0]\n",
    "    seq_len = tmp.shape[1]\n",
    "\n",
    "    hidden = model.init_hidden(batch_size, device)\n",
    "\n",
    "    with torch.no_grad():\n",
    "        for inputs, targets in tqdm(data_loader, desc=\"Evaluating\", leave=True):\n",
    "            inputs = inputs.to(device)\n",
    "            targets = targets.to(device)\n",
    "            \n",
    "            hidden = model.detach_hidden(hidden)\n",
    "            \n",
    "            prediction, hidden = model(inputs, hidden)  \n",
    "            prediction = prediction.reshape(batch_size * seq_len, -1)   \n",
    "            target = targets.reshape(-1) \n",
    "            loss = loss_fn(prediction, target)\n",
    "            \n",
    "            loss_eval.update(loss.item(), n=len(targets))\n",
    "            \n",
    "            metric(prediction, targets)\n",
    "\n",
    "    return loss_eval.avg, metric.compute().item()\n"
   ]
  },
  {
   "cell_type": "markdown",
   "metadata": {
    "id": "o_5f69nwPtY2"
   },
   "source": [
    "# 🔴 **Training Process 〽️**"
   ]
  },
  {
   "cell_type": "markdown",
   "metadata": {
    "id": "De7VreNxQdct"
   },
   "source": [
    "## 🟠 Finding Hyper-parameters"
   ]
  },
  {
   "cell_type": "markdown",
   "metadata": {
    "id": "lpJ3wtyctQJH"
   },
   "source": [
    "### 🟡 **Step 1:** Calculate the loss for an untrained model using a few batches.\n"
   ]
  },
  {
   "cell_type": "code",
   "execution_count": 30,
   "metadata": {
    "execution": {
     "iopub.execute_input": "2025-01-01T23:07:56.794736Z",
     "iopub.status.busy": "2025-01-01T23:07:56.794443Z",
     "iopub.status.idle": "2025-01-01T23:07:59.082736Z",
     "shell.execute_reply": "2025-01-01T23:07:59.081952Z",
     "shell.execute_reply.started": "2025-01-01T23:07:56.794715Z"
    },
    "id": "QnE4F4GkzzaR",
    "trusted": true
   },
   "outputs": [
    {
     "name": "stdout",
     "output_type": "stream",
     "text": [
      "The number of learnable parameters: 38.239675\n",
      "tensor(9.9488, device='cuda:0')\n"
     ]
    }
   ],
   "source": [
    "model = LSTM(vocab_size, embedding_dim, hidden_dim, num_layers, dropout_rate, tie_weights).to(device)\n",
    "print(f\"The number of learnable parameters: {num_trainable_params(model)}\")\n",
    "\n",
    "loss = 0\n",
    "for i in range(20, 30):\n",
    "  inputs, targets = ((train_dataset[i]))\n",
    "  inputs = inputs.to(device)\n",
    "  targets = targets.to(device)\n",
    "\n",
    "  with torch.no_grad():\n",
    "    hidden = model.init_hidden(batch_size, device)\n",
    "    prediction, hidden = model(inputs, hidden)  \n",
    "    prediction = prediction.reshape(batch_size * seq_len, -1)   \n",
    "    target = targets.reshape(-1)\n",
    "    loss += loss_fn(prediction, target)\n",
    "loss = loss/10\n",
    "\n",
    "print(loss)"
   ]
  },
  {
   "cell_type": "markdown",
   "metadata": {
    "id": "BrHQCv7q7LF_"
   },
   "source": [
    "### 🟡 **Step 2:** Try to train and overfit the model on a small subset of the dataset."
   ]
  },
  {
   "cell_type": "code",
   "execution_count": 42,
   "metadata": {
    "execution": {
     "iopub.execute_input": "2025-01-01T20:23:04.124394Z",
     "iopub.status.busy": "2025-01-01T20:23:04.124104Z",
     "iopub.status.idle": "2025-01-01T20:23:04.129689Z",
     "shell.execute_reply": "2025-01-01T20:23:04.128995Z",
     "shell.execute_reply.started": "2025-01-01T20:23:04.124370Z"
    },
    "trusted": true
   },
   "outputs": [
    {
     "name": "stdout",
     "output_type": "stream",
     "text": [
      "20\n",
      "torch.Size([128, 50])\n"
     ]
    }
   ],
   "source": [
    "from torch.utils.data import Subset\n",
    "\n",
    "# Create a subset with the first 20 elements\n",
    "mini_dataset = Subset(train_dataset, list(range(20)))\n",
    "print(len(mini_dataset))\n",
    "print(mini_dataset[0][0].shape)"
   ]
  },
  {
   "cell_type": "code",
   "execution_count": 65,
   "metadata": {
    "execution": {
     "iopub.execute_input": "2025-01-01T20:35:42.862291Z",
     "iopub.status.busy": "2025-01-01T20:35:42.862006Z",
     "iopub.status.idle": "2025-01-01T20:37:12.385517Z",
     "shell.execute_reply": "2025-01-01T20:37:12.384832Z",
     "shell.execute_reply.started": "2025-01-01T20:35:42.862269Z"
    },
    "id": "G0ji0MXsWaPt",
    "trusted": true
   },
   "outputs": [
    {
     "name": "stderr",
     "output_type": "stream",
     "text": [
      "Training: 100%|██████████| 20/20 [00:04<00:00,  4.47it/s, loss=5.38, metric=218]\n"
     ]
    },
    {
     "name": "stdout",
     "output_type": "stream",
     "text": [
      "epoch: 1, loss:5.382934594154358, metrics:217.66017150878906\n"
     ]
    },
    {
     "name": "stderr",
     "output_type": "stream",
     "text": [
      "Training: 100%|██████████| 20/20 [00:04<00:00,  4.47it/s, loss=5.32, metric=204]\n"
     ]
    },
    {
     "name": "stdout",
     "output_type": "stream",
     "text": [
      "epoch: 2, loss:5.316346430778504, metrics:203.63856506347656\n"
     ]
    },
    {
     "name": "stderr",
     "output_type": "stream",
     "text": [
      "Training: 100%|██████████| 20/20 [00:04<00:00,  4.47it/s, loss=5.3, metric=200] \n"
     ]
    },
    {
     "name": "stdout",
     "output_type": "stream",
     "text": [
      "epoch: 3, loss:5.297313380241394, metrics:199.7992706298828\n"
     ]
    },
    {
     "name": "stderr",
     "output_type": "stream",
     "text": [
      "Training: 100%|██████████| 20/20 [00:04<00:00,  4.47it/s, loss=5.25, metric=191]\n"
     ]
    },
    {
     "name": "stdout",
     "output_type": "stream",
     "text": [
      "epoch: 4, loss:5.250675868988037, metrics:190.69515991210938\n"
     ]
    },
    {
     "name": "stderr",
     "output_type": "stream",
     "text": [
      "Training: 100%|██████████| 20/20 [00:04<00:00,  4.46it/s, loss=5.19, metric=180]\n"
     ]
    },
    {
     "name": "stdout",
     "output_type": "stream",
     "text": [
      "epoch: 5, loss:5.193962097167969, metrics:180.1810302734375\n"
     ]
    },
    {
     "name": "stderr",
     "output_type": "stream",
     "text": [
      "Training: 100%|██████████| 20/20 [00:04<00:00,  4.47it/s, loss=5.14, metric=171]\n"
     ]
    },
    {
     "name": "stdout",
     "output_type": "stream",
     "text": [
      "epoch: 6, loss:5.143066453933716, metrics:171.24014282226562\n"
     ]
    },
    {
     "name": "stderr",
     "output_type": "stream",
     "text": [
      "Training: 100%|██████████| 20/20 [00:04<00:00,  4.48it/s, loss=5.1, metric=163] \n"
     ]
    },
    {
     "name": "stdout",
     "output_type": "stream",
     "text": [
      "epoch: 7, loss:5.0968122482299805, metrics:163.49996948242188\n"
     ]
    },
    {
     "name": "stderr",
     "output_type": "stream",
     "text": [
      "Training: 100%|██████████| 20/20 [00:04<00:00,  4.47it/s, loss=5.05, metric=156]\n"
     ]
    },
    {
     "name": "stdout",
     "output_type": "stream",
     "text": [
      "epoch: 8, loss:5.050406146049499, metrics:156.0858154296875\n"
     ]
    },
    {
     "name": "stderr",
     "output_type": "stream",
     "text": [
      "Training: 100%|██████████| 20/20 [00:04<00:00,  4.47it/s, loss=5.01, metric=150]\n"
     ]
    },
    {
     "name": "stdout",
     "output_type": "stream",
     "text": [
      "epoch: 9, loss:5.011225342750549, metrics:150.08843994140625\n"
     ]
    },
    {
     "name": "stderr",
     "output_type": "stream",
     "text": [
      "Training: 100%|██████████| 20/20 [00:04<00:00,  4.47it/s, loss=4.99, metric=147]\n"
     ]
    },
    {
     "name": "stdout",
     "output_type": "stream",
     "text": [
      "epoch: 10, loss:4.99156813621521, metrics:147.16702270507812\n"
     ]
    },
    {
     "name": "stderr",
     "output_type": "stream",
     "text": [
      "Training: 100%|██████████| 20/20 [00:04<00:00,  4.48it/s, loss=4.94, metric=139]\n"
     ]
    },
    {
     "name": "stdout",
     "output_type": "stream",
     "text": [
      "epoch: 11, loss:4.937210106849671, metrics:139.38084411621094\n"
     ]
    },
    {
     "name": "stderr",
     "output_type": "stream",
     "text": [
      "Training: 100%|██████████| 20/20 [00:04<00:00,  4.47it/s, loss=4.87, metric=130]\n"
     ]
    },
    {
     "name": "stdout",
     "output_type": "stream",
     "text": [
      "epoch: 12, loss:4.869126772880554, metrics:130.2071075439453\n"
     ]
    },
    {
     "name": "stderr",
     "output_type": "stream",
     "text": [
      "Training: 100%|██████████| 20/20 [00:04<00:00,  4.47it/s, loss=4.82, metric=124]\n"
     ]
    },
    {
     "name": "stdout",
     "output_type": "stream",
     "text": [
      "epoch: 13, loss:4.8175455808639525, metrics:123.66123962402344\n"
     ]
    },
    {
     "name": "stderr",
     "output_type": "stream",
     "text": [
      "Training: 100%|██████████| 20/20 [00:04<00:00,  4.48it/s, loss=4.78, metric=119]\n"
     ]
    },
    {
     "name": "stdout",
     "output_type": "stream",
     "text": [
      "epoch: 14, loss:4.7756987571716305, metrics:118.5931396484375\n"
     ]
    },
    {
     "name": "stderr",
     "output_type": "stream",
     "text": [
      "Training: 100%|██████████| 20/20 [00:04<00:00,  4.48it/s, loss=4.76, metric=117]\n"
     ]
    },
    {
     "name": "stdout",
     "output_type": "stream",
     "text": [
      "epoch: 15, loss:4.760961866378784, metrics:116.85834503173828\n"
     ]
    },
    {
     "name": "stderr",
     "output_type": "stream",
     "text": [
      "Training: 100%|██████████| 20/20 [00:04<00:00,  4.48it/s, loss=4.7, metric=110] \n"
     ]
    },
    {
     "name": "stdout",
     "output_type": "stream",
     "text": [
      "epoch: 16, loss:4.699635100364685, metrics:109.90705871582031\n"
     ]
    },
    {
     "name": "stderr",
     "output_type": "stream",
     "text": [
      "Training: 100%|██████████| 20/20 [00:04<00:00,  4.48it/s, loss=4.69, metric=109]\n"
     ]
    },
    {
     "name": "stdout",
     "output_type": "stream",
     "text": [
      "epoch: 17, loss:4.691473150253296, metrics:109.01374816894531\n"
     ]
    },
    {
     "name": "stderr",
     "output_type": "stream",
     "text": [
      "Training: 100%|██████████| 20/20 [00:04<00:00,  4.49it/s, loss=4.74, metric=114]\n"
     ]
    },
    {
     "name": "stdout",
     "output_type": "stream",
     "text": [
      "epoch: 18, loss:4.73622727394104, metrics:114.00326538085938\n"
     ]
    },
    {
     "name": "stderr",
     "output_type": "stream",
     "text": [
      "Training: 100%|██████████| 20/20 [00:04<00:00,  4.47it/s, loss=4.64, metric=104]\n"
     ]
    },
    {
     "name": "stdout",
     "output_type": "stream",
     "text": [
      "epoch: 19, loss:4.6412618398666385, metrics:103.67510986328125\n"
     ]
    },
    {
     "name": "stderr",
     "output_type": "stream",
     "text": [
      "Training: 100%|██████████| 20/20 [00:04<00:00,  4.48it/s, loss=4.6, metric=99.7]"
     ]
    },
    {
     "name": "stdout",
     "output_type": "stream",
     "text": [
      "epoch: 20, loss:4.602403235435486, metrics:99.72372436523438\n"
     ]
    },
    {
     "name": "stderr",
     "output_type": "stream",
     "text": [
      "\n"
     ]
    }
   ],
   "source": [
    "model = LSTM(vocab_size, embedding_dim, hidden_dim, num_layers, dropout_rate, tie_weights).to(device)\n",
    "optimizer = optim.Adam(model.parameters(), lr=1e-3)\n",
    "\n",
    "for i in range(20):\n",
    "    _, l, met = train(model, mini_dataset, loss_fn, optimizer, metric, device)\n",
    "    print(f'epoch: {i+1}, loss:{l}, metrics:{met}')"
   ]
  },
  {
   "cell_type": "markdown",
   "metadata": {
    "id": "BLT4w0ZfAhlJ"
   },
   "source": [
    "### 🟡 **Step 3:** Train the model for a limited number of epochs, experimenting with various learning rates."
   ]
  },
  {
   "cell_type": "code",
   "execution_count": 67,
   "metadata": {
    "execution": {
     "iopub.execute_input": "2025-01-01T20:41:34.690881Z",
     "iopub.status.busy": "2025-01-01T20:41:34.690572Z",
     "iopub.status.idle": "2025-01-01T20:43:54.512301Z",
     "shell.execute_reply": "2025-01-01T20:43:54.511173Z",
     "shell.execute_reply.started": "2025-01-01T20:41:34.690855Z"
    },
    "id": "Jxz5DXoj61mg",
    "trusted": true
   },
   "outputs": [
    {
     "name": "stdout",
     "output_type": "stream",
     "text": [
      "LR=0.05\n"
     ]
    },
    {
     "name": "stderr",
     "output_type": "stream",
     "text": [
      "Training: 100%|██████████| 20/20 [00:04<00:00,  4.49it/s, loss=29.6, metric=7.15e+12]\n"
     ]
    },
    {
     "name": "stdout",
     "output_type": "stream",
     "text": [
      "epoch: 1, loss:29.598110461235045, metrics:7149820313600.0\n"
     ]
    },
    {
     "name": "stderr",
     "output_type": "stream",
     "text": [
      "Training: 100%|██████████| 20/20 [00:04<00:00,  4.49it/s, loss=9.84, metric=1.88e+4]\n"
     ]
    },
    {
     "name": "stdout",
     "output_type": "stream",
     "text": [
      "epoch: 2, loss:9.84373779296875, metrics:18840.001953125\n"
     ]
    },
    {
     "name": "stderr",
     "output_type": "stream",
     "text": [
      "Training: 100%|██████████| 20/20 [00:04<00:00,  4.48it/s, loss=8.1, metric=3.29e+3] \n"
     ]
    },
    {
     "name": "stdout",
     "output_type": "stream",
     "text": [
      "epoch: 3, loss:8.098400378227234, metrics:3289.204833984375\n"
     ]
    },
    {
     "name": "stderr",
     "output_type": "stream",
     "text": [
      "Training: 100%|██████████| 20/20 [00:04<00:00,  4.48it/s, loss=8.21, metric=3.69e+3]\n"
     ]
    },
    {
     "name": "stdout",
     "output_type": "stream",
     "text": [
      "epoch: 4, loss:8.214134621620179, metrics:3692.781494140625\n"
     ]
    },
    {
     "name": "stderr",
     "output_type": "stream",
     "text": [
      "Training: 100%|██████████| 20/20 [00:04<00:00,  4.48it/s, loss=7.86, metric=2.59e+3]\n"
     ]
    },
    {
     "name": "stdout",
     "output_type": "stream",
     "text": [
      "epoch: 5, loss:7.85893189907074, metrics:2588.7529296875\n",
      "====================================================================================================\n",
      "LR=0.01\n"
     ]
    },
    {
     "name": "stderr",
     "output_type": "stream",
     "text": [
      "Training: 100%|██████████| 20/20 [00:04<00:00,  4.49it/s, loss=8.23, metric=3.77e+3]\n"
     ]
    },
    {
     "name": "stdout",
     "output_type": "stream",
     "text": [
      "epoch: 1, loss:8.233897686004639, metrics:3766.487548828125\n"
     ]
    },
    {
     "name": "stderr",
     "output_type": "stream",
     "text": [
      "Training: 100%|██████████| 20/20 [00:04<00:00,  4.47it/s, loss=7.11, metric=1.23e+3]\n"
     ]
    },
    {
     "name": "stdout",
     "output_type": "stream",
     "text": [
      "epoch: 2, loss:7.111076164245605, metrics:1225.4658203125\n"
     ]
    },
    {
     "name": "stderr",
     "output_type": "stream",
     "text": [
      "Training: 100%|██████████| 20/20 [00:04<00:00,  4.47it/s, loss=7.1, metric=1.21e+3] \n"
     ]
    },
    {
     "name": "stdout",
     "output_type": "stream",
     "text": [
      "epoch: 3, loss:7.0961603879928585, metrics:1207.3231201171875\n"
     ]
    },
    {
     "name": "stderr",
     "output_type": "stream",
     "text": [
      "Training: 100%|██████████| 20/20 [00:04<00:00,  4.46it/s, loss=7.02, metric=1.11e+3]\n"
     ]
    },
    {
     "name": "stdout",
     "output_type": "stream",
     "text": [
      "epoch: 4, loss:7.015224432945251, metrics:1113.45556640625\n"
     ]
    },
    {
     "name": "stderr",
     "output_type": "stream",
     "text": [
      "Training: 100%|██████████| 20/20 [00:04<00:00,  4.45it/s, loss=7.21, metric=1.35e+3]\n"
     ]
    },
    {
     "name": "stdout",
     "output_type": "stream",
     "text": [
      "epoch: 5, loss:7.209784054756165, metrics:1352.598876953125\n",
      "====================================================================================================\n",
      "LR=0.005\n"
     ]
    },
    {
     "name": "stderr",
     "output_type": "stream",
     "text": [
      "Training: 100%|██████████| 20/20 [00:04<00:00,  4.45it/s, loss=7.63, metric=2.05e+3]\n"
     ]
    },
    {
     "name": "stdout",
     "output_type": "stream",
     "text": [
      "epoch: 1, loss:7.625461721420288, metrics:2049.728271484375\n"
     ]
    },
    {
     "name": "stderr",
     "output_type": "stream",
     "text": [
      "Training: 100%|██████████| 20/20 [00:04<00:00,  4.44it/s, loss=6.96, metric=1.06e+3]\n"
     ]
    },
    {
     "name": "stdout",
     "output_type": "stream",
     "text": [
      "epoch: 2, loss:6.964343166351318, metrics:1058.219482421875\n"
     ]
    },
    {
     "name": "stderr",
     "output_type": "stream",
     "text": [
      "Training: 100%|██████████| 20/20 [00:04<00:00,  4.44it/s, loss=6.95, metric=1.05e+3]\n"
     ]
    },
    {
     "name": "stdout",
     "output_type": "stream",
     "text": [
      "epoch: 3, loss:6.9549803018569945, metrics:1048.357421875\n"
     ]
    },
    {
     "name": "stderr",
     "output_type": "stream",
     "text": [
      "Training: 100%|██████████| 20/20 [00:04<00:00,  4.43it/s, loss=6.87, metric=965]    \n"
     ]
    },
    {
     "name": "stdout",
     "output_type": "stream",
     "text": [
      "epoch: 4, loss:6.872219586372376, metrics:965.0891723632812\n"
     ]
    },
    {
     "name": "stderr",
     "output_type": "stream",
     "text": [
      "Training: 100%|██████████| 20/20 [00:04<00:00,  4.42it/s, loss=6.68, metric=799]\n"
     ]
    },
    {
     "name": "stdout",
     "output_type": "stream",
     "text": [
      "epoch: 5, loss:6.683854389190674, metrics:799.3941040039062\n",
      "====================================================================================================\n",
      "LR=0.001\n"
     ]
    },
    {
     "name": "stderr",
     "output_type": "stream",
     "text": [
      "Training: 100%|██████████| 20/20 [00:04<00:00,  4.48it/s, loss=7.68, metric=2.17e+3]\n"
     ]
    },
    {
     "name": "stdout",
     "output_type": "stream",
     "text": [
      "epoch: 1, loss:7.684348750114441, metrics:2174.054443359375\n"
     ]
    },
    {
     "name": "stderr",
     "output_type": "stream",
     "text": [
      "Training: 100%|██████████| 20/20 [00:04<00:00,  4.47it/s, loss=6.89, metric=980]    \n"
     ]
    },
    {
     "name": "stdout",
     "output_type": "stream",
     "text": [
      "epoch: 2, loss:6.8873412847518924, metrics:979.793212890625\n"
     ]
    },
    {
     "name": "stderr",
     "output_type": "stream",
     "text": [
      "Training: 100%|██████████| 20/20 [00:04<00:00,  4.43it/s, loss=6.77, metric=875]\n"
     ]
    },
    {
     "name": "stdout",
     "output_type": "stream",
     "text": [
      "epoch: 3, loss:6.774737739562989, metrics:875.448974609375\n"
     ]
    },
    {
     "name": "stderr",
     "output_type": "stream",
     "text": [
      "Training: 100%|██████████| 20/20 [00:04<00:00,  4.43it/s, loss=6.75, metric=853]\n"
     ]
    },
    {
     "name": "stdout",
     "output_type": "stream",
     "text": [
      "epoch: 4, loss:6.748709678649902, metrics:852.95703125\n"
     ]
    },
    {
     "name": "stderr",
     "output_type": "stream",
     "text": [
      "Training: 100%|██████████| 20/20 [00:04<00:00,  4.44it/s, loss=6.74, metric=844]\n"
     ]
    },
    {
     "name": "stdout",
     "output_type": "stream",
     "text": [
      "epoch: 5, loss:6.737655067443848, metrics:843.5799560546875\n",
      "====================================================================================================\n",
      "LR=0.0005\n"
     ]
    },
    {
     "name": "stderr",
     "output_type": "stream",
     "text": [
      "Training: 100%|██████████| 20/20 [00:04<00:00,  4.47it/s, loss=8.05, metric=3.14e+3]\n"
     ]
    },
    {
     "name": "stdout",
     "output_type": "stream",
     "text": [
      "epoch: 1, loss:8.052850937843322, metrics:3142.744384765625\n"
     ]
    },
    {
     "name": "stderr",
     "output_type": "stream",
     "text": [
      "Training: 100%|██████████| 20/20 [00:04<00:00,  4.48it/s, loss=6.9, metric=990]     \n"
     ]
    },
    {
     "name": "stdout",
     "output_type": "stream",
     "text": [
      "epoch: 2, loss:6.8973588943481445, metrics:989.657470703125\n"
     ]
    },
    {
     "name": "stderr",
     "output_type": "stream",
     "text": [
      "Training: 100%|██████████| 20/20 [00:04<00:00,  4.45it/s, loss=6.79, metric=889]   \n"
     ]
    },
    {
     "name": "stdout",
     "output_type": "stream",
     "text": [
      "epoch: 3, loss:6.789812397956848, metrics:888.7470092773438\n"
     ]
    },
    {
     "name": "stderr",
     "output_type": "stream",
     "text": [
      "Training: 100%|██████████| 20/20 [00:04<00:00,  4.43it/s, loss=6.75, metric=855]\n"
     ]
    },
    {
     "name": "stdout",
     "output_type": "stream",
     "text": [
      "epoch: 4, loss:6.7508230924606325, metrics:854.7619018554688\n"
     ]
    },
    {
     "name": "stderr",
     "output_type": "stream",
     "text": [
      "Training: 100%|██████████| 20/20 [00:04<00:00,  4.43it/s, loss=6.73, metric=841]\n"
     ]
    },
    {
     "name": "stdout",
     "output_type": "stream",
     "text": [
      "epoch: 5, loss:6.734981417655945, metrics:841.3280029296875\n",
      "====================================================================================================\n",
      "LR=0.0001\n"
     ]
    },
    {
     "name": "stderr",
     "output_type": "stream",
     "text": [
      "Training: 100%|██████████| 20/20 [00:04<00:00,  4.43it/s, loss=9.85, metric=1.89e+4]\n"
     ]
    },
    {
     "name": "stdout",
     "output_type": "stream",
     "text": [
      "epoch: 1, loss:9.845714855194093, metrics:18877.302734375\n"
     ]
    },
    {
     "name": "stderr",
     "output_type": "stream",
     "text": [
      "Training: 100%|██████████| 20/20 [00:04<00:00,  4.44it/s, loss=7.7, metric=2.22e+3] \n"
     ]
    },
    {
     "name": "stdout",
     "output_type": "stream",
     "text": [
      "epoch: 2, loss:7.703554677963257, metrics:2216.2119140625\n"
     ]
    },
    {
     "name": "stderr",
     "output_type": "stream",
     "text": [
      "Training: 100%|██████████| 20/20 [00:04<00:00,  4.47it/s, loss=6.97, metric=1.06e+3]\n"
     ]
    },
    {
     "name": "stdout",
     "output_type": "stream",
     "text": [
      "epoch: 3, loss:6.967798471450806, metrics:1061.8817138671875\n"
     ]
    },
    {
     "name": "stderr",
     "output_type": "stream",
     "text": [
      "Training: 100%|██████████| 20/20 [00:04<00:00,  4.45it/s, loss=6.88, metric=974]    \n"
     ]
    },
    {
     "name": "stdout",
     "output_type": "stream",
     "text": [
      "epoch: 4, loss:6.880993032455445, metrics:973.5925903320312\n"
     ]
    },
    {
     "name": "stderr",
     "output_type": "stream",
     "text": [
      "Training: 100%|██████████| 20/20 [00:04<00:00,  4.43it/s, loss=6.84, metric=935]   "
     ]
    },
    {
     "name": "stdout",
     "output_type": "stream",
     "text": [
      "epoch: 5, loss:6.840830254554748, metrics:935.265380859375\n",
      "====================================================================================================\n"
     ]
    },
    {
     "name": "stderr",
     "output_type": "stream",
     "text": [
      "\n"
     ]
    }
   ],
   "source": [
    "num_epochs = 5\n",
    "\n",
    "for lr in [0.05, 0.01, 0.005, 0.001, 0.0005, 0.0001]:\n",
    "    print(f'LR={lr}')\n",
    "\n",
    "    model = LSTM(vocab_size, embedding_dim, hidden_dim, num_layers, dropout_rate, tie_weights).to(device)\n",
    "    optimizer = optim.Adam(model.parameters(), lr=lr, weight_decay=1e-4)\n",
    "\n",
    "    for epoch in range(num_epochs):\n",
    "        model, l, met = train(model, mini_dataset, loss_fn, optimizer, metric, device)\n",
    "        print(f'epoch: {epoch+1}, loss:{l}, metrics:{met}')\n",
    "\n",
    "    print(\"==\"*50)\n",
    "\n"
   ]
  },
  {
   "cell_type": "markdown",
   "metadata": {
    "id": "uC2GhaXfA8vC"
   },
   "source": [
    "### 🟡 Step 4: Create a small grid using the weight decay and the best learning rate.\n",
    "\n",
    "\n",
    "\n"
   ]
  },
  {
   "cell_type": "code",
   "execution_count": 69,
   "metadata": {
    "execution": {
     "iopub.execute_input": "2025-01-01T20:45:40.105428Z",
     "iopub.status.busy": "2025-01-01T20:45:40.105147Z",
     "iopub.status.idle": "2025-01-01T20:53:27.063828Z",
     "shell.execute_reply": "2025-01-01T20:53:27.063015Z",
     "shell.execute_reply.started": "2025-01-01T20:45:40.105405Z"
    },
    "id": "a7UeNW3WWaPu",
    "trusted": true
   },
   "outputs": [
    {
     "name": "stdout",
     "output_type": "stream",
     "text": [
      "LR=0.005, WD=1e-05\n"
     ]
    },
    {
     "name": "stderr",
     "output_type": "stream",
     "text": [
      "Training: 100%|██████████| 20/20 [00:04<00:00,  4.49it/s, loss=7.43, metric=1.68e+3]\n"
     ]
    },
    {
     "name": "stdout",
     "output_type": "stream",
     "text": [
      "epoch: 1, loss:7.427143025398254, metrics:1680.9981689453125\n"
     ]
    },
    {
     "name": "stderr",
     "output_type": "stream",
     "text": [
      "Training: 100%|██████████| 20/20 [00:04<00:00,  4.50it/s, loss=6.77, metric=871]   \n"
     ]
    },
    {
     "name": "stdout",
     "output_type": "stream",
     "text": [
      "epoch: 2, loss:6.76930673122406, metrics:870.7084350585938\n"
     ]
    },
    {
     "name": "stderr",
     "output_type": "stream",
     "text": [
      "Training: 100%|██████████| 20/20 [00:04<00:00,  4.48it/s, loss=6.8, metric=895]     \n"
     ]
    },
    {
     "name": "stdout",
     "output_type": "stream",
     "text": [
      "epoch: 3, loss:6.7969626665115355, metrics:895.12451171875\n"
     ]
    },
    {
     "name": "stderr",
     "output_type": "stream",
     "text": [
      "Training: 100%|██████████| 20/20 [00:04<00:00,  4.48it/s, loss=6.39, metric=595]\n"
     ]
    },
    {
     "name": "stdout",
     "output_type": "stream",
     "text": [
      "epoch: 4, loss:6.387957167625427, metrics:594.6408081054688\n"
     ]
    },
    {
     "name": "stderr",
     "output_type": "stream",
     "text": [
      "Training: 100%|██████████| 20/20 [00:04<00:00,  4.47it/s, loss=6.18, metric=484]\n"
     ]
    },
    {
     "name": "stdout",
     "output_type": "stream",
     "text": [
      "epoch: 5, loss:6.181158638000488, metrics:483.5520935058594\n",
      "====================================================================================================\n",
      "LR=0.005, WD=0.0001\n"
     ]
    },
    {
     "name": "stderr",
     "output_type": "stream",
     "text": [
      "Training: 100%|██████████| 20/20 [00:04<00:00,  4.48it/s, loss=7.7, metric=2.22e+3] \n"
     ]
    },
    {
     "name": "stdout",
     "output_type": "stream",
     "text": [
      "epoch: 1, loss:7.704256248474121, metrics:2217.767822265625\n"
     ]
    },
    {
     "name": "stderr",
     "output_type": "stream",
     "text": [
      "Training: 100%|██████████| 20/20 [00:04<00:00,  4.48it/s, loss=7.12, metric=1.24e+3]\n"
     ]
    },
    {
     "name": "stdout",
     "output_type": "stream",
     "text": [
      "epoch: 2, loss:7.124069952964783, metrics:1241.493896484375\n"
     ]
    },
    {
     "name": "stderr",
     "output_type": "stream",
     "text": [
      "Training: 100%|██████████| 20/20 [00:04<00:00,  4.47it/s, loss=6.88, metric=970]   \n"
     ]
    },
    {
     "name": "stdout",
     "output_type": "stream",
     "text": [
      "epoch: 3, loss:6.877597117424012, metrics:970.2918090820312\n"
     ]
    },
    {
     "name": "stderr",
     "output_type": "stream",
     "text": [
      "Training: 100%|██████████| 20/20 [00:04<00:00,  4.45it/s, loss=6.69, metric=800]\n"
     ]
    },
    {
     "name": "stdout",
     "output_type": "stream",
     "text": [
      "epoch: 4, loss:6.685053086280822, metrics:800.3536987304688\n"
     ]
    },
    {
     "name": "stderr",
     "output_type": "stream",
     "text": [
      "Training: 100%|██████████| 20/20 [00:04<00:00,  4.45it/s, loss=6.43, metric=621]\n"
     ]
    },
    {
     "name": "stdout",
     "output_type": "stream",
     "text": [
      "epoch: 5, loss:6.4306659460067745, metrics:620.5877075195312\n",
      "====================================================================================================\n",
      "LR=0.005, WD=0.001\n"
     ]
    },
    {
     "name": "stderr",
     "output_type": "stream",
     "text": [
      "Training: 100%|██████████| 20/20 [00:04<00:00,  4.46it/s, loss=8.15, metric=3.47e+3]\n"
     ]
    },
    {
     "name": "stdout",
     "output_type": "stream",
     "text": [
      "epoch: 1, loss:8.151797604560851, metrics:3469.60595703125\n"
     ]
    },
    {
     "name": "stderr",
     "output_type": "stream",
     "text": [
      "Training: 100%|██████████| 20/20 [00:04<00:00,  4.44it/s, loss=6.97, metric=1.07e+3]\n"
     ]
    },
    {
     "name": "stdout",
     "output_type": "stream",
     "text": [
      "epoch: 2, loss:6.972201013565064, metrics:1066.568115234375\n"
     ]
    },
    {
     "name": "stderr",
     "output_type": "stream",
     "text": [
      "Training: 100%|██████████| 20/20 [00:04<00:00,  4.44it/s, loss=6.94, metric=1.04e+3]\n"
     ]
    },
    {
     "name": "stdout",
     "output_type": "stream",
     "text": [
      "epoch: 3, loss:6.943765544891358, metrics:1036.666015625\n"
     ]
    },
    {
     "name": "stderr",
     "output_type": "stream",
     "text": [
      "Training: 100%|██████████| 20/20 [00:04<00:00,  4.43it/s, loss=6.9, metric=997]     \n"
     ]
    },
    {
     "name": "stdout",
     "output_type": "stream",
     "text": [
      "epoch: 4, loss:6.904908514022827, metrics:997.1569213867188\n"
     ]
    },
    {
     "name": "stderr",
     "output_type": "stream",
     "text": [
      "Training: 100%|██████████| 20/20 [00:04<00:00,  4.42it/s, loss=6.9, metric=997]     \n"
     ]
    },
    {
     "name": "stdout",
     "output_type": "stream",
     "text": [
      "epoch: 5, loss:6.904656314849854, metrics:996.9063720703125\n",
      "====================================================================================================\n",
      "LR=0.005, WD=0.01\n"
     ]
    },
    {
     "name": "stderr",
     "output_type": "stream",
     "text": [
      "Training: 100%|██████████| 20/20 [00:04<00:00,  4.43it/s, loss=7.9, metric=2.69e+3] \n"
     ]
    },
    {
     "name": "stdout",
     "output_type": "stream",
     "text": [
      "epoch: 1, loss:7.896498823165894, metrics:2687.857177734375\n"
     ]
    },
    {
     "name": "stderr",
     "output_type": "stream",
     "text": [
      "Training: 100%|██████████| 20/20 [00:04<00:00,  4.42it/s, loss=7.18, metric=1.31e+3]\n"
     ]
    },
    {
     "name": "stdout",
     "output_type": "stream",
     "text": [
      "epoch: 2, loss:7.177420425415039, metrics:1309.526123046875\n"
     ]
    },
    {
     "name": "stderr",
     "output_type": "stream",
     "text": [
      "Training: 100%|██████████| 20/20 [00:04<00:00,  4.44it/s, loss=7.19, metric=1.33e+3]\n"
     ]
    },
    {
     "name": "stdout",
     "output_type": "stream",
     "text": [
      "epoch: 3, loss:7.1914883852005005, metrics:1328.0789794921875\n"
     ]
    },
    {
     "name": "stderr",
     "output_type": "stream",
     "text": [
      "Training: 100%|██████████| 20/20 [00:04<00:00,  4.44it/s, loss=7.17, metric=1.29e+3]\n"
     ]
    },
    {
     "name": "stdout",
     "output_type": "stream",
     "text": [
      "epoch: 4, loss:7.165243625640869, metrics:1293.6767578125\n"
     ]
    },
    {
     "name": "stderr",
     "output_type": "stream",
     "text": [
      "Training: 100%|██████████| 20/20 [00:04<00:00,  4.43it/s, loss=7.1, metric=1.22e+3] \n"
     ]
    },
    {
     "name": "stdout",
     "output_type": "stream",
     "text": [
      "epoch: 5, loss:7.103772091865539, metrics:1216.5462646484375\n",
      "====================================================================================================\n",
      "LR=0.001, WD=1e-05\n"
     ]
    },
    {
     "name": "stderr",
     "output_type": "stream",
     "text": [
      "Training: 100%|██████████| 20/20 [00:04<00:00,  4.47it/s, loss=7.58, metric=1.95e+3]\n"
     ]
    },
    {
     "name": "stdout",
     "output_type": "stream",
     "text": [
      "epoch: 1, loss:7.577282786369324, metrics:1953.315185546875\n"
     ]
    },
    {
     "name": "stderr",
     "output_type": "stream",
     "text": [
      "Training: 100%|██████████| 20/20 [00:04<00:00,  4.48it/s, loss=6.79, metric=887]   \n"
     ]
    },
    {
     "name": "stdout",
     "output_type": "stream",
     "text": [
      "epoch: 2, loss:6.788298273086548, metrics:887.4025268554688\n"
     ]
    },
    {
     "name": "stderr",
     "output_type": "stream",
     "text": [
      "Training: 100%|██████████| 20/20 [00:04<00:00,  4.45it/s, loss=6.72, metric=826]\n"
     ]
    },
    {
     "name": "stdout",
     "output_type": "stream",
     "text": [
      "epoch: 3, loss:6.716136455535889, metrics:825.6211547851562\n"
     ]
    },
    {
     "name": "stderr",
     "output_type": "stream",
     "text": [
      "Training: 100%|██████████| 20/20 [00:04<00:00,  4.43it/s, loss=6.64, metric=768]\n"
     ]
    },
    {
     "name": "stdout",
     "output_type": "stream",
     "text": [
      "epoch: 4, loss:6.643434286117554, metrics:767.7276000976562\n"
     ]
    },
    {
     "name": "stderr",
     "output_type": "stream",
     "text": [
      "Training: 100%|██████████| 20/20 [00:04<00:00,  4.43it/s, loss=6.51, metric=669]\n"
     ]
    },
    {
     "name": "stdout",
     "output_type": "stream",
     "text": [
      "epoch: 5, loss:6.505213880538941, metrics:668.6182250976562\n",
      "====================================================================================================\n",
      "LR=0.001, WD=0.0001\n"
     ]
    },
    {
     "name": "stderr",
     "output_type": "stream",
     "text": [
      "Training: 100%|██████████| 20/20 [00:04<00:00,  4.47it/s, loss=7.68, metric=2.16e+3]\n"
     ]
    },
    {
     "name": "stdout",
     "output_type": "stream",
     "text": [
      "epoch: 1, loss:7.676343035697937, metrics:2156.71826171875\n"
     ]
    },
    {
     "name": "stderr",
     "output_type": "stream",
     "text": [
      "Training: 100%|██████████| 20/20 [00:04<00:00,  4.47it/s, loss=6.88, metric=969]    \n"
     ]
    },
    {
     "name": "stdout",
     "output_type": "stream",
     "text": [
      "epoch: 2, loss:6.876222825050354, metrics:968.959716796875\n"
     ]
    },
    {
     "name": "stderr",
     "output_type": "stream",
     "text": [
      "Training: 100%|██████████| 20/20 [00:04<00:00,  4.43it/s, loss=6.77, metric=867]\n"
     ]
    },
    {
     "name": "stdout",
     "output_type": "stream",
     "text": [
      "epoch: 3, loss:6.765341329574585, metrics:867.2613525390625\n"
     ]
    },
    {
     "name": "stderr",
     "output_type": "stream",
     "text": [
      "Training: 100%|██████████| 20/20 [00:04<00:00,  4.43it/s, loss=6.75, metric=851]\n"
     ]
    },
    {
     "name": "stdout",
     "output_type": "stream",
     "text": [
      "epoch: 4, loss:6.746389484405517, metrics:850.980224609375\n"
     ]
    },
    {
     "name": "stderr",
     "output_type": "stream",
     "text": [
      "Training: 100%|██████████| 20/20 [00:04<00:00,  4.43it/s, loss=6.72, metric=832]\n"
     ]
    },
    {
     "name": "stdout",
     "output_type": "stream",
     "text": [
      "epoch: 5, loss:6.723492503166199, metrics:831.71728515625\n",
      "====================================================================================================\n",
      "LR=0.001, WD=0.001\n"
     ]
    },
    {
     "name": "stderr",
     "output_type": "stream",
     "text": [
      "Training: 100%|██████████| 20/20 [00:04<00:00,  4.45it/s, loss=7.96, metric=2.86e+3]\n"
     ]
    },
    {
     "name": "stdout",
     "output_type": "stream",
     "text": [
      "epoch: 1, loss:7.959843683242798, metrics:2863.622314453125\n"
     ]
    },
    {
     "name": "stderr",
     "output_type": "stream",
     "text": [
      "Training: 100%|██████████| 20/20 [00:04<00:00,  4.44it/s, loss=6.89, metric=983]    \n"
     ]
    },
    {
     "name": "stdout",
     "output_type": "stream",
     "text": [
      "epoch: 2, loss:6.890522503852845, metrics:982.915283203125\n"
     ]
    },
    {
     "name": "stderr",
     "output_type": "stream",
     "text": [
      "Training: 100%|██████████| 20/20 [00:04<00:00,  4.43it/s, loss=6.83, metric=928]   \n"
     ]
    },
    {
     "name": "stdout",
     "output_type": "stream",
     "text": [
      "epoch: 3, loss:6.833306169509887, metrics:928.2553100585938\n"
     ]
    },
    {
     "name": "stderr",
     "output_type": "stream",
     "text": [
      "Training: 100%|██████████| 20/20 [00:04<00:00,  4.43it/s, loss=6.81, metric=910]   \n"
     ]
    },
    {
     "name": "stdout",
     "output_type": "stream",
     "text": [
      "epoch: 4, loss:6.8135051250457765, metrics:910.0547485351562\n"
     ]
    },
    {
     "name": "stderr",
     "output_type": "stream",
     "text": [
      "Training: 100%|██████████| 20/20 [00:04<00:00,  4.43it/s, loss=6.8, metric=898]    \n"
     ]
    },
    {
     "name": "stdout",
     "output_type": "stream",
     "text": [
      "epoch: 5, loss:6.800022888183594, metrics:897.8679809570312\n",
      "====================================================================================================\n",
      "LR=0.001, WD=0.01\n"
     ]
    },
    {
     "name": "stderr",
     "output_type": "stream",
     "text": [
      "Training: 100%|██████████| 20/20 [00:04<00:00,  4.43it/s, loss=9.14, metric=9.32e+3]\n"
     ]
    },
    {
     "name": "stdout",
     "output_type": "stream",
     "text": [
      "epoch: 1, loss:9.140196919441223, metrics:9322.599609375\n"
     ]
    },
    {
     "name": "stderr",
     "output_type": "stream",
     "text": [
      "Training: 100%|██████████| 20/20 [00:04<00:00,  4.43it/s, loss=7.21, metric=1.35e+3]\n"
     ]
    },
    {
     "name": "stdout",
     "output_type": "stream",
     "text": [
      "epoch: 2, loss:7.211291265487671, metrics:1354.640380859375\n"
     ]
    },
    {
     "name": "stderr",
     "output_type": "stream",
     "text": [
      "Training: 100%|██████████| 20/20 [00:04<00:00,  4.43it/s, loss=7.03, metric=1.13e+3]\n"
     ]
    },
    {
     "name": "stdout",
     "output_type": "stream",
     "text": [
      "epoch: 3, loss:7.026268029212952, metrics:1125.820068359375\n"
     ]
    },
    {
     "name": "stderr",
     "output_type": "stream",
     "text": [
      "Training: 100%|██████████| 20/20 [00:04<00:00,  4.43it/s, loss=6.98, metric=1.08e+3]\n"
     ]
    },
    {
     "name": "stdout",
     "output_type": "stream",
     "text": [
      "epoch: 4, loss:6.982975435256958, metrics:1078.12109375\n"
     ]
    },
    {
     "name": "stderr",
     "output_type": "stream",
     "text": [
      "Training: 100%|██████████| 20/20 [00:04<00:00,  4.43it/s, loss=7.23, metric=1.38e+3]\n"
     ]
    },
    {
     "name": "stdout",
     "output_type": "stream",
     "text": [
      "epoch: 5, loss:7.232320117950439, metrics:1383.42822265625\n",
      "====================================================================================================\n",
      "LR=0.0008, WD=1e-05\n"
     ]
    },
    {
     "name": "stderr",
     "output_type": "stream",
     "text": [
      "Training: 100%|██████████| 20/20 [00:04<00:00,  4.48it/s, loss=7.69, metric=2.18e+3]\n"
     ]
    },
    {
     "name": "stdout",
     "output_type": "stream",
     "text": [
      "epoch: 1, loss:7.688882970809937, metrics:2183.935546875\n"
     ]
    },
    {
     "name": "stderr",
     "output_type": "stream",
     "text": [
      "Training: 100%|██████████| 20/20 [00:04<00:00,  4.50it/s, loss=6.82, metric=915]   \n"
     ]
    },
    {
     "name": "stdout",
     "output_type": "stream",
     "text": [
      "epoch: 2, loss:6.819127106666565, metrics:915.185791015625\n"
     ]
    },
    {
     "name": "stderr",
     "output_type": "stream",
     "text": [
      "Training: 100%|██████████| 20/20 [00:04<00:00,  4.48it/s, loss=6.75, metric=850]\n"
     ]
    },
    {
     "name": "stdout",
     "output_type": "stream",
     "text": [
      "epoch: 3, loss:6.745766687393188, metrics:850.4512939453125\n"
     ]
    },
    {
     "name": "stderr",
     "output_type": "stream",
     "text": [
      "Training: 100%|██████████| 20/20 [00:04<00:00,  4.43it/s, loss=6.71, metric=818]\n"
     ]
    },
    {
     "name": "stdout",
     "output_type": "stream",
     "text": [
      "epoch: 4, loss:6.706879878044129, metrics:818.0140991210938\n"
     ]
    },
    {
     "name": "stderr",
     "output_type": "stream",
     "text": [
      "Training: 100%|██████████| 20/20 [00:04<00:00,  4.42it/s, loss=6.65, metric=772]\n"
     ]
    },
    {
     "name": "stdout",
     "output_type": "stream",
     "text": [
      "epoch: 5, loss:6.648811888694763, metrics:771.8670654296875\n",
      "====================================================================================================\n",
      "LR=0.0008, WD=0.0001\n"
     ]
    },
    {
     "name": "stderr",
     "output_type": "stream",
     "text": [
      "Training: 100%|██████████| 20/20 [00:04<00:00,  4.47it/s, loss=7.78, metric=2.39e+3]\n"
     ]
    },
    {
     "name": "stdout",
     "output_type": "stream",
     "text": [
      "epoch: 1, loss:7.779509401321411, metrics:2391.101806640625\n"
     ]
    },
    {
     "name": "stderr",
     "output_type": "stream",
     "text": [
      "Training: 100%|██████████| 20/20 [00:04<00:00,  4.49it/s, loss=6.87, metric=967]    \n"
     ]
    },
    {
     "name": "stdout",
     "output_type": "stream",
     "text": [
      "epoch: 2, loss:6.873942923545838, metrics:966.7523803710938\n"
     ]
    },
    {
     "name": "stderr",
     "output_type": "stream",
     "text": [
      "Training: 100%|██████████| 20/20 [00:04<00:00,  4.44it/s, loss=6.77, metric=873]\n"
     ]
    },
    {
     "name": "stdout",
     "output_type": "stream",
     "text": [
      "epoch: 3, loss:6.771868658065796, metrics:872.9424438476562\n"
     ]
    },
    {
     "name": "stderr",
     "output_type": "stream",
     "text": [
      "Training: 100%|██████████| 20/20 [00:04<00:00,  4.42it/s, loss=6.74, metric=846]\n"
     ]
    },
    {
     "name": "stdout",
     "output_type": "stream",
     "text": [
      "epoch: 4, loss:6.740200448036194, metrics:845.7306518554688\n"
     ]
    },
    {
     "name": "stderr",
     "output_type": "stream",
     "text": [
      "Training: 100%|██████████| 20/20 [00:04<00:00,  4.43it/s, loss=6.72, metric=830]\n"
     ]
    },
    {
     "name": "stdout",
     "output_type": "stream",
     "text": [
      "epoch: 5, loss:6.721966195106506, metrics:830.44921875\n",
      "====================================================================================================\n",
      "LR=0.0008, WD=0.001\n"
     ]
    },
    {
     "name": "stderr",
     "output_type": "stream",
     "text": [
      "Training: 100%|██████████| 20/20 [00:04<00:00,  4.44it/s, loss=8.11, metric=3.32e+3]\n"
     ]
    },
    {
     "name": "stdout",
     "output_type": "stream",
     "text": [
      "epoch: 1, loss:8.106438684463502, metrics:3315.751708984375\n"
     ]
    },
    {
     "name": "stderr",
     "output_type": "stream",
     "text": [
      "Training: 100%|██████████| 20/20 [00:04<00:00,  4.44it/s, loss=6.89, metric=985]    \n"
     ]
    },
    {
     "name": "stdout",
     "output_type": "stream",
     "text": [
      "epoch: 2, loss:6.892535090446472, metrics:984.8947143554688\n"
     ]
    },
    {
     "name": "stderr",
     "output_type": "stream",
     "text": [
      "Training: 100%|██████████| 20/20 [00:04<00:00,  4.43it/s, loss=6.83, metric=926]   \n"
     ]
    },
    {
     "name": "stdout",
     "output_type": "stream",
     "text": [
      "epoch: 3, loss:6.830748605728149, metrics:925.8836059570312\n"
     ]
    },
    {
     "name": "stderr",
     "output_type": "stream",
     "text": [
      "Training: 100%|██████████| 20/20 [00:04<00:00,  4.43it/s, loss=6.8, metric=902]    \n"
     ]
    },
    {
     "name": "stdout",
     "output_type": "stream",
     "text": [
      "epoch: 4, loss:6.804732441902161, metrics:902.1062622070312\n"
     ]
    },
    {
     "name": "stderr",
     "output_type": "stream",
     "text": [
      "Training: 100%|██████████| 20/20 [00:04<00:00,  4.44it/s, loss=6.79, metric=892]   \n"
     ]
    },
    {
     "name": "stdout",
     "output_type": "stream",
     "text": [
      "epoch: 5, loss:6.793151807785034, metrics:891.7197875976562\n",
      "====================================================================================================\n",
      "LR=0.0008, WD=0.01\n"
     ]
    },
    {
     "name": "stderr",
     "output_type": "stream",
     "text": [
      "Training: 100%|██████████| 20/20 [00:04<00:00,  4.43it/s, loss=9.37, metric=1.17e+4]\n"
     ]
    },
    {
     "name": "stdout",
     "output_type": "stream",
     "text": [
      "epoch: 1, loss:9.36732804775238, metrics:11699.80859375\n"
     ]
    },
    {
     "name": "stderr",
     "output_type": "stream",
     "text": [
      "Training: 100%|██████████| 20/20 [00:04<00:00,  4.43it/s, loss=7.33, metric=1.53e+3]\n"
     ]
    },
    {
     "name": "stdout",
     "output_type": "stream",
     "text": [
      "epoch: 2, loss:7.3313227891922, metrics:1527.399169921875\n"
     ]
    },
    {
     "name": "stderr",
     "output_type": "stream",
     "text": [
      "Training: 100%|██████████| 20/20 [00:04<00:00,  4.43it/s, loss=7.01, metric=1.11e+3]\n"
     ]
    },
    {
     "name": "stdout",
     "output_type": "stream",
     "text": [
      "epoch: 3, loss:7.010705614089966, metrics:1108.437255859375\n"
     ]
    },
    {
     "name": "stderr",
     "output_type": "stream",
     "text": [
      "Training: 100%|██████████| 20/20 [00:04<00:00,  4.44it/s, loss=6.97, metric=1.06e+3]\n"
     ]
    },
    {
     "name": "stdout",
     "output_type": "stream",
     "text": [
      "epoch: 4, loss:6.969636631011963, metrics:1063.8359375\n"
     ]
    },
    {
     "name": "stderr",
     "output_type": "stream",
     "text": [
      "Training: 100%|██████████| 20/20 [00:04<00:00,  4.44it/s, loss=7.19, metric=1.33e+3]\n"
     ]
    },
    {
     "name": "stdout",
     "output_type": "stream",
     "text": [
      "epoch: 5, loss:7.193404603004455, metrics:1330.6246337890625\n",
      "====================================================================================================\n",
      "LR=0.0005, WD=1e-05\n"
     ]
    },
    {
     "name": "stderr",
     "output_type": "stream",
     "text": [
      "Training: 100%|██████████| 20/20 [00:04<00:00,  4.47it/s, loss=7.9, metric=2.69e+3] \n"
     ]
    },
    {
     "name": "stdout",
     "output_type": "stream",
     "text": [
      "epoch: 1, loss:7.898765921592712, metrics:2693.954833984375\n"
     ]
    },
    {
     "name": "stderr",
     "output_type": "stream",
     "text": [
      "Training: 100%|██████████| 20/20 [00:04<00:00,  4.50it/s, loss=6.84, metric=935]   \n"
     ]
    },
    {
     "name": "stdout",
     "output_type": "stream",
     "text": [
      "epoch: 2, loss:6.840044045448304, metrics:934.53076171875\n"
     ]
    },
    {
     "name": "stderr",
     "output_type": "stream",
     "text": [
      "Training: 100%|██████████| 20/20 [00:04<00:00,  4.47it/s, loss=6.75, metric=853]\n"
     ]
    },
    {
     "name": "stdout",
     "output_type": "stream",
     "text": [
      "epoch: 3, loss:6.748474550247193, metrics:852.7573852539062\n"
     ]
    },
    {
     "name": "stderr",
     "output_type": "stream",
     "text": [
      "Training: 100%|██████████| 20/20 [00:04<00:00,  4.46it/s, loss=6.71, metric=823]\n"
     ]
    },
    {
     "name": "stdout",
     "output_type": "stream",
     "text": [
      "epoch: 4, loss:6.712655639648437, metrics:822.7526245117188\n"
     ]
    },
    {
     "name": "stderr",
     "output_type": "stream",
     "text": [
      "Training: 100%|██████████| 20/20 [00:04<00:00,  4.43it/s, loss=6.68, metric=797]\n"
     ]
    },
    {
     "name": "stdout",
     "output_type": "stream",
     "text": [
      "epoch: 5, loss:6.680705595016479, metrics:796.8807983398438\n",
      "====================================================================================================\n",
      "LR=0.0005, WD=0.0001\n"
     ]
    },
    {
     "name": "stderr",
     "output_type": "stream",
     "text": [
      "Training: 100%|██████████| 20/20 [00:04<00:00,  4.46it/s, loss=8.06, metric=3.15e+3]\n"
     ]
    },
    {
     "name": "stdout",
     "output_type": "stream",
     "text": [
      "epoch: 1, loss:8.055800414085388, metrics:3152.025146484375\n"
     ]
    },
    {
     "name": "stderr",
     "output_type": "stream",
     "text": [
      "Training: 100%|██████████| 20/20 [00:04<00:00,  4.48it/s, loss=6.9, metric=990]     \n"
     ]
    },
    {
     "name": "stdout",
     "output_type": "stream",
     "text": [
      "epoch: 2, loss:6.897694039344787, metrics:989.98974609375\n"
     ]
    },
    {
     "name": "stderr",
     "output_type": "stream",
     "text": [
      "Training: 100%|██████████| 20/20 [00:04<00:00,  4.46it/s, loss=6.79, metric=890]   \n"
     ]
    },
    {
     "name": "stdout",
     "output_type": "stream",
     "text": [
      "epoch: 3, loss:6.790688180923462, metrics:889.5249633789062\n"
     ]
    },
    {
     "name": "stderr",
     "output_type": "stream",
     "text": [
      "Training: 100%|██████████| 20/20 [00:04<00:00,  4.43it/s, loss=6.75, metric=856]\n"
     ]
    },
    {
     "name": "stdout",
     "output_type": "stream",
     "text": [
      "epoch: 4, loss:6.751765513420105, metrics:855.5673217773438\n"
     ]
    },
    {
     "name": "stderr",
     "output_type": "stream",
     "text": [
      "Training: 100%|██████████| 20/20 [00:04<00:00,  4.43it/s, loss=6.73, metric=840]\n"
     ]
    },
    {
     "name": "stdout",
     "output_type": "stream",
     "text": [
      "epoch: 5, loss:6.733897089958191, metrics:840.4161987304688\n",
      "====================================================================================================\n",
      "LR=0.0005, WD=0.001\n"
     ]
    },
    {
     "name": "stderr",
     "output_type": "stream",
     "text": [
      "Training: 100%|██████████| 20/20 [00:04<00:00,  4.44it/s, loss=8.54, metric=5.09e+3]\n"
     ]
    },
    {
     "name": "stdout",
     "output_type": "stream",
     "text": [
      "epoch: 1, loss:8.53599443435669, metrics:5094.89111328125\n"
     ]
    },
    {
     "name": "stderr",
     "output_type": "stream",
     "text": [
      "Training: 100%|██████████| 20/20 [00:04<00:00,  4.44it/s, loss=6.95, metric=1.05e+3]\n"
     ]
    },
    {
     "name": "stdout",
     "output_type": "stream",
     "text": [
      "epoch: 2, loss:6.953023767471313, metrics:1046.3084716796875\n"
     ]
    },
    {
     "name": "stderr",
     "output_type": "stream",
     "text": [
      "Training: 100%|██████████| 20/20 [00:04<00:00,  4.43it/s, loss=6.83, metric=930]   \n"
     ]
    },
    {
     "name": "stdout",
     "output_type": "stream",
     "text": [
      "epoch: 3, loss:6.8349179983139035, metrics:929.7521362304688\n"
     ]
    },
    {
     "name": "stderr",
     "output_type": "stream",
     "text": [
      "Training: 100%|██████████| 20/20 [00:04<00:00,  4.43it/s, loss=6.8, metric=898]    \n"
     ]
    },
    {
     "name": "stdout",
     "output_type": "stream",
     "text": [
      "epoch: 4, loss:6.799956250190735, metrics:897.8076782226562\n"
     ]
    },
    {
     "name": "stderr",
     "output_type": "stream",
     "text": [
      "Training: 100%|██████████| 20/20 [00:04<00:00,  4.43it/s, loss=6.79, metric=888]   \n"
     ]
    },
    {
     "name": "stdout",
     "output_type": "stream",
     "text": [
      "epoch: 5, loss:6.789428997039795, metrics:888.40673828125\n",
      "====================================================================================================\n",
      "LR=0.0005, WD=0.01\n"
     ]
    },
    {
     "name": "stderr",
     "output_type": "stream",
     "text": [
      "Training: 100%|██████████| 20/20 [00:04<00:00,  4.44it/s, loss=9.86, metric=1.91e+4]\n"
     ]
    },
    {
     "name": "stdout",
     "output_type": "stream",
     "text": [
      "epoch: 1, loss:9.856320142745972, metrics:19078.55859375\n"
     ]
    },
    {
     "name": "stderr",
     "output_type": "stream",
     "text": [
      "Training: 100%|██████████| 20/20 [00:04<00:00,  4.44it/s, loss=7.75, metric=2.33e+3]\n"
     ]
    },
    {
     "name": "stdout",
     "output_type": "stream",
     "text": [
      "epoch: 2, loss:7.753929543495178, metrics:2330.712158203125\n"
     ]
    },
    {
     "name": "stderr",
     "output_type": "stream",
     "text": [
      "Training: 100%|██████████| 20/20 [00:04<00:00,  4.43it/s, loss=7.08, metric=1.19e+3]\n"
     ]
    },
    {
     "name": "stdout",
     "output_type": "stream",
     "text": [
      "epoch: 3, loss:7.078774428367614, metrics:1186.5135498046875\n"
     ]
    },
    {
     "name": "stderr",
     "output_type": "stream",
     "text": [
      "Training: 100%|██████████| 20/20 [00:04<00:00,  4.43it/s, loss=7.03, metric=1.13e+3]\n"
     ]
    },
    {
     "name": "stdout",
     "output_type": "stream",
     "text": [
      "epoch: 4, loss:7.034057998657227, metrics:1134.6251220703125\n"
     ]
    },
    {
     "name": "stderr",
     "output_type": "stream",
     "text": [
      "Training: 100%|██████████| 20/20 [00:04<00:00,  4.44it/s, loss=6.92, metric=1.01e+3]\n"
     ]
    },
    {
     "name": "stdout",
     "output_type": "stream",
     "text": [
      "epoch: 5, loss:6.9210735082626345, metrics:1013.40771484375\n",
      "====================================================================================================\n",
      "LR=0.0001, WD=1e-05\n"
     ]
    },
    {
     "name": "stderr",
     "output_type": "stream",
     "text": [
      "Training: 100%|██████████| 20/20 [00:04<00:00,  4.45it/s, loss=9.74, metric=1.71e+4]\n"
     ]
    },
    {
     "name": "stdout",
     "output_type": "stream",
     "text": [
      "epoch: 1, loss:9.743935680389404, metrics:17050.513671875\n"
     ]
    },
    {
     "name": "stderr",
     "output_type": "stream",
     "text": [
      "Training: 100%|██████████| 20/20 [00:04<00:00,  4.46it/s, loss=7.36, metric=1.56e+3]\n"
     ]
    },
    {
     "name": "stdout",
     "output_type": "stream",
     "text": [
      "epoch: 2, loss:7.35561511516571, metrics:1564.9586181640625\n"
     ]
    },
    {
     "name": "stderr",
     "output_type": "stream",
     "text": [
      "Training: 100%|██████████| 20/20 [00:04<00:00,  4.48it/s, loss=6.92, metric=1.02e+3]\n"
     ]
    },
    {
     "name": "stdout",
     "output_type": "stream",
     "text": [
      "epoch: 3, loss:6.924872827529907, metrics:1017.266357421875\n"
     ]
    },
    {
     "name": "stderr",
     "output_type": "stream",
     "text": [
      "Training: 100%|██████████| 20/20 [00:04<00:00,  4.48it/s, loss=6.86, metric=952]   \n"
     ]
    },
    {
     "name": "stdout",
     "output_type": "stream",
     "text": [
      "epoch: 4, loss:6.8583427429199215, metrics:951.788330078125\n"
     ]
    },
    {
     "name": "stderr",
     "output_type": "stream",
     "text": [
      "Training: 100%|██████████| 20/20 [00:04<00:00,  4.46it/s, loss=6.82, metric=912]   \n"
     ]
    },
    {
     "name": "stdout",
     "output_type": "stream",
     "text": [
      "epoch: 5, loss:6.815277194976806, metrics:911.6691284179688\n",
      "====================================================================================================\n",
      "LR=0.0001, WD=0.0001\n"
     ]
    },
    {
     "name": "stderr",
     "output_type": "stream",
     "text": [
      "Training: 100%|██████████| 20/20 [00:04<00:00,  4.44it/s, loss=9.86, metric=1.91e+4]\n"
     ]
    },
    {
     "name": "stdout",
     "output_type": "stream",
     "text": [
      "epoch: 1, loss:9.859853172302246, metrics:19146.08984375\n"
     ]
    },
    {
     "name": "stderr",
     "output_type": "stream",
     "text": [
      "Training: 100%|██████████| 20/20 [00:04<00:00,  4.44it/s, loss=7.76, metric=2.35e+3]\n"
     ]
    },
    {
     "name": "stdout",
     "output_type": "stream",
     "text": [
      "epoch: 2, loss:7.763565158843994, metrics:2353.277099609375\n"
     ]
    },
    {
     "name": "stderr",
     "output_type": "stream",
     "text": [
      "Training: 100%|██████████| 20/20 [00:04<00:00,  4.47it/s, loss=6.97, metric=1.07e+3]\n"
     ]
    },
    {
     "name": "stdout",
     "output_type": "stream",
     "text": [
      "epoch: 3, loss:6.971311497688293, metrics:1065.6199951171875\n"
     ]
    },
    {
     "name": "stderr",
     "output_type": "stream",
     "text": [
      "Training: 100%|██████████| 20/20 [00:04<00:00,  4.45it/s, loss=6.88, metric=973]   \n"
     ]
    },
    {
     "name": "stdout",
     "output_type": "stream",
     "text": [
      "epoch: 4, loss:6.880363273620605, metrics:972.9808959960938\n"
     ]
    },
    {
     "name": "stderr",
     "output_type": "stream",
     "text": [
      "Training: 100%|██████████| 20/20 [00:04<00:00,  4.44it/s, loss=6.84, metric=934]   \n"
     ]
    },
    {
     "name": "stdout",
     "output_type": "stream",
     "text": [
      "epoch: 5, loss:6.839760899543762, metrics:934.265625\n",
      "====================================================================================================\n",
      "LR=0.0001, WD=0.001\n"
     ]
    },
    {
     "name": "stderr",
     "output_type": "stream",
     "text": [
      "Training: 100%|██████████| 20/20 [00:04<00:00,  4.44it/s, loss=9.92, metric=2.04e+4]\n"
     ]
    },
    {
     "name": "stdout",
     "output_type": "stream",
     "text": [
      "epoch: 1, loss:9.922811794281007, metrics:20390.255859375\n"
     ]
    },
    {
     "name": "stderr",
     "output_type": "stream",
     "text": [
      "Training: 100%|██████████| 20/20 [00:04<00:00,  4.44it/s, loss=9.2, metric=9.93e+3] \n"
     ]
    },
    {
     "name": "stdout",
     "output_type": "stream",
     "text": [
      "epoch: 2, loss:9.203314208984375, metrics:9929.990234375\n"
     ]
    },
    {
     "name": "stderr",
     "output_type": "stream",
     "text": [
      "Training: 100%|██████████| 20/20 [00:04<00:00,  4.44it/s, loss=7.36, metric=1.57e+3]\n"
     ]
    },
    {
     "name": "stdout",
     "output_type": "stream",
     "text": [
      "epoch: 3, loss:7.357891774177551, metrics:1568.5267333984375\n"
     ]
    },
    {
     "name": "stderr",
     "output_type": "stream",
     "text": [
      "Training: 100%|██████████| 20/20 [00:04<00:00,  4.43it/s, loss=7, metric=1.1e+3]    \n"
     ]
    },
    {
     "name": "stdout",
     "output_type": "stream",
     "text": [
      "epoch: 4, loss:7.001811408996582, metrics:1098.6209716796875\n"
     ]
    },
    {
     "name": "stderr",
     "output_type": "stream",
     "text": [
      "Training: 100%|██████████| 20/20 [00:04<00:00,  4.44it/s, loss=6.9, metric=994]     \n"
     ]
    },
    {
     "name": "stdout",
     "output_type": "stream",
     "text": [
      "epoch: 5, loss:6.901378464698792, metrics:993.6426391601562\n",
      "====================================================================================================\n",
      "LR=0.0001, WD=0.01\n"
     ]
    },
    {
     "name": "stderr",
     "output_type": "stream",
     "text": [
      "Training: 100%|██████████| 20/20 [00:04<00:00,  4.44it/s, loss=9.94, metric=2.07e+4]\n"
     ]
    },
    {
     "name": "stdout",
     "output_type": "stream",
     "text": [
      "epoch: 1, loss:9.93846354484558, metrics:20711.87109375\n"
     ]
    },
    {
     "name": "stderr",
     "output_type": "stream",
     "text": [
      "Training: 100%|██████████| 20/20 [00:04<00:00,  4.44it/s, loss=9.92, metric=2.03e+4]\n"
     ]
    },
    {
     "name": "stdout",
     "output_type": "stream",
     "text": [
      "epoch: 2, loss:9.918368291854858, metrics:20299.841796875\n"
     ]
    },
    {
     "name": "stderr",
     "output_type": "stream",
     "text": [
      "Training: 100%|██████████| 20/20 [00:04<00:00,  4.44it/s, loss=9.88, metric=1.94e+4]\n"
     ]
    },
    {
     "name": "stdout",
     "output_type": "stream",
     "text": [
      "epoch: 3, loss:9.87538685798645, metrics:19445.81640625\n"
     ]
    },
    {
     "name": "stderr",
     "output_type": "stream",
     "text": [
      "Training: 100%|██████████| 20/20 [00:04<00:00,  4.43it/s, loss=9.37, metric=1.18e+4]\n"
     ]
    },
    {
     "name": "stdout",
     "output_type": "stream",
     "text": [
      "epoch: 4, loss:9.372643089294433, metrics:11762.1669921875\n"
     ]
    },
    {
     "name": "stderr",
     "output_type": "stream",
     "text": [
      "Training: 100%|██████████| 20/20 [00:04<00:00,  4.43it/s, loss=7.78, metric=2.39e+3]"
     ]
    },
    {
     "name": "stdout",
     "output_type": "stream",
     "text": [
      "epoch: 5, loss:7.779203462600708, metrics:2390.370849609375\n",
      "====================================================================================================\n"
     ]
    },
    {
     "name": "stderr",
     "output_type": "stream",
     "text": [
      "\n"
     ]
    }
   ],
   "source": [
    "num_epochs = 5\n",
    "\n",
    "for lr in [5e-3, 1e-3, 8e-4, 5e-4, 1e-4]:\n",
    "  for wd in [1e-5, 1e-4, 1e-3, 1e-2]:\n",
    "    print(f'LR={lr}, WD={wd}')\n",
    "\n",
    "    model = LSTM(vocab_size, embedding_dim, hidden_dim, num_layers, dropout_rate, tie_weights).to(device)\n",
    "    optimizer = optim.Adam(model.parameters(), lr=lr, weight_decay=wd)\n",
    "\n",
    "    for epoch in range(num_epochs):\n",
    "        model, l, met = train(model, mini_dataset, loss_fn, optimizer, metric, device)\n",
    "        print(f'epoch: {epoch+1}, loss:{l}, metrics:{met}')\n",
    "\n",
    "    print(\"==\"*50)"
   ]
  },
  {
   "cell_type": "markdown",
   "metadata": {},
   "source": [
    "## **The best hyperparameters are LR=5e-3, WD=1e-05**"
   ]
  },
  {
   "cell_type": "markdown",
   "metadata": {
    "id": "Mjd9Z3N1ef3I"
   },
   "source": [
    "### 🟡 Step 5: Train model for longer epochs using the best model from step 4.\n",
    "\n",
    "\n",
    "\n"
   ]
  },
  {
   "cell_type": "markdown",
   "metadata": {},
   "source": [
    "### **Train on subsample of train data**"
   ]
  },
  {
   "cell_type": "code",
   "execution_count": 77,
   "metadata": {
    "execution": {
     "iopub.execute_input": "2025-01-01T21:07:05.483263Z",
     "iopub.status.busy": "2025-01-01T21:07:05.482964Z",
     "iopub.status.idle": "2025-01-01T21:07:06.305544Z",
     "shell.execute_reply": "2025-01-01T21:07:06.304853Z",
     "shell.execute_reply.started": "2025-01-01T21:07:05.483241Z"
    },
    "id": "IWgkMgC6JWpU",
    "trusted": true
   },
   "outputs": [],
   "source": [
    "model = LSTM(vocab_size, embedding_dim, hidden_dim, num_layers, dropout_rate, tie_weights).to(device)"
   ]
  },
  {
   "cell_type": "code",
   "execution_count": 78,
   "metadata": {
    "execution": {
     "iopub.execute_input": "2025-01-01T21:07:09.171991Z",
     "iopub.status.busy": "2025-01-01T21:07:09.171645Z",
     "iopub.status.idle": "2025-01-01T21:07:09.176382Z",
     "shell.execute_reply": "2025-01-01T21:07:09.175729Z",
     "shell.execute_reply.started": "2025-01-01T21:07:09.171961Z"
    },
    "id": "YVwLp-02JWpV",
    "trusted": true
   },
   "outputs": [],
   "source": [
    "lr = 5e-3\n",
    "wd = 1e-5\n",
    "optimizer = optim.Adam(model.parameters(), lr=lr, weight_decay=wd)"
   ]
  },
  {
   "cell_type": "code",
   "execution_count": 79,
   "metadata": {
    "execution": {
     "iopub.execute_input": "2025-01-01T21:07:12.298259Z",
     "iopub.status.busy": "2025-01-01T21:07:12.297976Z",
     "iopub.status.idle": "2025-01-01T21:07:12.302279Z",
     "shell.execute_reply": "2025-01-01T21:07:12.301355Z",
     "shell.execute_reply.started": "2025-01-01T21:07:12.298238Z"
    },
    "id": "zqxSVVB7JWpW",
    "trusted": true
   },
   "outputs": [],
   "source": [
    "loss_train_hist = []\n",
    "loss_valid_hist = []\n",
    "\n",
    "metric_train_hist = []\n",
    "metric_valid_hist = []\n",
    "\n",
    "best_loss_valid = torch.inf\n",
    "epoch_counter = 0"
   ]
  },
  {
   "cell_type": "code",
   "execution_count": 83,
   "metadata": {
    "execution": {
     "iopub.execute_input": "2025-01-01T21:12:21.162541Z",
     "iopub.status.busy": "2025-01-01T21:12:21.162215Z",
     "iopub.status.idle": "2025-01-01T21:12:21.166291Z",
     "shell.execute_reply": "2025-01-01T21:12:21.165298Z",
     "shell.execute_reply.started": "2025-01-01T21:12:21.162512Z"
    },
    "trusted": true
   },
   "outputs": [],
   "source": [
    "mini_dataset = Subset(train_dataset, list(range(100)))"
   ]
  },
  {
   "cell_type": "code",
   "execution_count": 88,
   "metadata": {
    "execution": {
     "iopub.execute_input": "2025-01-01T21:22:50.736725Z",
     "iopub.status.busy": "2025-01-01T21:22:50.736377Z",
     "iopub.status.idle": "2025-01-01T21:27:06.123938Z",
     "shell.execute_reply": "2025-01-01T21:27:06.122918Z",
     "shell.execute_reply.started": "2025-01-01T21:22:50.736689Z"
    },
    "id": "eVqS9SEPJWpW",
    "trusted": true
   },
   "outputs": [
    {
     "name": "stderr",
     "output_type": "stream",
     "text": [
      "Training: 100%|██████████| 100/100 [00:22<00:00,  4.43it/s, loss=4.53, metric=92.7]\n",
      "Evaluating: 100%|██████████| 34/34 [00:02<00:00, 12.55it/s]\n"
     ]
    },
    {
     "name": "stdout",
     "output_type": "stream",
     "text": [
      "Model Saved!\n",
      "epoch:0\n",
      "Train: Loss = 4.529, Metric = 92.69\n",
      "Valid: Loss = 4.952, Metric = 141.5\n",
      "\n"
     ]
    },
    {
     "name": "stderr",
     "output_type": "stream",
     "text": [
      "Training: 100%|██████████| 100/100 [00:22<00:00,  4.42it/s, loss=4.51, metric=90.7]\n",
      "Evaluating: 100%|██████████| 34/34 [00:02<00:00, 12.57it/s]\n"
     ]
    },
    {
     "name": "stdout",
     "output_type": "stream",
     "text": [
      "epoch:1\n",
      "Train: Loss = 4.507, Metric = 90.68\n",
      "Valid: Loss = 4.973, Metric = 144.4\n",
      "\n"
     ]
    },
    {
     "name": "stderr",
     "output_type": "stream",
     "text": [
      "Training: 100%|██████████| 100/100 [00:22<00:00,  4.43it/s, loss=4.49, metric=89.5]\n",
      "Evaluating: 100%|██████████| 34/34 [00:02<00:00, 12.54it/s]\n"
     ]
    },
    {
     "name": "stdout",
     "output_type": "stream",
     "text": [
      "epoch:2\n",
      "Train: Loss = 4.494, Metric = 89.45\n",
      "Valid: Loss = 4.969, Metric = 143.9\n",
      "\n"
     ]
    },
    {
     "name": "stderr",
     "output_type": "stream",
     "text": [
      "Training: 100%|██████████| 100/100 [00:22<00:00,  4.43it/s, loss=4.47, metric=87.6]\n",
      "Evaluating: 100%|██████████| 34/34 [00:02<00:00, 12.54it/s]\n"
     ]
    },
    {
     "name": "stdout",
     "output_type": "stream",
     "text": [
      "Model Saved!\n",
      "epoch:3\n",
      "Train: Loss = 4.473, Metric = 87.58\n",
      "Valid: Loss = 4.943, Metric = 140.1\n",
      "\n"
     ]
    },
    {
     "name": "stderr",
     "output_type": "stream",
     "text": [
      "Training: 100%|██████████| 100/100 [00:22<00:00,  4.42it/s, loss=4.45, metric=85.9]\n",
      "Evaluating: 100%|██████████| 34/34 [00:02<00:00, 12.55it/s]\n"
     ]
    },
    {
     "name": "stdout",
     "output_type": "stream",
     "text": [
      "Model Saved!\n",
      "epoch:4\n",
      "Train: Loss = 4.453, Metric = 85.89\n",
      "Valid: Loss = 4.94, Metric = 139.8\n",
      "\n"
     ]
    },
    {
     "name": "stderr",
     "output_type": "stream",
     "text": [
      "Training: 100%|██████████| 100/100 [00:22<00:00,  4.42it/s, loss=4.44, metric=85.1]\n",
      "Evaluating: 100%|██████████| 34/34 [00:02<00:00, 12.55it/s]\n"
     ]
    },
    {
     "name": "stdout",
     "output_type": "stream",
     "text": [
      "epoch:5\n",
      "Train: Loss = 4.444, Metric = 85.08\n",
      "Valid: Loss = 4.944, Metric = 140.3\n",
      "\n"
     ]
    },
    {
     "name": "stderr",
     "output_type": "stream",
     "text": [
      "Training: 100%|██████████| 100/100 [00:22<00:00,  4.43it/s, loss=4.43, metric=83.9]\n",
      "Evaluating: 100%|██████████| 34/34 [00:02<00:00, 12.54it/s]\n"
     ]
    },
    {
     "name": "stdout",
     "output_type": "stream",
     "text": [
      "Model Saved!\n",
      "epoch:6\n",
      "Train: Loss = 4.43, Metric = 83.9\n",
      "Valid: Loss = 4.939, Metric = 139.7\n",
      "\n"
     ]
    },
    {
     "name": "stderr",
     "output_type": "stream",
     "text": [
      "Training: 100%|██████████| 100/100 [00:22<00:00,  4.43it/s, loss=4.41, metric=82.2]\n",
      "Evaluating: 100%|██████████| 34/34 [00:02<00:00, 12.56it/s]\n"
     ]
    },
    {
     "name": "stdout",
     "output_type": "stream",
     "text": [
      "epoch:7\n",
      "Train: Loss = 4.409, Metric = 82.17\n",
      "Valid: Loss = 4.949, Metric = 141.1\n",
      "\n"
     ]
    },
    {
     "name": "stderr",
     "output_type": "stream",
     "text": [
      "Training: 100%|██████████| 100/100 [00:22<00:00,  4.43it/s, loss=4.39, metric=81] \n",
      "Evaluating: 100%|██████████| 34/34 [00:02<00:00, 12.55it/s]\n"
     ]
    },
    {
     "name": "stdout",
     "output_type": "stream",
     "text": [
      "epoch:8\n",
      "Train: Loss = 4.394, Metric = 80.99\n",
      "Valid: Loss = 4.946, Metric = 140.6\n",
      "\n"
     ]
    },
    {
     "name": "stderr",
     "output_type": "stream",
     "text": [
      "Training: 100%|██████████| 100/100 [00:22<00:00,  4.43it/s, loss=4.39, metric=80.4]\n",
      "Evaluating: 100%|██████████| 34/34 [00:02<00:00, 12.53it/s]\n"
     ]
    },
    {
     "name": "stdout",
     "output_type": "stream",
     "text": [
      "Model Saved!\n",
      "epoch:9\n",
      "Train: Loss = 4.387, Metric = 80.37\n",
      "Valid: Loss = 4.932, Metric = 138.6\n",
      "\n"
     ]
    }
   ],
   "source": [
    "num_epochs = 50\n",
    "\n",
    "for epoch in range(num_epochs):\n",
    "    # Train\n",
    "    model, loss_train, metric_train = train(model, mini_dataset, \n",
    "                                            loss_fn, optimizer, metric, device)    \n",
    "    # Validation\n",
    "    loss_valid, metric_valid = evaluate(model, valid_dataset, loss_fn, metric)\n",
    "    \n",
    "    loss_train_hist.append(loss_train)\n",
    "    loss_valid_hist.append(loss_valid)\n",
    "    \n",
    "    metric_train_hist.append(metric_train)\n",
    "    metric_valid_hist.append(metric_valid)\n",
    "    \n",
    "    if loss_valid < best_loss_valid:\n",
    "        torch.save(model, f'model.pt')\n",
    "        best_loss_valid = loss_valid\n",
    "        print('Model Saved!')\n",
    "\n",
    "    print(f'epoch:{epoch}\\nTrain: Loss = {loss_train:.4}, Metric = {metric_train:.4}')\n",
    "    print(f'Valid: Loss = {loss_valid:.4}, Metric = {metric_valid:.4}')\n",
    "    print()\n",
    "    \n",
    "    epoch_counter += 1"
   ]
  },
  {
   "cell_type": "code",
   "execution_count": 38,
   "metadata": {
    "execution": {
     "iopub.execute_input": "2025-01-01T23:25:43.114959Z",
     "iopub.status.busy": "2025-01-01T23:25:43.114664Z",
     "iopub.status.idle": "2025-01-01T23:25:43.121715Z",
     "shell.execute_reply": "2025-01-01T23:25:43.120856Z",
     "shell.execute_reply.started": "2025-01-01T23:25:43.114937Z"
    },
    "trusted": true
   },
   "outputs": [],
   "source": [
    "import matplotlib.pyplot as plt\n",
    "\n",
    "def plot_training_history(loss_train_hist, loss_valid_hist, metric_train_hist, metric_valid_hist):\n",
    "    epochs = range(1, len(loss_train_hist) + 1)\n",
    "    \n",
    "    # Find the best epoch (based on validation loss or metric)\n",
    "    best_epoch = loss_valid_hist.index(min(loss_valid_hist)) + 1\n",
    "\n",
    "    # Plot Loss\n",
    "    plt.figure(figsize=(12, 5))\n",
    "    \n",
    "    # Loss plot\n",
    "    plt.subplot(1, 2, 1)\n",
    "    plt.plot(epochs, loss_train_hist, label='Train Loss', marker='o')\n",
    "    plt.plot(epochs, loss_valid_hist, label='Validation Loss', marker='o')\n",
    "    plt.axvline(best_epoch, color='red', linestyle='--', label=f'Best Epoch ({best_epoch})')\n",
    "    plt.xlabel('Epochs')\n",
    "    plt.ylabel('Loss')\n",
    "    plt.title('Training and Validation Loss')\n",
    "    plt.legend()\n",
    "    plt.grid(True)\n",
    "\n",
    "    # Metric plot\n",
    "    plt.subplot(1, 2, 2)\n",
    "    plt.plot(epochs, metric_train_hist, label='Train Metric', marker='o')\n",
    "    plt.plot(epochs, metric_valid_hist, label='Validation Metric', marker='o')\n",
    "    plt.axvline(best_epoch, color='red', linestyle='--', label=f'Best Epoch ({best_epoch})')\n",
    "    plt.xlabel('Epochs')\n",
    "    plt.ylabel('Metric')\n",
    "    plt.title('Training and Validation Metric')\n",
    "    plt.legend()\n",
    "    plt.grid(True)\n",
    "\n",
    "    plt.tight_layout()\n",
    "    plt.show()\n"
   ]
  },
  {
   "cell_type": "code",
   "execution_count": 93,
   "metadata": {
    "execution": {
     "iopub.execute_input": "2025-01-01T21:36:41.830958Z",
     "iopub.status.busy": "2025-01-01T21:36:41.830655Z",
     "iopub.status.idle": "2025-01-01T21:36:42.390397Z",
     "shell.execute_reply": "2025-01-01T21:36:42.389467Z",
     "shell.execute_reply.started": "2025-01-01T21:36:41.830934Z"
    },
    "trusted": true
   },
   "outputs": [
    {
     "data": {
      "image/png": "[encoded data removed]",
      "text/plain": [
       "<Figure size 1200x500 with 2 Axes>"
      ]
     },
     "metadata": {},
     "output_type": "display_data"
    }
   ],
   "source": [
    "plot_training_history(loss_train_hist, loss_valid_hist, metric_train_hist, metric_valid_hist)"
   ]
  },
  {
   "cell_type": "markdown",
   "metadata": {
    "id": "rjGQ-M02cusP"
   },
   "source": [
    "## 🟠 Main Loop"
   ]
  },
  {
   "cell_type": "markdown",
   "metadata": {
    "id": "4AdYaMU4x34g"
   },
   "source": [
    "🔰 Define model."
   ]
  },
  {
   "cell_type": "code",
   "execution_count": 31,
   "metadata": {
    "execution": {
     "iopub.execute_input": "2025-01-01T23:08:20.415349Z",
     "iopub.status.busy": "2025-01-01T23:08:20.415000Z",
     "iopub.status.idle": "2025-01-01T23:08:21.205797Z",
     "shell.execute_reply": "2025-01-01T23:08:21.204883Z",
     "shell.execute_reply.started": "2025-01-01T23:08:20.415320Z"
    },
    "id": "JCtZXDybxexf",
    "trusted": true
   },
   "outputs": [],
   "source": [
    "model = LSTM(vocab_size, embedding_dim, hidden_dim, num_layers, dropout_rate, tie_weights).to(device)"
   ]
  },
  {
   "cell_type": "markdown",
   "metadata": {
    "id": "AUKZRiQPxqrB"
   },
   "source": [
    "🔰 Define optimizer and Set learning rate and weight decay."
   ]
  },
  {
   "cell_type": "code",
   "execution_count": 95,
   "metadata": {
    "execution": {
     "iopub.execute_input": "2025-01-01T21:37:13.236656Z",
     "iopub.status.busy": "2025-01-01T21:37:13.236335Z",
     "iopub.status.idle": "2025-01-01T21:37:13.241270Z",
     "shell.execute_reply": "2025-01-01T21:37:13.240254Z",
     "shell.execute_reply.started": "2025-01-01T21:37:13.236625Z"
    },
    "id": "bowjVB5yIXUP",
    "trusted": true
   },
   "outputs": [],
   "source": [
    "lr = 5e-3\n",
    "wd = 1e-5\n",
    "optimizer = optim.Adam(model.parameters(), lr=lr, weight_decay=wd)"
   ]
  },
  {
   "cell_type": "markdown",
   "metadata": {
    "id": "AUyFFIzlyaiB"
   },
   "source": [
    "🔰 Write code to train the model for `num_epochs` epoches."
   ]
  },
  {
   "cell_type": "code",
   "execution_count": 33,
   "metadata": {
    "execution": {
     "iopub.execute_input": "2025-01-01T23:08:51.083737Z",
     "iopub.status.busy": "2025-01-01T23:08:51.083450Z",
     "iopub.status.idle": "2025-01-01T23:08:51.087705Z",
     "shell.execute_reply": "2025-01-01T23:08:51.086987Z",
     "shell.execute_reply.started": "2025-01-01T23:08:51.083716Z"
    },
    "id": "CAXagB4yvtZd",
    "trusted": true
   },
   "outputs": [],
   "source": [
    "loss_train_hist = []\n",
    "loss_valid_hist = []\n",
    "\n",
    "metric_train_hist = []\n",
    "metric_valid_hist = []\n",
    "\n",
    "best_loss_valid = torch.inf\n",
    "epoch_counter = 0"
   ]
  },
  {
   "cell_type": "code",
   "execution_count": 36,
   "metadata": {
    "execution": {
     "iopub.execute_input": "2025-01-01T23:09:14.046146Z",
     "iopub.status.busy": "2025-01-01T23:09:14.045594Z",
     "iopub.status.idle": "2025-01-01T23:21:50.722324Z",
     "shell.execute_reply": "2025-01-01T23:21:50.721334Z",
     "shell.execute_reply.started": "2025-01-01T23:09:14.046109Z"
    },
    "trusted": true
   },
   "outputs": [
    {
     "name": "stderr",
     "output_type": "stream",
     "text": [
      "Training: 100%|██████████| 163/163 [01:11<00:00,  2.27it/s, loss=3.95, metric=51.9]\n",
      "Evaluating: 100%|██████████| 17/17 [00:02<00:00,  6.19it/s]\n"
     ]
    },
    {
     "name": "stdout",
     "output_type": "stream",
     "text": [
      "Model Saved!\n",
      "epoch:1\n",
      "Train: Loss = 3.949, Metric = 51.89\n",
      "Valid: Loss = 4.366, Metric = 78.69\n",
      "\n"
     ]
    },
    {
     "name": "stderr",
     "output_type": "stream",
     "text": [
      "Training: 100%|██████████| 163/163 [01:12<00:00,  2.24it/s, loss=3.94, metric=51.7]\n",
      "Evaluating: 100%|██████████| 17/17 [00:02<00:00,  6.18it/s]\n"
     ]
    },
    {
     "name": "stdout",
     "output_type": "stream",
     "text": [
      "Model Saved!\n",
      "epoch:2\n",
      "Train: Loss = 3.945, Metric = 51.65\n",
      "Valid: Loss = 4.365, Metric = 78.67\n",
      "\n"
     ]
    },
    {
     "name": "stderr",
     "output_type": "stream",
     "text": [
      "Training: 100%|██████████| 163/163 [01:12<00:00,  2.24it/s, loss=3.94, metric=51.4]\n",
      "Evaluating: 100%|██████████| 17/17 [00:02<00:00,  6.18it/s]\n"
     ]
    },
    {
     "name": "stdout",
     "output_type": "stream",
     "text": [
      "epoch:3\n",
      "Train: Loss = 3.94, Metric = 51.39\n",
      "Valid: Loss = 4.366, Metric = 78.71\n",
      "\n"
     ]
    },
    {
     "name": "stderr",
     "output_type": "stream",
     "text": [
      "Training: 100%|██████████| 163/163 [01:12<00:00,  2.24it/s, loss=3.94, metric=51.2]\n",
      "Evaluating: 100%|██████████| 17/17 [00:02<00:00,  6.19it/s]\n"
     ]
    },
    {
     "name": "stdout",
     "output_type": "stream",
     "text": [
      "Model Saved!\n",
      "epoch:4\n",
      "Train: Loss = 3.936, Metric = 51.22\n",
      "Valid: Loss = 4.365, Metric = 78.63\n",
      "\n"
     ]
    },
    {
     "name": "stderr",
     "output_type": "stream",
     "text": [
      "Training: 100%|██████████| 163/163 [01:12<00:00,  2.24it/s, loss=3.93, metric=51]  \n",
      "Evaluating: 100%|██████████| 17/17 [00:02<00:00,  6.17it/s]\n"
     ]
    },
    {
     "name": "stdout",
     "output_type": "stream",
     "text": [
      "Model Saved!\n",
      "epoch:5\n",
      "Train: Loss = 3.932, Metric = 51.02\n",
      "Valid: Loss = 4.365, Metric = 78.63\n",
      "\n"
     ]
    },
    {
     "name": "stderr",
     "output_type": "stream",
     "text": [
      "Training: 100%|██████████| 163/163 [01:12<00:00,  2.24it/s, loss=3.93, metric=50.9]\n",
      "Evaluating: 100%|██████████| 17/17 [00:02<00:00,  6.19it/s]\n"
     ]
    },
    {
     "name": "stdout",
     "output_type": "stream",
     "text": [
      "epoch:6\n",
      "Train: Loss = 3.93, Metric = 50.92\n",
      "Valid: Loss = 4.365, Metric = 78.64\n",
      "\n"
     ]
    },
    {
     "name": "stderr",
     "output_type": "stream",
     "text": [
      "Training: 100%|██████████| 163/163 [01:12<00:00,  2.24it/s, loss=3.93, metric=50.7]\n",
      "Evaluating: 100%|██████████| 17/17 [00:02<00:00,  6.17it/s]\n"
     ]
    },
    {
     "name": "stdout",
     "output_type": "stream",
     "text": [
      "Model Saved!\n",
      "epoch:7\n",
      "Train: Loss = 3.925, Metric = 50.66\n",
      "Valid: Loss = 4.363, Metric = 78.47\n",
      "\n"
     ]
    },
    {
     "name": "stderr",
     "output_type": "stream",
     "text": [
      "Training: 100%|██████████| 163/163 [01:12<00:00,  2.24it/s, loss=3.92, metric=50.5]\n",
      "Evaluating: 100%|██████████| 17/17 [00:02<00:00,  6.16it/s]\n"
     ]
    },
    {
     "name": "stdout",
     "output_type": "stream",
     "text": [
      "epoch:8\n",
      "Train: Loss = 3.922, Metric = 50.53\n",
      "Valid: Loss = 4.364, Metric = 78.59\n",
      "\n"
     ]
    },
    {
     "name": "stderr",
     "output_type": "stream",
     "text": [
      "Training: 100%|██████████| 163/163 [01:12<00:00,  2.24it/s, loss=3.92, metric=50.5]\n",
      "Evaluating: 100%|██████████| 17/17 [00:02<00:00,  6.16it/s]\n"
     ]
    },
    {
     "name": "stdout",
     "output_type": "stream",
     "text": [
      "epoch:9\n",
      "Train: Loss = 3.922, Metric = 50.49\n",
      "Valid: Loss = 4.365, Metric = 78.62\n",
      "\n"
     ]
    },
    {
     "name": "stderr",
     "output_type": "stream",
     "text": [
      "Training: 100%|██████████| 163/163 [01:12<00:00,  2.24it/s, loss=3.92, metric=50.3]\n",
      "Evaluating: 100%|██████████| 17/17 [00:02<00:00,  6.20it/s]\n"
     ]
    },
    {
     "name": "stdout",
     "output_type": "stream",
     "text": [
      "Model Saved!\n",
      "epoch:10\n",
      "Train: Loss = 3.918, Metric = 50.31\n",
      "Valid: Loss = 4.363, Metric = 78.47\n",
      "\n"
     ]
    }
   ],
   "source": [
    "num_epochs = 10\n",
    "\n",
    "for epoch in range(num_epochs):\n",
    "    # Train\n",
    "    model, loss_train, metric_train = train(model, train_dataset, \n",
    "                                            loss_fn, optimizer, metric, device)    \n",
    "    # Validation\n",
    "    loss_valid, metric_valid = evaluate(model, valid_dataset, loss_fn, metric)\n",
    "    \n",
    "    loss_train_hist.append(loss_train)\n",
    "    loss_valid_hist.append(loss_valid)\n",
    "    \n",
    "    metric_train_hist.append(metric_train)\n",
    "    metric_valid_hist.append(metric_valid)\n",
    "    \n",
    "    if loss_valid < best_loss_valid:\n",
    "        torch.save(model, f'model.pt')\n",
    "        best_loss_valid = loss_valid\n",
    "        print('Model Saved!')\n",
    "\n",
    "    print(f'epoch:{epoch+1}\\nTrain: Loss = {loss_train:.4}, Metric = {metric_train:.4}')\n",
    "    print(f'Valid: Loss = {loss_valid:.4}, Metric = {metric_valid:.4}')\n",
    "    print()\n",
    "    \n",
    "    epoch_counter += 1"
   ]
  },
  {
   "cell_type": "markdown",
   "metadata": {
    "id": "oK20iNRI3Xxb"
   },
   "source": [
    "## 🟠 Plot"
   ]
  },
  {
   "cell_type": "markdown",
   "metadata": {
    "id": "IKlLvCwuzEAA"
   },
   "source": [
    "🔰 Plot learning curves"
   ]
  },
  {
   "cell_type": "code",
   "execution_count": 39,
   "metadata": {
    "execution": {
     "iopub.execute_input": "2025-01-01T23:25:47.745760Z",
     "iopub.status.busy": "2025-01-01T23:25:47.745477Z",
     "iopub.status.idle": "2025-01-01T23:25:48.320169Z",
     "shell.execute_reply": "2025-01-01T23:25:48.319293Z",
     "shell.execute_reply.started": "2025-01-01T23:25:47.745739Z"
    },
    "id": "KYFzTsdIOkVp",
    "trusted": true
   },
   "outputs": [
    {
     "data": {
      "image/png": "[encoded data removed]",
      "text/plain": [
       "<Figure size 1200x500 with 2 Axes>"
      ]
     },
     "metadata": {},
     "output_type": "display_data"
    }
   ],
   "source": [
    "plot_training_history(loss_train_hist, loss_valid_hist, metric_train_hist, metric_valid_hist)"
   ]
  },
  {
   "cell_type": "markdown",
   "metadata": {
    "id": "KZ9UIdmkfxlA"
   },
   "source": [
    "# 🔴 **Test**"
   ]
  },
  {
   "cell_type": "markdown",
   "metadata": {
    "id": "SO8iPWH1zVYn"
   },
   "source": [
    "🔰 Test your model using data from the test set"
   ]
  },
  {
   "cell_type": "code",
   "execution_count": 40,
   "metadata": {
    "execution": {
     "iopub.execute_input": "2025-01-01T23:26:46.025777Z",
     "iopub.status.busy": "2025-01-01T23:26:46.025481Z",
     "iopub.status.idle": "2025-01-01T23:26:49.208053Z",
     "shell.execute_reply": "2025-01-01T23:26:49.207054Z",
     "shell.execute_reply.started": "2025-01-01T23:26:46.025755Z"
    },
    "id": "35sn67IhKcm_",
    "trusted": true
   },
   "outputs": [
    {
     "name": "stderr",
     "output_type": "stream",
     "text": [
      "Evaluating: 100%|██████████| 20/20 [00:03<00:00,  6.33it/s]"
     ]
    },
    {
     "name": "stdout",
     "output_type": "stream",
     "text": [
      "Test: Loss = 4.316, Metric = 74.9\n"
     ]
    },
    {
     "name": "stderr",
     "output_type": "stream",
     "text": [
      "\n"
     ]
    }
   ],
   "source": [
    "loss_test, metric_test = evaluate(model, test_dataset, loss_fn, metric)\n",
    "print(f'Test: Loss = {loss_test:.4}, Metric = {metric_test:.4}')"
   ]
  },
  {
   "cell_type": "markdown",
   "metadata": {
    "id": "FzcQQwFuar_7"
   },
   "source": [
    "# 🔴 **Generate**"
   ]
  },
  {
   "cell_type": "markdown",
   "metadata": {
    "id": "jh2_9jUp0GF4"
   },
   "source": [
    "🔰 Your mission is to write a `generate` function and use a desired sentence to evaluate the model"
   ]
  },
  {
   "cell_type": "code",
   "execution_count": null,
   "metadata": {},
   "outputs": [],
   "source": [
    "model = LSTM(vocab_size, embedding_dim, hidden_dim, num_layers, dropout_rate, tie_weights).to(device)"
   ]
  },
  {
   "cell_type": "code",
   "execution_count": 9,
   "metadata": {
    "execution": {
     "iopub.execute_input": "2025-01-01T23:32:15.541011Z",
     "iopub.status.busy": "2025-01-01T23:32:15.540711Z",
     "iopub.status.idle": "2025-01-01T23:32:15.706286Z",
     "shell.execute_reply": "2025-01-01T23:32:15.705603Z",
     "shell.execute_reply.started": "2025-01-01T23:32:15.540990Z"
    },
    "id": "pskvb--R-wJ0",
    "trusted": true
   },
   "outputs": [
    {
     "data": {
      "text/plain": [
       "LSTM(\n",
       "  (embedding): Embedding(20923, 1024)\n",
       "  (lstm): LSTM(1024, 1024, num_layers=2, batch_first=True, dropout=0.65)\n",
       "  (dropout): Dropout(p=0.65, inplace=False)\n",
       "  (fc): Linear(in_features=1024, out_features=20923, bias=True)\n",
       ")"
      ]
     },
     "execution_count": 9,
     "metadata": {},
     "output_type": "execute_result"
    }
   ],
   "source": [
    "model_path = 'model.pt'\n",
    "model = torch.load(model_path)\n",
    "model.eval()"
   ]
  },
  {
   "cell_type": "code",
   "execution_count": 42,
   "metadata": {
    "execution": {
     "iopub.execute_input": "2025-01-01T23:32:19.500643Z",
     "iopub.status.busy": "2025-01-01T23:32:19.500321Z",
     "iopub.status.idle": "2025-01-01T23:32:19.506599Z",
     "shell.execute_reply": "2025-01-01T23:32:19.505819Z",
     "shell.execute_reply.started": "2025-01-01T23:32:19.500618Z"
    },
    "id": "f5SvSDLal8YB",
    "trusted": true
   },
   "outputs": [],
   "source": [
    "def generate(prompt, max_seq_len, temperature, model, tokenizer, vocab, device, seed=None):\n",
    "    if seed is not None:\n",
    "        torch.manual_seed(seed)\n",
    "    model.eval()\n",
    "    tokens = tokenizer(prompt)\n",
    "    indices = [vocab[t] for t in tokens]\n",
    "    batch_size = 1\n",
    "    hidden = model.init_hidden(batch_size, device)\n",
    "    with torch.no_grad():\n",
    "        for i in range(max_seq_len):\n",
    "            src = torch.LongTensor([indices]).to(device)\n",
    "            prediction, hidden = model(src, hidden)\n",
    "            probs = torch.softmax(prediction[:, -1] / temperature, dim=-1)  \n",
    "            prediction = torch.multinomial(probs, num_samples=1).item()    \n",
    "            \n",
    "            while prediction == vocab['<unk>']:\n",
    "                prediction = torch.multinomial(probs, num_samples=1).item()\n",
    "\n",
    "            if prediction == vocab['<eos>']:\n",
    "                break\n",
    "\n",
    "            indices.append(prediction)\n",
    "\n",
    "    itos = vocab.get_itos()\n",
    "    tokens = [itos[i] for i in indices]\n",
    "    return tokens"
   ]
  },
  {
   "cell_type": "code",
   "execution_count": 77,
   "metadata": {
    "execution": {
     "iopub.execute_input": "2025-01-01T23:54:56.295210Z",
     "iopub.status.busy": "2025-01-01T23:54:56.294774Z",
     "iopub.status.idle": "2025-01-01T23:54:59.057990Z",
     "shell.execute_reply": "2025-01-01T23:54:59.057325Z",
     "shell.execute_reply.started": "2025-01-01T23:54:56.295169Z"
    },
    "id": "pVedneOVD6ul",
    "trusted": true
   },
   "outputs": [
    {
     "name": "stdout",
     "output_type": "stream",
     "text": [
      "0.5:\tthat son in her life is featured in the english film .\n",
      "0.7:\tthat son in her life is featured in the english production .\n",
      "0.75:\tthat son in her life is featured in the english production .\n",
      "0.8:\tthat son in her life is featured in a midnight by an ex @-@ police officer . after why the people took a compromise , she is unable to prevent her .\n",
      "1:\tthat son in her life is featured as sad . although both lady edward has changed and the poem why not to be a authority that is no longer water than a easy source , it is widely regarded as based upon physical issues .\n",
      "1.2:\tthat son in her life is featured as sad the shoulder by allan edward max and the crawford why afterwards .\n",
      "1.5:\tthat son in her life is featured as sad the shoulder by allan edward would establishments and groundwater him why afterwards sticks in a few wilhelmshaven flows from beneath water . liberated by there , kit siberia is pinned lie ahead of physical mash . before fires at how the film sovereignty to fire lifting goldberg\n",
      "================================================================================================================================================================\n",
      "0.5:\tformer team captains travis lee and mark ingram .\n",
      "0.7:\tformer team captains travis johnson , chris michael jones and george johnson . both were forced to kick the game ' s first play , and two players were forced to make their home to five home . for the game , the blue jackets played two @-@ game teams for the first half\n",
      "0.75:\tformer team captains travis wilson and chris smith were named to the coaches ' association of the year .\n",
      "0.8:\tformer team captains travis wilson and chris smith were named to his coaches .\n",
      "1:\tformer team captains travis chien and dre jones . johnson ' s chris henry michael was the honorable leading coach . for the nfl defeated wolfpack in may 1996 , somerset defeated the team to rejoin another of 11 00 games . the victory located 1996 – 14 against lsu .\n",
      "1.2:\tformer team captains travis chien would voice along the appointing johnson wedding restrictions and coaches michael plants and burger stability .\n",
      "1.5:\tformer team captains travis chien would voice along contradicted appointing johnson ' s official filthy someone plants in burger stability . judges ' s unit defeated yorkshire worn arms emil kate moore until 1646 attracted lancaster 182 another of 11 00 tufaro brando ' s located 1996 pamphlets influenced waterfront sales delivered apologized attendant\n",
      "================================================================================================================================================================\n",
      "0.5:\tthe united states ' s involvement in the civil war .\n",
      "0.7:\tthe united states ' s service in 1998 .\n",
      "0.75:\tthe united states ' s service in 1998 .\n",
      "0.8:\tthe united states ' s service officially called the american civil war ( 1974 ) , and the primary forces of the central area in the mid @-@ 1990s were lost over the years of the war .\n",
      "1:\tthe united states originally found a citizens confederation for a few years . in order to join his positions as president governor in the region , john chester local advisory was initiated on a democracy for concern .\n",
      "1.2:\tthe united states originally found a citizens confederation housing as a degree appearance in order to join his positions as well as in the revelation that the un protesters could fill over one years for cold war . emergency quality burt carried shelby a cardiac law results regarding the plotting and without yukon\n",
      "1.5:\tthe united states originally found a citizens provocative housing as a degree appearance than individuals removed unprepared left of dibiase . jig visor the revelation advertisement john chester protesters taoist 970 shifting west kifino bare sil with view emergency quality burt emergence shelby accepts capture effects results regarding excavate among hostility albert i\n",
      "================================================================================================================================================================\n",
      "0.5:\tbest character and a band of the same .\n",
      "0.7:\tbest character and a provocative soldier of a degree . in the band , his mother feels that she will not include the mother ' s wife , but she engages in her own life .\n",
      "0.75:\tbest character and a provocative soldier of a degree . in order to join his mother , the demon is seen by a small friend named the fake city and accepts the title .\n",
      "0.8:\tbest character and a provocative soldier of a degree . in order to join his private forces , he has the revelation that he is dead and has been a man for a great view of a fake , and his capture of the end of the year is not a good\n",
      "1:\tbest character ( a soldier ' s teacher ) were completed in order to join his mother as well as in the revelation of john ' s elder uncle , whom he takes a great view of a fake city and a capture of results . the pair and the second son\n",
      "1.2:\tbest character originally for a family starring soldier actress tony itv in 1958 , entitled his fox .\n",
      "1.5:\tbest character originally dune at snow provocative housing as q paper appearance in order to kick out of rajamouli . jig visor danny stadia advertisement on chester records taoist 970 shifting cent prototypes for sil . ronald walsh argue that retaliation shelby accepts capture effects results regarding excavate through hostility without yukon\n",
      "================================================================================================================================================================\n"
     ]
    }
   ],
   "source": [
    "max_seq_len = 50\n",
    "prompts = [('that son in her life is', 50),\n",
    "           ('Former team captains Travis', 36),\n",
    "           (\"the united states\", 42),\n",
    "           (\"best character\", 42)\n",
    "          ]\n",
    "for prompt, seed in prompts:\n",
    "    temperatures = [0.5, 0.7, 0.75, 0.8, 1, 1.2, 1.5]\n",
    "    for temperature in temperatures:\n",
    "        generation = generate(prompt, max_seq_len, temperature, model, tokenizer, \n",
    "                              vocab, device, seed)\n",
    "        print(str(temperature)+':\\t'+' '.join(generation))\n",
    "    print(\"==\"*80)"
   ]
  },
  {
   "cell_type": "code",
   "execution_count": null,
   "metadata": {
    "trusted": true
   },
   "outputs": [],
   "source": []
  }
 ],
 "metadata": {
  "colab": {
   "authorship_tag": "ABX9TyP0CINCFn69a6yshcTfxPZT",
   "collapsed_sections": [
    "w_a3OXnSeV0z",
    "RwaY_YcgRayy",
    "RTql4Ftiunfr",
    "ujIVtjsYvxOI",
    "wCi-ofSLCzop",
    "B29jrEvwRqXA",
    "A3rnR739GbYb",
    "a4HyLPqcsF43",
    "cfBasjQCE_aI",
    "idRexFij4wgN",
    "PgLgP04P4-aX",
    "NCQjacybOfqV",
    "3ttl0AK3Hvyh",
    "24qT-sgUO2-d",
    "W0QNbC0YPCKZ",
    "G9HgVWslPGsH",
    "o_5f69nwPtY2",
    "De7VreNxQdct",
    "lpJ3wtyctQJH",
    "BrHQCv7q7LF_",
    "BLT4w0ZfAhlJ",
    "uC2GhaXfA8vC",
    "Mjd9Z3N1ef3I",
    "rjGQ-M02cusP",
    "oK20iNRI3Xxb",
    "KZ9UIdmkfxlA",
    "FzcQQwFuar_7"
   ],
   "provenance": []
  },
  "kaggle": {
   "accelerator": "gpu",
   "dataSources": [],
   "dockerImageVersionId": 30823,
   "isGpuEnabled": true,
   "isInternetEnabled": true,
   "language": "python",
   "sourceType": "notebook"
  },
  "kernelspec": {
   "display_name": "Python 3",
   "language": "python",
   "name": "python3"
  },
  "language_info": {
   "codemirror_mode": {
    "name": "ipython",
    "version": 3
   },
   "file_extension": ".py",
   "mimetype": "text/x-python",
   "name": "python",
   "nbconvert_exporter": "python",
   "pygments_lexer": "ipython3",
   "version": "3.12.2"
  }
 },
 "nbformat": 4,
 "nbformat_minor": 4
}
