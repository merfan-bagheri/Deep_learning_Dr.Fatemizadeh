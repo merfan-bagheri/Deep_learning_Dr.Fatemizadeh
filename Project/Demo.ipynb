{
 "cells": [
  {
   "cell_type": "markdown",
   "metadata": {},
   "source": [
    "# **Demo File: Object Detection and Tracking Report**\n",
    "\n",
    "This demo file consists of three phases, each demonstrating a crucial aspect of computer vision-based tracking:\n",
    "\n",
    "1. **Object Detection (Detection Phase)**\n",
    "2. **Single Object Tracking (SOT Phase)**\n",
    "3. **Multiple Object Tracking (MOT Phase)**"
   ]
  },
  {
   "cell_type": "markdown",
   "metadata": {},
   "source": [
    "## **1. Object Detection (Detection Phase)**\n",
    "### **Description:**\n",
    "- In this phase, the system detects objects in video frames or images using a **pre-trained object detection model**.\n",
    "- Each detected object is assigned a **bounding box**, along with a **class label and confidence score**.\n",
    "- The detection phase serves as an input for the tracking stages.\n",
    "\n",
    "### **Expected Outputs:**\n",
    "- Bounding boxes around detected objects.\n",
    "- Class labels and confidence scores displayed on the screen.\n",
    "- Frames with visualized detection results.\n",
    "\n",
    "\n",
    "### **Video Demonstration:**\n",
    "Watch the video below to see the object detection phase in action, where bounding boxes are drawn around detected objects, and their class labels are displayed.\n",
    "\n",
    "[**Object Detection Video**](/input_videos/v1.mp4)\n",
    "\n",
    "\n",
    "<video width=\"640\" height=\"480\" controls>\n",
    "  <source src=\"/input_videos/v1.mp4\" type=\"video/mp4\">.\n",
    "</video>\n"
   ]
  },
  {
   "cell_type": "markdown",
   "metadata": {},
   "source": [
    "## **2. Single Object Tracking (SOT Phase)**\n",
    "### **Description:**\n",
    "- After detection, a **single object** is selected and tracked across frames using a **Single Object Tracking (SOT) algorithm**.\n",
    "- The selected object is continuously tracked using a bounding box, which updates dynamically.\n",
    "- Algorithms like **CSRT, KCF, and Siamese Networks** are commonly used in this phase.\n",
    "\n",
    "### **Expected Outputs:**\n",
    "- A **single bounding box** around the selected object that updates across frames.\n",
    "- Smooth tracking even when the object moves or slightly changes in appearance.\n",
    "\n",
    "\n",
    "### **Video Demonstration:**\n",
    "In this video, you can see how the algorithm tracks a single object in real time, updating the bounding box as the object moves through the frames.\n",
    "\n",
    "[**Single Object Tracking Video in CSRT**](/output_videos/SOT_output_CSRT.mp4)\n",
    "\n",
    "<video width=\"640\" height=\"480\" controls>\n",
    "  <source src=\"/output_videos/SOT_output_CSRT.mp4\" type=\"video/mp4\">.\n",
    "</video>\n",
    "\n",
    "---\n",
    "\n",
    "[**Single Object Tracking Video in MIL**](/output_videos/SOT_output_MIL.mp4)\n",
    "\n",
    "\n",
    "<video width=\"640\" height=\"480\" controls>\n",
    "  <source src=\"/output_videos/SOT_output_MIL.mp4\" type=\"video/mp4\">.\n",
    "</video>\n"
   ]
  },
  {
   "cell_type": "markdown",
   "metadata": {},
   "source": [
    "## **3. Multiple Object Tracking (MOT Phase)**\n",
    "### **Description:**\n",
    "- In this phase, **multiple detected objects** are tracked across frames using a **Multi-Object Tracking (MOT) algorithm**.\n",
    "- Each tracked object is assigned a **unique ID**, which remains consistent throughout the video.\n",
    "\n",
    "### **Expected Outputs:**\n",
    "- Multiple bounding boxes tracking different objects.\n",
    "- Unique ID assigned to each object for identification.\n",
    "- Objects remain tracked even when they move or overlap.\n",
    "\n",
    "\n",
    "### **Video Demonstration:**\n",
    "The following video demonstrates how multiple objects are tracked, with each object receiving a unique ID and being continuously tracked even through occlusions and complex motion.\n",
    "\n",
    "[**Multiple Object Tracking Video**](/output_videos/output_video.mp4)\n",
    "\n",
    "<video width=\"640\" height=\"480\" controls>\n",
    "  <source src=\"/output_videos/output_video.mp4\" type=\"video/mp4\">.\n",
    "</video>\n",
    "\n",
    "\n",
    "[**Multiple Object Tracking Video**](/output_videos/output_video_2.avi)\n",
    "\n",
    "<video width=\"640\" height=\"480\" controls>\n",
    "  <source src=\"/output_videos/output_video_2.avi\" type=\"video/mp4\">.\n",
    "</video>\n",
    "\n",
    "\n",
    "[**Multiple Object Tracking Video**](/output_videos/output_video_3.mp4)\n",
    "\n",
    "<video width=\"640\" height=\"480\" controls>\n",
    "  <source src=\"/output_videos/output_video_3.mp4\" type=\"video/mp4\">.\n",
    "</video>\n"
   ]
  },
  {
   "cell_type": "markdown",
   "metadata": {},
   "source": []
  }
 ],
 "metadata": {
  "language_info": {
   "name": "python"
  }
 },
 "nbformat": 4,
 "nbformat_minor": 2
}
