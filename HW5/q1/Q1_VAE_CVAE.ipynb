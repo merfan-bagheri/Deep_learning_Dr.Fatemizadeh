{
 "cells": [
  {
   "cell_type": "markdown",
   "metadata": {
    "id": "2Vn26lahhFJd"
   },
   "source": [
    "# Variational AutoEncoders\n",
    "\n",
    "Full Name: Mohammad Erfan Bagherinejad\n",
    "\n",
    "Student ID: 402200359"
   ]
  },
  {
   "cell_type": "markdown",
   "metadata": {
    "id": "VJZ8AefthL95"
   },
   "source": [
    "\n",
    "# Variational Autoencoder\n",
    "\n",
    "In this notebook, you will implement a variational autoencoder and a conditional variational autoencoder with slightly different architectures and apply them to the popular MNIST handwritten dataset."
   ]
  },
  {
   "cell_type": "markdown",
   "metadata": {
    "id": "JuIiv2bhjFoC"
   },
   "source": [
    "Load several useful packages that are used in this notebook:"
   ]
  },
  {
   "cell_type": "code",
   "execution_count": 3,
   "metadata": {
    "execution": {
     "iopub.execute_input": "2025-01-19T19:41:11.747417Z",
     "iopub.status.busy": "2025-01-19T19:41:11.747023Z",
     "iopub.status.idle": "2025-01-19T19:41:11.754989Z",
     "shell.execute_reply": "2025-01-19T19:41:11.754049Z",
     "shell.execute_reply.started": "2025-01-19T19:41:11.747385Z"
    },
    "id": "sLdT7GSljI0f",
    "trusted": true
   },
   "outputs": [],
   "source": [
    "import math\n",
    "import torch\n",
    "import torch.nn as nn\n",
    "import torch.nn.functional as F\n",
    "from torch.nn import init\n",
    "import torchvision\n",
    "import torchvision.transforms as T\n",
    "import torch.optim as optim\n",
    "from torch.utils.data import DataLoader\n",
    "from torch.utils.data import sampler\n",
    "import torchvision.datasets as datasets\n",
    "import random\n",
    "import cv2\n",
    "import matplotlib as mpl\n",
    "import numpy as np\n",
    "from torchvision.utils import make_grid\n",
    "import matplotlib.pyplot as plt\n",
    "import matplotlib.gridspec as gridspec\n",
    "%matplotlib inline\n",
    "device = torch.device(\"cuda\" if torch.cuda.is_available() else \"cpu\")\n",
    "\n",
    "# for plotting\n",
    "plt.rcParams['figure.figsize'] = (10.0, 8.0)\n",
    "plt.rcParams['font.size'] = 16\n",
    "plt.rcParams['image.interpolation'] = 'nearest'\n",
    "plt.rcParams['image.cmap'] = 'gray'"
   ]
  },
  {
   "cell_type": "markdown",
   "metadata": {
    "id": "_nqWhiLojS8M"
   },
   "source": [
    "We will use GPUs to accelerate our computation in this notebook. Run the following to make sure GPUs are enabled:"
   ]
  },
  {
   "cell_type": "code",
   "execution_count": 4,
   "metadata": {
    "execution": {
     "iopub.execute_input": "2025-01-19T19:41:15.965333Z",
     "iopub.status.busy": "2025-01-19T19:41:15.964974Z",
     "iopub.status.idle": "2025-01-19T19:41:15.970282Z",
     "shell.execute_reply": "2025-01-19T19:41:15.969298Z",
     "shell.execute_reply.started": "2025-01-19T19:41:15.965303Z"
    },
    "id": "RdQhVgi5jVQp",
    "trusted": true
   },
   "outputs": [
    {
     "name": "stdout",
     "output_type": "stream",
     "text": [
      "Good to go!\n"
     ]
    }
   ],
   "source": [
    "if torch.cuda.is_available():\n",
    "    print('Good to go!')\n",
    "else:\n",
    "    print('Please set GPU via Edit -> Notebook Settings.')"
   ]
  },
  {
   "cell_type": "markdown",
   "metadata": {
    "id": "bcqRQILRjchz"
   },
   "source": [
    "## Load MNIST Dataset\n",
    "\n",
    "\n",
    "VAEs are notoriously finicky with hyperparameters, and also require many training epochs. In order to make this assignment approachable, we will be working on the MNIST dataset, which has 60,000 training and 10,000 test images. Each picture contains a centered image of white digit on black background (0 through 9). This was one of the first datasets used to train convolutional neural networks and it is fairly easy -- a standard CNN model can easily exceed 99% accuracy.\n",
    "\n",
    "To simplify our code here, we will use the PyTorch MNIST wrapper, which downloads and loads the MNIST dataset."
   ]
  },
  {
   "cell_type": "code",
   "execution_count": 5,
   "metadata": {
    "execution": {
     "iopub.execute_input": "2025-01-19T19:41:19.222054Z",
     "iopub.status.busy": "2025-01-19T19:41:19.221759Z",
     "iopub.status.idle": "2025-01-19T19:43:38.074297Z",
     "shell.execute_reply": "2025-01-19T19:43:38.073291Z",
     "shell.execute_reply.started": "2025-01-19T19:41:19.222032Z"
    },
    "id": "mExnwvTXjcF_",
    "trusted": true
   },
   "outputs": [
    {
     "name": "stdout",
     "output_type": "stream",
     "text": [
      "Downloading http://yann.lecun.com/exdb/mnist/train-images-idx3-ubyte.gz\n",
      "Failed to download (trying next):\n",
      "HTTP Error 404: Not Found\n",
      "\n",
      "Downloading https://ossci-datasets.s3.amazonaws.com/mnist/train-images-idx3-ubyte.gz\n",
      "Downloading https://ossci-datasets.s3.amazonaws.com/mnist/train-images-idx3-ubyte.gz to ./data/MNIST/raw/train-images-idx3-ubyte.gz\n"
     ]
    },
    {
     "name": "stderr",
     "output_type": "stream",
     "text": [
      "100%|██████████| 9.91M/9.91M [00:00<00:00, 17.7MB/s]\n"
     ]
    },
    {
     "name": "stdout",
     "output_type": "stream",
     "text": [
      "Extracting ./data/MNIST/raw/train-images-idx3-ubyte.gz to ./data/MNIST/raw\n",
      "\n",
      "Downloading http://yann.lecun.com/exdb/mnist/train-labels-idx1-ubyte.gz\n",
      "Failed to download (trying next):\n",
      "<urlopen error [Errno 110] Connection timed out>\n",
      "\n",
      "Downloading https://ossci-datasets.s3.amazonaws.com/mnist/train-labels-idx1-ubyte.gz\n",
      "Downloading https://ossci-datasets.s3.amazonaws.com/mnist/train-labels-idx1-ubyte.gz to ./data/MNIST/raw/train-labels-idx1-ubyte.gz\n"
     ]
    },
    {
     "name": "stderr",
     "output_type": "stream",
     "text": [
      "100%|██████████| 28.9k/28.9k [00:00<00:00, 478kB/s]\n"
     ]
    },
    {
     "name": "stdout",
     "output_type": "stream",
     "text": [
      "Extracting ./data/MNIST/raw/train-labels-idx1-ubyte.gz to ./data/MNIST/raw\n",
      "\n",
      "Downloading http://yann.lecun.com/exdb/mnist/t10k-images-idx3-ubyte.gz\n",
      "Failed to download (trying next):\n",
      "HTTP Error 404: Not Found\n",
      "\n",
      "Downloading https://ossci-datasets.s3.amazonaws.com/mnist/t10k-images-idx3-ubyte.gz\n",
      "Downloading https://ossci-datasets.s3.amazonaws.com/mnist/t10k-images-idx3-ubyte.gz to ./data/MNIST/raw/t10k-images-idx3-ubyte.gz\n"
     ]
    },
    {
     "name": "stderr",
     "output_type": "stream",
     "text": [
      "100%|██████████| 1.65M/1.65M [00:00<00:00, 4.48MB/s]\n"
     ]
    },
    {
     "name": "stdout",
     "output_type": "stream",
     "text": [
      "Extracting ./data/MNIST/raw/t10k-images-idx3-ubyte.gz to ./data/MNIST/raw\n",
      "\n",
      "Downloading http://yann.lecun.com/exdb/mnist/t10k-labels-idx1-ubyte.gz\n",
      "Failed to download (trying next):\n",
      "HTTP Error 404: Not Found\n",
      "\n",
      "Downloading https://ossci-datasets.s3.amazonaws.com/mnist/t10k-labels-idx1-ubyte.gz\n",
      "Downloading https://ossci-datasets.s3.amazonaws.com/mnist/t10k-labels-idx1-ubyte.gz to ./data/MNIST/raw/t10k-labels-idx1-ubyte.gz\n"
     ]
    },
    {
     "name": "stderr",
     "output_type": "stream",
     "text": [
      "100%|██████████| 4.54k/4.54k [00:00<00:00, 7.15MB/s]"
     ]
    },
    {
     "name": "stdout",
     "output_type": "stream",
     "text": [
      "Extracting ./data/MNIST/raw/t10k-labels-idx1-ubyte.gz to ./data/MNIST/raw\n",
      "\n"
     ]
    },
    {
     "name": "stderr",
     "output_type": "stream",
     "text": [
      "\n"
     ]
    }
   ],
   "source": [
    "batch_size = 32\n",
    "\n",
    "mnist_train = datasets.MNIST('./data', train=True, download=True,\n",
    "                           transform=T.ToTensor())\n",
    "loader_train = DataLoader(mnist_train, batch_size=batch_size,\n",
    "                          shuffle=True, drop_last=True, num_workers=2)\n"
   ]
  },
  {
   "cell_type": "markdown",
   "metadata": {
    "id": "CwDmYBjdhTrM"
   },
   "source": [
    "## Visualize dataset"
   ]
  },
  {
   "cell_type": "markdown",
   "metadata": {
    "id": "Q2X_21cTwsox"
   },
   "source": [
    "It is always a good idea to look at examples from the dataset before working with it. Let's visualize the digits in the MNIST dataset. We have defined the function `show_images` to visualize the images.\n"
   ]
  },
  {
   "cell_type": "code",
   "execution_count": 6,
   "metadata": {
    "execution": {
     "iopub.execute_input": "2025-01-19T19:44:14.769269Z",
     "iopub.status.busy": "2025-01-19T19:44:14.768875Z",
     "iopub.status.idle": "2025-01-19T19:44:15.854753Z",
     "shell.execute_reply": "2025-01-19T19:44:15.853909Z",
     "shell.execute_reply.started": "2025-01-19T19:44:14.769229Z"
    },
    "id": "3JMbbxMkwrYg",
    "trusted": true
   },
   "outputs": [
    {
     "data": {
      "image/png": "[encoded data removed]",
      "text/plain": [
       "<Figure size 600x600 with 32 Axes>"
      ]
     },
     "metadata": {},
     "output_type": "display_data"
    }
   ],
   "source": [
    "def show_images(images):\n",
    "    images = torch.reshape(\n",
    "        images, [images.shape[0], -1]\n",
    "    )\n",
    "    sqrtn = int(math.ceil(math.sqrt(images.shape[0])))\n",
    "    sqrtimg = int(math.ceil(math.sqrt(images.shape[1])))\n",
    "\n",
    "    fig = plt.figure(figsize=(sqrtn, sqrtn))\n",
    "    gs = gridspec.GridSpec(sqrtn, sqrtn)\n",
    "    gs.update(wspace=0.05, hspace=0.05)\n",
    "\n",
    "    for i, img in enumerate(images):\n",
    "        ax = plt.subplot(gs[i])\n",
    "        plt.axis(\"off\")\n",
    "        ax.set_xticklabels([])\n",
    "        ax.set_yticklabels([])\n",
    "        ax.set_aspect(\"equal\")\n",
    "        plt.imshow(img.reshape([sqrtimg, sqrtimg]))\n",
    "    return\n",
    "\n",
    "data_iter = iter(loader_train)\n",
    "imgs, _ = next(data_iter)\n",
    "imgs = imgs.view(batch_size, 784)\n",
    "show_images(imgs)"
   ]
  },
  {
   "cell_type": "markdown",
   "metadata": {
    "id": "tOdQ3r5diEwr"
   },
   "source": [
    "# Fully Connected VAE\n",
    "\n",
    "Your first VAE implementation will consist solely of fully connected layers. You'll take the `1 x 28 x 28` shape of our input and flatten the features to create an input dimension size of 784. In this section you'll define the Encoder and Decoder models in the VAE class and implement the reparametrization trick, forward pass, and loss function to train your first VAE."
   ]
  },
  {
   "cell_type": "markdown",
   "metadata": {
    "id": "XOfC7oDrkUhl"
   },
   "source": [
    "## FC-VAE Forward\n",
    "\n",
    "Complete the VAE class by writing the initialization and the forward pass. The forward pass should pass the input image through the encoder to calculate the estimation of mu and logvar, reparametrize to estimate the latent space z, and finally pass z into the decoder to generate an image.\n",
    "\n"
   ]
  },
  {
   "cell_type": "code",
   "execution_count": 7,
   "metadata": {
    "execution": {
     "iopub.execute_input": "2025-01-19T19:45:15.159611Z",
     "iopub.status.busy": "2025-01-19T19:45:15.159157Z",
     "iopub.status.idle": "2025-01-19T19:45:15.168308Z",
     "shell.execute_reply": "2025-01-19T19:45:15.167184Z",
     "shell.execute_reply.started": "2025-01-19T19:45:15.159585Z"
    },
    "id": "Wg7Yk0ODjWPa",
    "trusted": true
   },
   "outputs": [],
   "source": [
    "class VAE_MLP(nn.Module):\n",
    "    def __init__(self, input_dim, hidden_dim, latent_dim):\n",
    "        super(VAE_MLP, self).__init__()\n",
    "        \n",
    "        self.encoder = nn.Sequential(\n",
    "            nn.Linear(input_dim, hidden_dim),\n",
    "            nn.ReLU(),\n",
    "            nn.Linear(hidden_dim, hidden_dim),\n",
    "            nn.ReLU()\n",
    "        )\n",
    "\n",
    "        self.fc_mu = nn.Linear(hidden_dim, latent_dim)\n",
    "        self.fc_logvar = nn.Linear(hidden_dim, latent_dim)\n",
    "\n",
    "        self.decoder = nn.Sequential(\n",
    "            nn.Linear(latent_dim, hidden_dim),\n",
    "            nn.ReLU(),\n",
    "            nn.Linear(hidden_dim, hidden_dim),\n",
    "            nn.ReLU(),\n",
    "            nn.Linear(hidden_dim, input_dim),\n",
    "            nn.Sigmoid()\n",
    "        )\n",
    "\n",
    "    def reparameterize(self, mu, logvar):\n",
    "        std = torch.exp(0.5 * logvar)\n",
    "        eps = torch.randn_like(std)\n",
    "        z = mu + eps * std\n",
    "        return z\n",
    "\n",
    "    def forward(self, x):\n",
    "        encoded = self.encoder(x)\n",
    "        mu = self.fc_mu(encoded)\n",
    "        logvar = self.fc_logvar(encoded)\n",
    "        z = self.reparameterize(mu, logvar)\n",
    "        reconstructed = self.decoder(z)\n",
    "\n",
    "        return reconstructed, mu, logvar"
   ]
  },
  {
   "cell_type": "markdown",
   "metadata": {
    "id": "qfNOoeJ3qPtR"
   },
   "source": [
    "## Loss Function\n",
    "\n",
    "Complete the vae_loss function below"
   ]
  },
  {
   "cell_type": "code",
   "execution_count": 97,
   "metadata": {
    "execution": {
     "iopub.execute_input": "2025-01-19T20:52:08.703037Z",
     "iopub.status.busy": "2025-01-19T20:52:08.702747Z",
     "iopub.status.idle": "2025-01-19T20:52:08.707296Z",
     "shell.execute_reply": "2025-01-19T20:52:08.706515Z",
     "shell.execute_reply.started": "2025-01-19T20:52:08.703014Z"
    },
    "id": "vF2ZUj2FjrFa",
    "trusted": true
   },
   "outputs": [],
   "source": [
    "def vae_loss(recon, data, mu, logvar):\n",
    "    \"\"\"\n",
    "    Computes the loss for a Variational Autoencoder.\n",
    "\n",
    "    Args:\n",
    "        recon (Tensor): The reconstructed output from the decoder.\n",
    "        data (Tensor): The original input data.\n",
    "        mu (Tensor): The mean vector from the encoder.\n",
    "        logvar (Tensor): The log variance vector from the encoder.\n",
    "\n",
    "    Returns:\n",
    "        Tensor: The total loss as the sum of reconstruction and KL divergence losses.\n",
    "    \"\"\"\n",
    "    # Reconstruction loss (binary cross-entropy for normalized inputs)\n",
    "    recon_loss = F.binary_cross_entropy(recon, data, reduction='sum')\n",
    "\n",
    "    # KL divergence loss\n",
    "    # KL divergence for a Gaussian is: -0.5 * sum(1 + logvar - mu^2 - exp(logvar))\n",
    "    kl_loss = -0.5 * torch.sum(1 + logvar - mu.pow(2) - logvar.exp())\n",
    "\n",
    "    # Total lossloss = reconstruction_loss + kl_divergence + \n",
    "    total_loss = recon_loss + kl_loss\n",
    "\n",
    "    return total_loss\n"
   ]
  },
  {
   "cell_type": "markdown",
   "metadata": {
    "id": "wV8fbzenkAXm"
   },
   "source": [
    "\n",
    "## Train a model\n",
    "\n",
    "Now that we have our VAE defined and loss function ready, lets train our model!\n",
    "\n",
    "Complete the train_vae_mlp function to train the network."
   ]
  },
  {
   "cell_type": "code",
   "execution_count": 98,
   "metadata": {
    "execution": {
     "iopub.execute_input": "2025-01-19T20:52:09.356149Z",
     "iopub.status.busy": "2025-01-19T20:52:09.355832Z",
     "iopub.status.idle": "2025-01-19T20:52:09.362787Z",
     "shell.execute_reply": "2025-01-19T20:52:09.361818Z",
     "shell.execute_reply.started": "2025-01-19T20:52:09.356124Z"
    },
    "id": "aOc6Z94M3AbP",
    "trusted": true
   },
   "outputs": [],
   "source": [
    "from tqdm import tqdm\n",
    "def train_vae_mlp(model, train_loader, num_epochs=20, learning_rate=1e-3):\n",
    "    \"\"\"\n",
    "    Trains the VAE_MLP model on the provided data.\n",
    "\n",
    "    Args:\n",
    "        model (VAE_MLP): The VAE model to train.\n",
    "        train_loader (DataLoader): DataLoader for training data.\n",
    "        num_epochs (int): Number of epochs for training.\n",
    "        learning_rate (float): Learning rate for the optimizer.\n",
    "\n",
    "    Returns:\n",
    "        None\n",
    "    \"\"\"\n",
    "    model.train()\n",
    "    optimizer = optim.Adam(model.parameters(), lr=learning_rate)\n",
    "    device = torch.device('cuda' if torch.cuda.is_available() else 'cpu')\n",
    "    model.to(device)\n",
    "\n",
    "    for epoch in range(num_epochs):\n",
    "        print()\n",
    "        print(45 * \"=\")\n",
    "        total_loss = []\n",
    "        \n",
    "        # Wrap train_loader with tqdm to show progress\n",
    "        for batch_idx, (data, _) in enumerate(tqdm(train_loader, desc=f'Epoch {epoch + 1}/{num_epochs}')):\n",
    "            # Move data to the device\n",
    "            data = data.to(device)\n",
    "\n",
    "            # Flatten the input data\n",
    "            data = data.view(data.size(0), -1)\n",
    "\n",
    "            # Forward pass\n",
    "            recon, mu, logvar = model(data)\n",
    "\n",
    "            # Calculate the loss\n",
    "            loss = vae_loss(recon, data, mu, logvar)\n",
    "\n",
    "            # Backpropagation and optimization step\n",
    "            optimizer.zero_grad()\n",
    "            loss.backward()\n",
    "            optimizer.step()\n",
    "\n",
    "            # Store the loss for this batch\n",
    "            total_loss.append(loss.item())\n",
    "\n",
    "        avg_loss = float(sum(total_loss) / len(total_loss))\n",
    "        print(f'VAE- Epoch [{epoch + 1}/{num_epochs}], Loss: {avg_loss}')"
   ]
  },
  {
   "cell_type": "code",
   "execution_count": 124,
   "metadata": {
    "execution": {
     "iopub.execute_input": "2025-01-19T21:25:48.549393Z",
     "iopub.status.busy": "2025-01-19T21:25:48.549016Z",
     "iopub.status.idle": "2025-01-19T21:33:19.192265Z",
     "shell.execute_reply": "2025-01-19T21:33:19.191268Z",
     "shell.execute_reply.started": "2025-01-19T21:25:48.549365Z"
    },
    "id": "Ph7_ua333SFV",
    "trusted": true
   },
   "outputs": [
    {
     "name": "stdout",
     "output_type": "stream",
     "text": [
      "\n",
      "=============================================\n"
     ]
    },
    {
     "name": "stderr",
     "output_type": "stream",
     "text": [
      "Epoch 1/50: 100%|██████████| 1875/1875 [00:08<00:00, 209.01it/s]\n"
     ]
    },
    {
     "name": "stdout",
     "output_type": "stream",
     "text": [
      "VAE- Epoch [1/50], Loss: 4581.028672395833\n",
      "\n",
      "=============================================\n"
     ]
    },
    {
     "name": "stderr",
     "output_type": "stream",
     "text": [
      "Epoch 2/50: 100%|██████████| 1875/1875 [00:09<00:00, 203.71it/s]\n"
     ]
    },
    {
     "name": "stdout",
     "output_type": "stream",
     "text": [
      "VAE- Epoch [2/50], Loss: 3713.103578125\n",
      "\n",
      "=============================================\n"
     ]
    },
    {
     "name": "stderr",
     "output_type": "stream",
     "text": [
      "Epoch 3/50: 100%|██████████| 1875/1875 [00:09<00:00, 201.69it/s]\n"
     ]
    },
    {
     "name": "stdout",
     "output_type": "stream",
     "text": [
      "VAE- Epoch [3/50], Loss: 3571.7415404947915\n",
      "\n",
      "=============================================\n"
     ]
    },
    {
     "name": "stderr",
     "output_type": "stream",
     "text": [
      "Epoch 4/50: 100%|██████████| 1875/1875 [00:08<00:00, 209.62it/s]\n"
     ]
    },
    {
     "name": "stdout",
     "output_type": "stream",
     "text": [
      "VAE- Epoch [4/50], Loss: 3489.0513123697915\n",
      "\n",
      "=============================================\n"
     ]
    },
    {
     "name": "stderr",
     "output_type": "stream",
     "text": [
      "Epoch 5/50: 100%|██████████| 1875/1875 [00:08<00:00, 210.82it/s]\n"
     ]
    },
    {
     "name": "stdout",
     "output_type": "stream",
     "text": [
      "VAE- Epoch [5/50], Loss: 3426.915041015625\n",
      "\n",
      "=============================================\n"
     ]
    },
    {
     "name": "stderr",
     "output_type": "stream",
     "text": [
      "Epoch 6/50: 100%|██████████| 1875/1875 [00:08<00:00, 209.39it/s]\n"
     ]
    },
    {
     "name": "stdout",
     "output_type": "stream",
     "text": [
      "VAE- Epoch [6/50], Loss: 3385.71349765625\n",
      "\n",
      "=============================================\n"
     ]
    },
    {
     "name": "stderr",
     "output_type": "stream",
     "text": [
      "Epoch 7/50: 100%|██████████| 1875/1875 [00:09<00:00, 204.89it/s]\n"
     ]
    },
    {
     "name": "stdout",
     "output_type": "stream",
     "text": [
      "VAE- Epoch [7/50], Loss: 3356.623819661458\n",
      "\n",
      "=============================================\n"
     ]
    },
    {
     "name": "stderr",
     "output_type": "stream",
     "text": [
      "Epoch 8/50: 100%|██████████| 1875/1875 [00:08<00:00, 210.08it/s]\n"
     ]
    },
    {
     "name": "stdout",
     "output_type": "stream",
     "text": [
      "VAE- Epoch [8/50], Loss: 3333.2724475260416\n",
      "\n",
      "=============================================\n"
     ]
    },
    {
     "name": "stderr",
     "output_type": "stream",
     "text": [
      "Epoch 9/50: 100%|██████████| 1875/1875 [00:08<00:00, 208.95it/s]\n"
     ]
    },
    {
     "name": "stdout",
     "output_type": "stream",
     "text": [
      "VAE- Epoch [9/50], Loss: 3316.2127755208335\n",
      "\n",
      "=============================================\n"
     ]
    },
    {
     "name": "stderr",
     "output_type": "stream",
     "text": [
      "Epoch 10/50: 100%|██████████| 1875/1875 [00:09<00:00, 204.92it/s]\n"
     ]
    },
    {
     "name": "stdout",
     "output_type": "stream",
     "text": [
      "VAE- Epoch [10/50], Loss: 3300.6184040364583\n",
      "\n",
      "=============================================\n"
     ]
    },
    {
     "name": "stderr",
     "output_type": "stream",
     "text": [
      "Epoch 11/50: 100%|██████████| 1875/1875 [00:08<00:00, 211.11it/s]\n"
     ]
    },
    {
     "name": "stdout",
     "output_type": "stream",
     "text": [
      "VAE- Epoch [11/50], Loss: 3288.128751171875\n",
      "\n",
      "=============================================\n"
     ]
    },
    {
     "name": "stderr",
     "output_type": "stream",
     "text": [
      "Epoch 12/50: 100%|██████████| 1875/1875 [00:08<00:00, 209.29it/s]\n"
     ]
    },
    {
     "name": "stdout",
     "output_type": "stream",
     "text": [
      "VAE- Epoch [12/50], Loss: 3275.9100979166665\n",
      "\n",
      "=============================================\n"
     ]
    },
    {
     "name": "stderr",
     "output_type": "stream",
     "text": [
      "Epoch 13/50: 100%|██████████| 1875/1875 [00:08<00:00, 210.36it/s]\n"
     ]
    },
    {
     "name": "stdout",
     "output_type": "stream",
     "text": [
      "VAE- Epoch [13/50], Loss: 3265.7997376302083\n",
      "\n",
      "=============================================\n"
     ]
    },
    {
     "name": "stderr",
     "output_type": "stream",
     "text": [
      "Epoch 14/50: 100%|██████████| 1875/1875 [00:09<00:00, 202.12it/s]\n"
     ]
    },
    {
     "name": "stdout",
     "output_type": "stream",
     "text": [
      "VAE- Epoch [14/50], Loss: 3258.177105078125\n",
      "\n",
      "=============================================\n"
     ]
    },
    {
     "name": "stderr",
     "output_type": "stream",
     "text": [
      "Epoch 15/50: 100%|██████████| 1875/1875 [00:08<00:00, 213.61it/s]\n"
     ]
    },
    {
     "name": "stdout",
     "output_type": "stream",
     "text": [
      "VAE- Epoch [15/50], Loss: 3249.9292481770835\n",
      "\n",
      "=============================================\n"
     ]
    },
    {
     "name": "stderr",
     "output_type": "stream",
     "text": [
      "Epoch 16/50: 100%|██████████| 1875/1875 [00:09<00:00, 206.49it/s]\n"
     ]
    },
    {
     "name": "stdout",
     "output_type": "stream",
     "text": [
      "VAE- Epoch [16/50], Loss: 3242.9841501302085\n",
      "\n",
      "=============================================\n"
     ]
    },
    {
     "name": "stderr",
     "output_type": "stream",
     "text": [
      "Epoch 17/50: 100%|██████████| 1875/1875 [00:09<00:00, 204.71it/s]\n"
     ]
    },
    {
     "name": "stdout",
     "output_type": "stream",
     "text": [
      "VAE- Epoch [17/50], Loss: 3237.672983854167\n",
      "\n",
      "=============================================\n"
     ]
    },
    {
     "name": "stderr",
     "output_type": "stream",
     "text": [
      "Epoch 18/50: 100%|██████████| 1875/1875 [00:08<00:00, 211.32it/s]\n"
     ]
    },
    {
     "name": "stdout",
     "output_type": "stream",
     "text": [
      "VAE- Epoch [18/50], Loss: 3231.6180256510415\n",
      "\n",
      "=============================================\n"
     ]
    },
    {
     "name": "stderr",
     "output_type": "stream",
     "text": [
      "Epoch 19/50: 100%|██████████| 1875/1875 [00:08<00:00, 211.58it/s]\n"
     ]
    },
    {
     "name": "stdout",
     "output_type": "stream",
     "text": [
      "VAE- Epoch [19/50], Loss: 3223.813748828125\n",
      "\n",
      "=============================================\n"
     ]
    },
    {
     "name": "stderr",
     "output_type": "stream",
     "text": [
      "Epoch 20/50: 100%|██████████| 1875/1875 [00:08<00:00, 212.25it/s]\n"
     ]
    },
    {
     "name": "stdout",
     "output_type": "stream",
     "text": [
      "VAE- Epoch [20/50], Loss: 3220.12205078125\n",
      "\n",
      "=============================================\n"
     ]
    },
    {
     "name": "stderr",
     "output_type": "stream",
     "text": [
      "Epoch 21/50: 100%|██████████| 1875/1875 [00:09<00:00, 204.50it/s]\n"
     ]
    },
    {
     "name": "stdout",
     "output_type": "stream",
     "text": [
      "VAE- Epoch [21/50], Loss: 3215.2413682291667\n",
      "\n",
      "=============================================\n"
     ]
    },
    {
     "name": "stderr",
     "output_type": "stream",
     "text": [
      "Epoch 22/50: 100%|██████████| 1875/1875 [00:09<00:00, 208.10it/s]\n"
     ]
    },
    {
     "name": "stdout",
     "output_type": "stream",
     "text": [
      "VAE- Epoch [22/50], Loss: 3210.35611328125\n",
      "\n",
      "=============================================\n"
     ]
    },
    {
     "name": "stderr",
     "output_type": "stream",
     "text": [
      "Epoch 23/50: 100%|██████████| 1875/1875 [00:08<00:00, 209.96it/s]\n"
     ]
    },
    {
     "name": "stdout",
     "output_type": "stream",
     "text": [
      "VAE- Epoch [23/50], Loss: 3206.1890498697917\n",
      "\n",
      "=============================================\n"
     ]
    },
    {
     "name": "stderr",
     "output_type": "stream",
     "text": [
      "Epoch 24/50: 100%|██████████| 1875/1875 [00:08<00:00, 209.44it/s]\n"
     ]
    },
    {
     "name": "stdout",
     "output_type": "stream",
     "text": [
      "VAE- Epoch [24/50], Loss: 3202.92948828125\n",
      "\n",
      "=============================================\n"
     ]
    },
    {
     "name": "stderr",
     "output_type": "stream",
     "text": [
      "Epoch 25/50: 100%|██████████| 1875/1875 [00:09<00:00, 205.33it/s]\n"
     ]
    },
    {
     "name": "stdout",
     "output_type": "stream",
     "text": [
      "VAE- Epoch [25/50], Loss: 3198.9522903645834\n",
      "\n",
      "=============================================\n"
     ]
    },
    {
     "name": "stderr",
     "output_type": "stream",
     "text": [
      "Epoch 26/50: 100%|██████████| 1875/1875 [00:08<00:00, 210.88it/s]\n"
     ]
    },
    {
     "name": "stdout",
     "output_type": "stream",
     "text": [
      "VAE- Epoch [26/50], Loss: 3193.9439291666667\n",
      "\n",
      "=============================================\n"
     ]
    },
    {
     "name": "stderr",
     "output_type": "stream",
     "text": [
      "Epoch 27/50: 100%|██████████| 1875/1875 [00:09<00:00, 208.30it/s]\n"
     ]
    },
    {
     "name": "stdout",
     "output_type": "stream",
     "text": [
      "VAE- Epoch [27/50], Loss: 3192.1334470052084\n",
      "\n",
      "=============================================\n"
     ]
    },
    {
     "name": "stderr",
     "output_type": "stream",
     "text": [
      "Epoch 28/50: 100%|██████████| 1875/1875 [00:09<00:00, 205.52it/s]\n"
     ]
    },
    {
     "name": "stdout",
     "output_type": "stream",
     "text": [
      "VAE- Epoch [28/50], Loss: 3189.44683359375\n",
      "\n",
      "=============================================\n"
     ]
    },
    {
     "name": "stderr",
     "output_type": "stream",
     "text": [
      "Epoch 29/50: 100%|██████████| 1875/1875 [00:08<00:00, 216.17it/s]\n"
     ]
    },
    {
     "name": "stdout",
     "output_type": "stream",
     "text": [
      "VAE- Epoch [29/50], Loss: 3184.6146884114582\n",
      "\n",
      "=============================================\n"
     ]
    },
    {
     "name": "stderr",
     "output_type": "stream",
     "text": [
      "Epoch 30/50: 100%|██████████| 1875/1875 [00:08<00:00, 211.34it/s]\n"
     ]
    },
    {
     "name": "stdout",
     "output_type": "stream",
     "text": [
      "VAE- Epoch [30/50], Loss: 3184.0141022135417\n",
      "\n",
      "=============================================\n"
     ]
    },
    {
     "name": "stderr",
     "output_type": "stream",
     "text": [
      "Epoch 31/50: 100%|██████████| 1875/1875 [00:08<00:00, 211.25it/s]\n"
     ]
    },
    {
     "name": "stdout",
     "output_type": "stream",
     "text": [
      "VAE- Epoch [31/50], Loss: 3180.208558203125\n",
      "\n",
      "=============================================\n"
     ]
    },
    {
     "name": "stderr",
     "output_type": "stream",
     "text": [
      "Epoch 32/50: 100%|██████████| 1875/1875 [00:09<00:00, 203.91it/s]\n"
     ]
    },
    {
     "name": "stdout",
     "output_type": "stream",
     "text": [
      "VAE- Epoch [32/50], Loss: 3178.731939322917\n",
      "\n",
      "=============================================\n"
     ]
    },
    {
     "name": "stderr",
     "output_type": "stream",
     "text": [
      "Epoch 33/50: 100%|██████████| 1875/1875 [00:08<00:00, 208.49it/s]\n"
     ]
    },
    {
     "name": "stdout",
     "output_type": "stream",
     "text": [
      "VAE- Epoch [33/50], Loss: 3176.075184765625\n",
      "\n",
      "=============================================\n"
     ]
    },
    {
     "name": "stderr",
     "output_type": "stream",
     "text": [
      "Epoch 34/50: 100%|██████████| 1875/1875 [00:08<00:00, 211.09it/s]\n"
     ]
    },
    {
     "name": "stdout",
     "output_type": "stream",
     "text": [
      "VAE- Epoch [34/50], Loss: 3172.780935546875\n",
      "\n",
      "=============================================\n"
     ]
    },
    {
     "name": "stderr",
     "output_type": "stream",
     "text": [
      "Epoch 35/50: 100%|██████████| 1875/1875 [00:09<00:00, 203.86it/s]\n"
     ]
    },
    {
     "name": "stdout",
     "output_type": "stream",
     "text": [
      "VAE- Epoch [35/50], Loss: 3170.66524296875\n",
      "\n",
      "=============================================\n"
     ]
    },
    {
     "name": "stderr",
     "output_type": "stream",
     "text": [
      "Epoch 36/50: 100%|██████████| 1875/1875 [00:09<00:00, 202.87it/s]\n"
     ]
    },
    {
     "name": "stdout",
     "output_type": "stream",
     "text": [
      "VAE- Epoch [36/50], Loss: 3170.510819921875\n",
      "\n",
      "=============================================\n"
     ]
    },
    {
     "name": "stderr",
     "output_type": "stream",
     "text": [
      "Epoch 37/50: 100%|██████████| 1875/1875 [00:08<00:00, 211.48it/s]\n"
     ]
    },
    {
     "name": "stdout",
     "output_type": "stream",
     "text": [
      "VAE- Epoch [37/50], Loss: 3168.023090885417\n",
      "\n",
      "=============================================\n"
     ]
    },
    {
     "name": "stderr",
     "output_type": "stream",
     "text": [
      "Epoch 38/50: 100%|██████████| 1875/1875 [00:08<00:00, 211.99it/s]\n"
     ]
    },
    {
     "name": "stdout",
     "output_type": "stream",
     "text": [
      "VAE- Epoch [38/50], Loss: 3165.745003776042\n",
      "\n",
      "=============================================\n"
     ]
    },
    {
     "name": "stderr",
     "output_type": "stream",
     "text": [
      "Epoch 39/50: 100%|██████████| 1875/1875 [00:09<00:00, 204.73it/s]\n"
     ]
    },
    {
     "name": "stdout",
     "output_type": "stream",
     "text": [
      "VAE- Epoch [39/50], Loss: 3163.76630390625\n",
      "\n",
      "=============================================\n"
     ]
    },
    {
     "name": "stderr",
     "output_type": "stream",
     "text": [
      "Epoch 40/50: 100%|██████████| 1875/1875 [00:09<00:00, 206.95it/s]\n"
     ]
    },
    {
     "name": "stdout",
     "output_type": "stream",
     "text": [
      "VAE- Epoch [40/50], Loss: 3162.6275373697918\n",
      "\n",
      "=============================================\n"
     ]
    },
    {
     "name": "stderr",
     "output_type": "stream",
     "text": [
      "Epoch 41/50: 100%|██████████| 1875/1875 [00:08<00:00, 210.46it/s]\n"
     ]
    },
    {
     "name": "stdout",
     "output_type": "stream",
     "text": [
      "VAE- Epoch [41/50], Loss: 3159.418627473958\n",
      "\n",
      "=============================================\n"
     ]
    },
    {
     "name": "stderr",
     "output_type": "stream",
     "text": [
      "Epoch 42/50: 100%|██████████| 1875/1875 [00:09<00:00, 203.52it/s]\n"
     ]
    },
    {
     "name": "stdout",
     "output_type": "stream",
     "text": [
      "VAE- Epoch [42/50], Loss: 3158.008316796875\n",
      "\n",
      "=============================================\n"
     ]
    },
    {
     "name": "stderr",
     "output_type": "stream",
     "text": [
      "Epoch 43/50: 100%|██████████| 1875/1875 [00:09<00:00, 207.65it/s]\n"
     ]
    },
    {
     "name": "stdout",
     "output_type": "stream",
     "text": [
      "VAE- Epoch [43/50], Loss: 3156.3846236979166\n",
      "\n",
      "=============================================\n"
     ]
    },
    {
     "name": "stderr",
     "output_type": "stream",
     "text": [
      "Epoch 44/50: 100%|██████████| 1875/1875 [00:09<00:00, 205.64it/s]\n"
     ]
    },
    {
     "name": "stdout",
     "output_type": "stream",
     "text": [
      "VAE- Epoch [44/50], Loss: 3156.138371484375\n",
      "\n",
      "=============================================\n"
     ]
    },
    {
     "name": "stderr",
     "output_type": "stream",
     "text": [
      "Epoch 45/50: 100%|██████████| 1875/1875 [00:08<00:00, 209.66it/s]\n"
     ]
    },
    {
     "name": "stdout",
     "output_type": "stream",
     "text": [
      "VAE- Epoch [45/50], Loss: 3153.801226171875\n",
      "\n",
      "=============================================\n"
     ]
    },
    {
     "name": "stderr",
     "output_type": "stream",
     "text": [
      "Epoch 46/50: 100%|██████████| 1875/1875 [00:09<00:00, 204.90it/s]\n"
     ]
    },
    {
     "name": "stdout",
     "output_type": "stream",
     "text": [
      "VAE- Epoch [46/50], Loss: 3152.013097265625\n",
      "\n",
      "=============================================\n"
     ]
    },
    {
     "name": "stderr",
     "output_type": "stream",
     "text": [
      "Epoch 47/50: 100%|██████████| 1875/1875 [00:08<00:00, 212.39it/s]\n"
     ]
    },
    {
     "name": "stdout",
     "output_type": "stream",
     "text": [
      "VAE- Epoch [47/50], Loss: 3151.1494192708333\n",
      "\n",
      "=============================================\n"
     ]
    },
    {
     "name": "stderr",
     "output_type": "stream",
     "text": [
      "Epoch 48/50: 100%|██████████| 1875/1875 [00:08<00:00, 211.44it/s]\n"
     ]
    },
    {
     "name": "stdout",
     "output_type": "stream",
     "text": [
      "VAE- Epoch [48/50], Loss: 3152.381235546875\n",
      "\n",
      "=============================================\n"
     ]
    },
    {
     "name": "stderr",
     "output_type": "stream",
     "text": [
      "Epoch 49/50: 100%|██████████| 1875/1875 [00:09<00:00, 203.76it/s]\n"
     ]
    },
    {
     "name": "stdout",
     "output_type": "stream",
     "text": [
      "VAE- Epoch [49/50], Loss: 3146.984062239583\n",
      "\n",
      "=============================================\n"
     ]
    },
    {
     "name": "stderr",
     "output_type": "stream",
     "text": [
      "Epoch 50/50: 100%|██████████| 1875/1875 [00:09<00:00, 207.77it/s]\n"
     ]
    },
    {
     "name": "stdout",
     "output_type": "stream",
     "text": [
      "VAE- Epoch [50/50], Loss: 3146.2494180989584\n"
     ]
    }
   ],
   "source": [
    "# Define parameters\n",
    "input_dim = 784  # Assuming the input is MNIST images (28x28 pixels)\n",
    "hidden_dim = 512  # Size of hidden layers in the encoder and decoder\n",
    "latent_size = 20  # Dimensionality of the latent space\n",
    "\n",
    "# Initialize the VAE model\n",
    "VAE = VAE_MLP(input_dim=input_dim, hidden_dim=hidden_dim, latent_dim=latent_size)\n",
    "\n",
    "# Assuming loader_train is already defined and contains the training data\n",
    "train_vae_mlp(VAE, loader_train, num_epochs=50, learning_rate=1e-3)\n"
   ]
  },
  {
   "cell_type": "markdown",
   "metadata": {
    "id": "JT6Ek-26jjJD"
   },
   "source": [
    "## Visualize results\n",
    "\n",
    "After training our VAE network, we're able to take advantage of its power to generate new training examples. This process simply involves the decoder: we intialize some random distribution for our latent spaces z, and generate new examples by passing these latent space into the decoder.\n",
    "\n",
    "Run the cell below to generate new images! You should be able to visually recognize many of the digits, although some may be a bit blurry or badly formed. Our next model will see improvement in these results."
   ]
  },
  {
   "cell_type": "code",
   "execution_count": 180,
   "metadata": {
    "execution": {
     "iopub.execute_input": "2025-01-19T21:37:13.139473Z",
     "iopub.status.busy": "2025-01-19T21:37:13.139156Z",
     "iopub.status.idle": "2025-01-19T21:37:13.385030Z",
     "shell.execute_reply": "2025-01-19T21:37:13.384313Z",
     "shell.execute_reply.started": "2025-01-19T21:37:13.139450Z"
    },
    "id": "RhhrsgrMTyTi",
    "trusted": true
   },
   "outputs": [
    {
     "data": {
      "image/png": "[encoded data removed]",
      "text/plain": [
       "<Figure size 1000x100 with 10 Axes>"
      ]
     },
     "metadata": {},
     "output_type": "display_data"
    }
   ],
   "source": [
    "num_samples = 10\n",
    "z = torch.randn(num_samples, latent_size).to(device=device)\n",
    "\n",
    "VAE.eval()\n",
    "samples = VAE.decoder(z).data.cpu().numpy()\n",
    "\n",
    "fig = plt.figure(figsize=(num_samples, 1))\n",
    "gspec = gridspec.GridSpec(1, num_samples)\n",
    "gspec.update(wspace=0.05, hspace=0.05)\n",
    "for i, sample in enumerate(samples):\n",
    "    ax = plt.subplot(gspec[i])\n",
    "    plt.axis('off')\n",
    "    if i == 4:\n",
    "      plt.title('Generated Samples of VAE')\n",
    "    ax.set_xticklabels([])\n",
    "    ax.set_yticklabels([])\n",
    "    ax.set_aspect('equal')\n",
    "    plt.imshow(sample.reshape(28,28), cmap='Greys_r')"
   ]
  },
  {
   "cell_type": "markdown",
   "metadata": {
    "id": "wzS_ufzEkhah"
   },
   "source": [
    "# Conditional FC-VAE\n",
    "\n",
    "The second model you'll develop will be very similar to the FC-VAE, but with a slight conditional twist to it. We'll use what we know about the labels of each MNIST image, and *condition* our latent space and image generation on the specific class. Instead of $q_{\\phi} (z|x)$ and $p_{\\phi}(x|z)$ we have $q_{\\phi} (z|x,c)$  and $p_{\\phi}(x|z, c)$\n",
    "\n",
    "This will allow us to do some powerful conditional generation at inference time. We can specifically choose to generate more 1s, 2s, 9s, etc. instead of simply generating new digits randomly."
   ]
  },
  {
   "cell_type": "markdown",
   "metadata": {
    "id": "hle0JuhwklKc"
   },
   "source": [
    "## Define Network with class input\n",
    "\n",
    "Your CVAE architecture should be the same as your FC-VAE architecture, except you'll now concatenate a one-hot label vector to both the x input (in our case, the flattened image dimensions) and the z latent space.\n",
    "\n",
    "If the one-hot vector is called `c`, then `c[label] = 1` and `c = 0` elsewhere.\n",
    "\n",
    "For the `CVAE_MLP` class use the same FC-VAE architecture implemented in the last network.\n"
   ]
  },
  {
   "cell_type": "code",
   "execution_count": 190,
   "metadata": {
    "execution": {
     "iopub.execute_input": "2025-01-19T21:45:49.470972Z",
     "iopub.status.busy": "2025-01-19T21:45:49.470678Z",
     "iopub.status.idle": "2025-01-19T21:45:49.478902Z",
     "shell.execute_reply": "2025-01-19T21:45:49.477954Z",
     "shell.execute_reply.started": "2025-01-19T21:45:49.470951Z"
    },
    "id": "iGox0wzC-NWJ",
    "trusted": true
   },
   "outputs": [],
   "source": [
    "import torch\n",
    "import torch.nn as nn\n",
    "\n",
    "class CVAE_MLP(nn.Module):\n",
    "    def __init__(self, input_dim, hidden_dim, latent_dim, num_classes):\n",
    "        super(CVAE_MLP, self).__init__()\n",
    "\n",
    "        # Define the architecture of the encoder\n",
    "        self.encoder = nn.Sequential(\n",
    "            nn.Linear(input_dim + num_classes, hidden_dim),\n",
    "            nn.ReLU(),\n",
    "            nn.Linear(hidden_dim, hidden_dim),\n",
    "            nn.ReLU()\n",
    "        )\n",
    "\n",
    "        # Define layers for mean and log variance\n",
    "        self.fc_mu = nn.Linear(hidden_dim, latent_dim)\n",
    "        self.fc_logvar = nn.Linear(hidden_dim, latent_dim)\n",
    "        self.fc_classification = nn.Linear(hidden_dim, num_classes)\n",
    "\n",
    "        # Define the architecture of the decoder\n",
    "        self.decoder = nn.Sequential(\n",
    "            nn.Linear(latent_dim + num_classes, hidden_dim),\n",
    "            nn.ReLU(),\n",
    "            nn.Linear(hidden_dim, hidden_dim),\n",
    "            nn.ReLU(),\n",
    "            nn.Linear(hidden_dim, input_dim + num_classes),\n",
    "        )\n",
    "\n",
    "    def reparameterize(self, mu, logvar):\n",
    "        \"\"\"Applies the reparameterization trick to sample z.\"\"\"\n",
    "        std = torch.exp(0.5 * logvar)  # Compute standard deviation\n",
    "        eps = torch.randn_like(std)  # Random noise\n",
    "        z = mu + eps * std  # Reparameterization trick\n",
    "        return z\n",
    "\n",
    "    def forward(self, x, y):\n",
    "        \"\"\"Implements the forward pass.\"\"\"\n",
    "        # Flatten the input and one-hot labels\n",
    "        x = x.view(x.size(0), -1)  # Flatten the input data\n",
    "        y = y.view(y.size(0), -1)  # Flatten the one-hot encoded labels\n",
    "\n",
    "        # Concatenate x and y before passing them to the encoder\n",
    "        xy = torch.cat([x, y], dim=1)\n",
    "\n",
    "        # Encode input to get mu and logvar\n",
    "        encoded = self.encoder(xy)\n",
    "        mu = self.fc_mu(encoded)\n",
    "        logvar = self.fc_logvar(encoded)\n",
    "        encoder_classification = self.fc_classification(encoded)\n",
    "\n",
    "        # Reparameterize to sample latent vector z\n",
    "        z = self.reparameterize(mu, logvar)\n",
    "\n",
    "        # Concatenate z and y before passing them to the decoder\n",
    "        zy = torch.cat([z, y], dim=1)\n",
    "\n",
    "        # Decode z and y to reconstruct the input\n",
    "        output = self.decoder(zy)\n",
    "\n",
    "        # Separate the output into reconstructed input and classification logits\n",
    "        reconstructed = output[:, :input_dim]  # Assuming input_dim is the size of the input\n",
    "        reconstructed = torch.sigmoid(reconstructed)  # Apply sigmoid for reconstruction\n",
    "        decoder_classification = output[:, input_dim:]  # Remaining part for classification logits\n",
    "\n",
    "        return reconstructed, mu, logvar, encoder_classification, decoder_classification"
   ]
  },
  {
   "cell_type": "markdown",
   "metadata": {
    "id": "FKw9Lidzwn55"
   },
   "source": [
    "If you want to build helper functions, you can write the code in the below cell."
   ]
  },
  {
   "cell_type": "code",
   "execution_count": null,
   "metadata": {
    "id": "PHmq08N4w0Of",
    "trusted": true
   },
   "outputs": [],
   "source": []
  },
  {
   "cell_type": "markdown",
   "metadata": {
    "id": "IQMuHF9Yw3ZY"
   },
   "source": [
    "# Loss Function"
   ]
  },
  {
   "cell_type": "markdown",
   "metadata": {
    "id": "yFIwbGnuw9qH"
   },
   "source": [
    "Complete the cvae_loss function below"
   ]
  },
  {
   "cell_type": "code",
   "execution_count": 191,
   "metadata": {
    "execution": {
     "iopub.execute_input": "2025-01-19T21:45:50.371004Z",
     "iopub.status.busy": "2025-01-19T21:45:50.370725Z",
     "iopub.status.idle": "2025-01-19T21:45:50.376035Z",
     "shell.execute_reply": "2025-01-19T21:45:50.375290Z",
     "shell.execute_reply.started": "2025-01-19T21:45:50.370983Z"
    },
    "id": "5V181vOVxEHf",
    "trusted": true
   },
   "outputs": [],
   "source": [
    "def cvae_loss(recon, data, mu, logvar, encoder_classification, decoder_classification, labels):\n",
    "    \"\"\"\n",
    "    Computes the loss for the Conditional Variational Autoencoder.\n",
    "\n",
    "    Args:\n",
    "        recon (Tensor): The reconstructed output from the decoder.\n",
    "        data (Tensor): The original input data.\n",
    "        mu (Tensor): The mean vector from the encoder.\n",
    "        logvar (Tensor): The log variance vector from the encoder.\n",
    "        class_logits (Tensor): The predicted class logits from the encoder.\n",
    "        labels (Tensor): The true labels (one-hot encoded or class indices).\n",
    "\n",
    "    Returns:\n",
    "        Tensor: The total loss as the sum of reconstruction, KL divergence, and cross-entropy losses.\n",
    "    \"\"\"\n",
    "    # Flatten the data and recon tensors\n",
    "    data = data.view(data.size(0), -1)\n",
    "    recon = recon.view(recon.size(0), -1)\n",
    "\n",
    "    # Reconstruction loss (binary cross-entropy for normalized inputs)\n",
    "    recon_loss = F.binary_cross_entropy(recon, data, reduction='sum')\n",
    "\n",
    "    # KL divergence loss\n",
    "    # KL divergence for a Gaussian is: -0.5 * sum(1 + logvar - mu^2 - exp(logvar))\n",
    "    kl_loss = -0.5 * torch.sum(1 + logvar - mu.pow(2) - logvar.exp())\n",
    "\n",
    "    # Cross-entropy loss for class prediction\n",
    "    cross_entropy_loss = F.cross_entropy(encoder_classification, labels, reduction='sum') + F.cross_entropy(decoder_classification, labels, reduction='sum')\n",
    "\n",
    "    # Total loss\n",
    "    total_loss = recon_loss + kl_loss + 0.5 * cross_entropy_loss\n",
    "\n",
    "    return total_loss\n"
   ]
  },
  {
   "cell_type": "markdown",
   "metadata": {
    "id": "bUzKyFI9kp8i"
   },
   "source": [
    "## Train model\n",
    "\n",
    "Using the same training script, let's now train our CVAE!\n",
    "\n"
   ]
  },
  {
   "cell_type": "code",
   "execution_count": 192,
   "metadata": {
    "execution": {
     "iopub.execute_input": "2025-01-19T21:45:50.677735Z",
     "iopub.status.busy": "2025-01-19T21:45:50.677462Z",
     "iopub.status.idle": "2025-01-19T21:45:50.689712Z",
     "shell.execute_reply": "2025-01-19T21:45:50.687590Z",
     "shell.execute_reply.started": "2025-01-19T21:45:50.677714Z"
    },
    "id": "N1dzKDUsunbD",
    "trusted": true
   },
   "outputs": [],
   "source": [
    "def train_cvae_mlp(model, train_loader, num_epochs=10, learning_rate=1e-3):\n",
    "    model.train()\n",
    "    optimizer = optim.Adam(model.parameters(), lr=learning_rate)\n",
    "    device = torch.device('cuda' if torch.cuda.is_available() else 'cpu')\n",
    "    model.to(device)\n",
    "\n",
    "    for epoch in range(num_epochs):\n",
    "        print()\n",
    "        print(45 * \"=\")\n",
    "        total_loss = []\n",
    "        \n",
    "        # Wrap train_loader with tqdm to show progress\n",
    "        for batch_idx, (data, labels) in enumerate(tqdm(train_loader, desc=f'Epoch {epoch + 1}/{num_epochs}')):\n",
    "            # One-hot encode the labels\n",
    "            labels_one_hot, labels = F.one_hot(labels, num_classes=10).float().to(device), labels.to(device)\n",
    "\n",
    "            # Move data to the appropriate device\n",
    "            data, labels_one_hot = data.to(device), labels_one_hot.to(device)\n",
    "\n",
    "            # Forward pass through the model and calculate the loss\n",
    "            recon, mu, logvar, encoder_classification, decoder_classification = model(data, labels_one_hot)\n",
    "            loss = cvae_loss(recon, data, mu, logvar, encoder_classification, decoder_classification, labels)  # Modify as needed if class_logits are part of model\n",
    "\n",
    "            # Backpropagation and optimization step\n",
    "            optimizer.zero_grad()\n",
    "            loss.backward()\n",
    "            optimizer.step()\n",
    "\n",
    "            total_loss.append(loss.item())\n",
    "\n",
    "        avg_loss = float(sum(total_loss) / len(total_loss))\n",
    "        print(f'CVAE-MLP Epoch [{epoch + 1}/{num_epochs}], Loss: {avg_loss}')"
   ]
  },
  {
   "cell_type": "code",
   "execution_count": 198,
   "metadata": {
    "execution": {
     "iopub.execute_input": "2025-01-19T21:51:00.855954Z",
     "iopub.status.busy": "2025-01-19T21:51:00.855546Z",
     "iopub.status.idle": "2025-01-19T21:56:09.281083Z",
     "shell.execute_reply": "2025-01-19T21:56:09.280154Z",
     "shell.execute_reply.started": "2025-01-19T21:51:00.855917Z"
    },
    "id": "JgrqOKl4x0eX",
    "trusted": true
   },
   "outputs": [
    {
     "name": "stdout",
     "output_type": "stream",
     "text": [
      "\n",
      "=============================================\n"
     ]
    },
    {
     "name": "stderr",
     "output_type": "stream",
     "text": [
      "Epoch 1/30: 100%|██████████| 1875/1875 [00:10<00:00, 179.29it/s]\n"
     ]
    },
    {
     "name": "stdout",
     "output_type": "stream",
     "text": [
      "CVAE-MLP Epoch [1/30], Loss: 3151.847901041667\n",
      "\n",
      "=============================================\n"
     ]
    },
    {
     "name": "stderr",
     "output_type": "stream",
     "text": [
      "Epoch 2/30: 100%|██████████| 1875/1875 [00:10<00:00, 185.51it/s]\n"
     ]
    },
    {
     "name": "stdout",
     "output_type": "stream",
     "text": [
      "CVAE-MLP Epoch [2/30], Loss: 3136.7356100260417\n",
      "\n",
      "=============================================\n"
     ]
    },
    {
     "name": "stderr",
     "output_type": "stream",
     "text": [
      "Epoch 3/30: 100%|██████████| 1875/1875 [00:10<00:00, 181.88it/s]\n"
     ]
    },
    {
     "name": "stdout",
     "output_type": "stream",
     "text": [
      "CVAE-MLP Epoch [3/30], Loss: 3131.7331115885418\n",
      "\n",
      "=============================================\n"
     ]
    },
    {
     "name": "stderr",
     "output_type": "stream",
     "text": [
      "Epoch 4/30: 100%|██████████| 1875/1875 [00:10<00:00, 181.86it/s]\n"
     ]
    },
    {
     "name": "stdout",
     "output_type": "stream",
     "text": [
      "CVAE-MLP Epoch [4/30], Loss: 3127.3812239583335\n",
      "\n",
      "=============================================\n"
     ]
    },
    {
     "name": "stderr",
     "output_type": "stream",
     "text": [
      "Epoch 5/30: 100%|██████████| 1875/1875 [00:10<00:00, 180.77it/s]\n"
     ]
    },
    {
     "name": "stdout",
     "output_type": "stream",
     "text": [
      "CVAE-MLP Epoch [5/30], Loss: 3123.8271247395833\n",
      "\n",
      "=============================================\n"
     ]
    },
    {
     "name": "stderr",
     "output_type": "stream",
     "text": [
      "Epoch 6/30: 100%|██████████| 1875/1875 [00:10<00:00, 183.45it/s]\n"
     ]
    },
    {
     "name": "stdout",
     "output_type": "stream",
     "text": [
      "CVAE-MLP Epoch [6/30], Loss: 3120.11978125\n",
      "\n",
      "=============================================\n"
     ]
    },
    {
     "name": "stderr",
     "output_type": "stream",
     "text": [
      "Epoch 7/30: 100%|██████████| 1875/1875 [00:10<00:00, 176.94it/s]\n"
     ]
    },
    {
     "name": "stdout",
     "output_type": "stream",
     "text": [
      "CVAE-MLP Epoch [7/30], Loss: 3118.029006640625\n",
      "\n",
      "=============================================\n"
     ]
    },
    {
     "name": "stderr",
     "output_type": "stream",
     "text": [
      "Epoch 8/30: 100%|██████████| 1875/1875 [00:10<00:00, 183.47it/s]\n"
     ]
    },
    {
     "name": "stdout",
     "output_type": "stream",
     "text": [
      "CVAE-MLP Epoch [8/30], Loss: 3115.530525390625\n",
      "\n",
      "=============================================\n"
     ]
    },
    {
     "name": "stderr",
     "output_type": "stream",
     "text": [
      "Epoch 9/30: 100%|██████████| 1875/1875 [00:10<00:00, 180.50it/s]\n"
     ]
    },
    {
     "name": "stdout",
     "output_type": "stream",
     "text": [
      "CVAE-MLP Epoch [9/30], Loss: 3113.378397786458\n",
      "\n",
      "=============================================\n"
     ]
    },
    {
     "name": "stderr",
     "output_type": "stream",
     "text": [
      "Epoch 10/30: 100%|██████████| 1875/1875 [00:10<00:00, 177.80it/s]\n"
     ]
    },
    {
     "name": "stdout",
     "output_type": "stream",
     "text": [
      "CVAE-MLP Epoch [10/30], Loss: 3111.1554188802083\n",
      "\n",
      "=============================================\n"
     ]
    },
    {
     "name": "stderr",
     "output_type": "stream",
     "text": [
      "Epoch 11/30: 100%|██████████| 1875/1875 [00:10<00:00, 180.59it/s]\n"
     ]
    },
    {
     "name": "stdout",
     "output_type": "stream",
     "text": [
      "CVAE-MLP Epoch [11/30], Loss: 3109.2411953125\n",
      "\n",
      "=============================================\n"
     ]
    },
    {
     "name": "stderr",
     "output_type": "stream",
     "text": [
      "Epoch 12/30: 100%|██████████| 1875/1875 [00:10<00:00, 185.36it/s]\n"
     ]
    },
    {
     "name": "stdout",
     "output_type": "stream",
     "text": [
      "CVAE-MLP Epoch [12/30], Loss: 3107.10972734375\n",
      "\n",
      "=============================================\n"
     ]
    },
    {
     "name": "stderr",
     "output_type": "stream",
     "text": [
      "Epoch 13/30: 100%|██████████| 1875/1875 [00:10<00:00, 177.25it/s]\n"
     ]
    },
    {
     "name": "stdout",
     "output_type": "stream",
     "text": [
      "CVAE-MLP Epoch [13/30], Loss: 3105.12419765625\n",
      "\n",
      "=============================================\n"
     ]
    },
    {
     "name": "stderr",
     "output_type": "stream",
     "text": [
      "Epoch 14/30: 100%|██████████| 1875/1875 [00:10<00:00, 185.11it/s]\n"
     ]
    },
    {
     "name": "stdout",
     "output_type": "stream",
     "text": [
      "CVAE-MLP Epoch [14/30], Loss: 3103.6568736979166\n",
      "\n",
      "=============================================\n"
     ]
    },
    {
     "name": "stderr",
     "output_type": "stream",
     "text": [
      "Epoch 15/30: 100%|██████████| 1875/1875 [00:10<00:00, 184.53it/s]\n"
     ]
    },
    {
     "name": "stdout",
     "output_type": "stream",
     "text": [
      "CVAE-MLP Epoch [15/30], Loss: 3102.0710234375\n",
      "\n",
      "=============================================\n"
     ]
    },
    {
     "name": "stderr",
     "output_type": "stream",
     "text": [
      "Epoch 16/30: 100%|██████████| 1875/1875 [00:10<00:00, 183.37it/s]\n"
     ]
    },
    {
     "name": "stdout",
     "output_type": "stream",
     "text": [
      "CVAE-MLP Epoch [16/30], Loss: 3100.4296091145834\n",
      "\n",
      "=============================================\n"
     ]
    },
    {
     "name": "stderr",
     "output_type": "stream",
     "text": [
      "Epoch 17/30: 100%|██████████| 1875/1875 [00:09<00:00, 188.00it/s]\n"
     ]
    },
    {
     "name": "stdout",
     "output_type": "stream",
     "text": [
      "CVAE-MLP Epoch [17/30], Loss: 3098.1695364583334\n",
      "\n",
      "=============================================\n"
     ]
    },
    {
     "name": "stderr",
     "output_type": "stream",
     "text": [
      "Epoch 18/30: 100%|██████████| 1875/1875 [00:10<00:00, 186.52it/s]\n"
     ]
    },
    {
     "name": "stdout",
     "output_type": "stream",
     "text": [
      "CVAE-MLP Epoch [18/30], Loss: 3096.5626557291666\n",
      "\n",
      "=============================================\n"
     ]
    },
    {
     "name": "stderr",
     "output_type": "stream",
     "text": [
      "Epoch 19/30: 100%|██████████| 1875/1875 [00:10<00:00, 179.58it/s]\n"
     ]
    },
    {
     "name": "stdout",
     "output_type": "stream",
     "text": [
      "CVAE-MLP Epoch [19/30], Loss: 3095.1122704427084\n",
      "\n",
      "=============================================\n"
     ]
    },
    {
     "name": "stderr",
     "output_type": "stream",
     "text": [
      "Epoch 20/30: 100%|██████████| 1875/1875 [00:10<00:00, 186.13it/s]\n"
     ]
    },
    {
     "name": "stdout",
     "output_type": "stream",
     "text": [
      "CVAE-MLP Epoch [20/30], Loss: 3093.3524966145833\n",
      "\n",
      "=============================================\n"
     ]
    },
    {
     "name": "stderr",
     "output_type": "stream",
     "text": [
      "Epoch 21/30: 100%|██████████| 1875/1875 [00:10<00:00, 186.32it/s]\n"
     ]
    },
    {
     "name": "stdout",
     "output_type": "stream",
     "text": [
      "CVAE-MLP Epoch [21/30], Loss: 3092.204124739583\n",
      "\n",
      "=============================================\n"
     ]
    },
    {
     "name": "stderr",
     "output_type": "stream",
     "text": [
      "Epoch 22/30: 100%|██████████| 1875/1875 [00:10<00:00, 177.15it/s]\n"
     ]
    },
    {
     "name": "stdout",
     "output_type": "stream",
     "text": [
      "CVAE-MLP Epoch [22/30], Loss: 3091.451359375\n",
      "\n",
      "=============================================\n"
     ]
    },
    {
     "name": "stderr",
     "output_type": "stream",
     "text": [
      "Epoch 23/30: 100%|██████████| 1875/1875 [00:10<00:00, 180.34it/s]\n"
     ]
    },
    {
     "name": "stdout",
     "output_type": "stream",
     "text": [
      "CVAE-MLP Epoch [23/30], Loss: 3089.015018880208\n",
      "\n",
      "=============================================\n"
     ]
    },
    {
     "name": "stderr",
     "output_type": "stream",
     "text": [
      "Epoch 24/30: 100%|██████████| 1875/1875 [00:10<00:00, 179.50it/s]\n"
     ]
    },
    {
     "name": "stdout",
     "output_type": "stream",
     "text": [
      "CVAE-MLP Epoch [24/30], Loss: 3088.172841796875\n",
      "\n",
      "=============================================\n"
     ]
    },
    {
     "name": "stderr",
     "output_type": "stream",
     "text": [
      "Epoch 25/30: 100%|██████████| 1875/1875 [00:10<00:00, 179.64it/s]\n"
     ]
    },
    {
     "name": "stdout",
     "output_type": "stream",
     "text": [
      "CVAE-MLP Epoch [25/30], Loss: 3086.477859114583\n",
      "\n",
      "=============================================\n"
     ]
    },
    {
     "name": "stderr",
     "output_type": "stream",
     "text": [
      "Epoch 26/30: 100%|██████████| 1875/1875 [00:10<00:00, 183.21it/s]\n"
     ]
    },
    {
     "name": "stdout",
     "output_type": "stream",
     "text": [
      "CVAE-MLP Epoch [26/30], Loss: 3085.368367708333\n",
      "\n",
      "=============================================\n"
     ]
    },
    {
     "name": "stderr",
     "output_type": "stream",
     "text": [
      "Epoch 27/30: 100%|██████████| 1875/1875 [00:10<00:00, 184.40it/s]\n"
     ]
    },
    {
     "name": "stdout",
     "output_type": "stream",
     "text": [
      "CVAE-MLP Epoch [27/30], Loss: 3083.051869140625\n",
      "\n",
      "=============================================\n"
     ]
    },
    {
     "name": "stderr",
     "output_type": "stream",
     "text": [
      "Epoch 28/30: 100%|██████████| 1875/1875 [00:10<00:00, 179.54it/s]\n"
     ]
    },
    {
     "name": "stdout",
     "output_type": "stream",
     "text": [
      "CVAE-MLP Epoch [28/30], Loss: 3082.4592561197915\n",
      "\n",
      "=============================================\n"
     ]
    },
    {
     "name": "stderr",
     "output_type": "stream",
     "text": [
      "Epoch 29/30: 100%|██████████| 1875/1875 [00:09<00:00, 189.25it/s]\n"
     ]
    },
    {
     "name": "stdout",
     "output_type": "stream",
     "text": [
      "CVAE-MLP Epoch [29/30], Loss: 3080.8816584635415\n",
      "\n",
      "=============================================\n"
     ]
    },
    {
     "name": "stderr",
     "output_type": "stream",
     "text": [
      "Epoch 30/30: 100%|██████████| 1875/1875 [00:09<00:00, 188.15it/s]"
     ]
    },
    {
     "name": "stdout",
     "output_type": "stream",
     "text": [
      "CVAE-MLP Epoch [30/30], Loss: 3080.7426713541668\n"
     ]
    },
    {
     "name": "stderr",
     "output_type": "stream",
     "text": [
      "\n"
     ]
    }
   ],
   "source": [
    "input_dim = 784  # Assuming flattened 28x28 images (e.g., MNIST)\n",
    "hidden_dim = 256  # Example hidden size\n",
    "latent_size = 8  # Example latent size\n",
    "num_classes = 10  # Number of classes in dataset (e.g., MNIST)\n",
    "\n",
    "# CVAE = CVAE_MLP(input_dim=input_dim, hidden_dim=hidden_dim, latent_dim=latent_size, num_classes=num_classes)\n",
    "\n",
    "# Assuming `loader_train` is a DataLoader for the training dataset\n",
    "train_cvae_mlp(CVAE, loader_train, num_epochs=30, learning_rate=1e-4)"
   ]
  },
  {
   "cell_type": "markdown",
   "metadata": {
    "id": "GMAyFBZTkr1Y"
   },
   "source": [
    "## Visualize Results\n",
    "\n",
    "You've trained your CVAE, now let's conditionally generate some new data! This time, we can specify the class we want to generate by adding our one hot matrix of class labels. We use `torch.eye` to create an identity matrix, which effectively gives us one label for each digit. When you run the cell below, you should get one example per digit. Each digit should be reasonably distinguishable (it is ok to run this cell a few times to save your best results).\n",
    "\n"
   ]
  },
  {
   "cell_type": "code",
   "execution_count": 302,
   "metadata": {
    "execution": {
     "iopub.execute_input": "2025-01-19T23:11:07.164972Z",
     "iopub.status.busy": "2025-01-19T23:11:07.164683Z",
     "iopub.status.idle": "2025-01-19T23:11:07.413300Z",
     "shell.execute_reply": "2025-01-19T23:11:07.412391Z",
     "shell.execute_reply.started": "2025-01-19T23:11:07.164948Z"
    },
    "id": "GCfwpz0NALdZ",
    "trusted": true
   },
   "outputs": [
    {
     "data": {
      "image/png": "[encoded data removed]",
      "text/plain": [
       "<Figure size 1000x100 with 10 Axes>"
      ]
     },
     "metadata": {},
     "output_type": "display_data"
    }
   ],
   "source": [
    "num_samples = 10\n",
    "z = torch.randn(num_samples, latent_size)\n",
    "\n",
    "condition_to_noise_ratio = 2\n",
    "c = condition_to_noise_ratio * torch.eye(num_samples, 10)\n",
    "\n",
    "z = torch.cat((z,c), dim=-1).to(device='cuda')\n",
    "CVAE.eval()\n",
    "samples = torch.sigmoid(CVAE.decoder(z)).data.cpu().numpy()[:, :784]\n",
    "\n",
    "fig = plt.figure(figsize=(num_samples, 1))\n",
    "gspec = gridspec.GridSpec(1, num_samples)\n",
    "gspec.update(wspace=0.05, hspace=0.05)\n",
    "for i, sample in enumerate(samples):\n",
    "    ax = plt.subplot(gspec[i])\n",
    "    if i == 4:\n",
    "      plt.title(f'Generated Samples of CVAE with ctn ratio = {condition_to_noise_ratio:.2f}')\n",
    "    plt.axis('off')\n",
    "    ax.set_xticklabels([])\n",
    "    ax.set_yticklabels([])\n",
    "    ax.set_aspect('equal')\n",
    "    plt.imshow(sample.reshape(28, 28), cmap='Greys_r')"
   ]
  },
  {
   "cell_type": "code",
   "execution_count": 293,
   "metadata": {
    "execution": {
     "iopub.execute_input": "2025-01-19T23:01:48.246955Z",
     "iopub.status.busy": "2025-01-19T23:01:48.246639Z",
     "iopub.status.idle": "2025-01-19T23:06:19.650939Z",
     "shell.execute_reply": "2025-01-19T23:06:19.649978Z",
     "shell.execute_reply.started": "2025-01-19T23:01:48.246932Z"
    },
    "trusted": true
   },
   "outputs": [],
   "source": [
    "import numpy as np\n",
    "import matplotlib.gridspec as gridspec\n",
    "from PIL import Image\n",
    "\n",
    "num_samples = 10\n",
    "frames = []\n",
    "\n",
    "start = 0.5\n",
    "end = 12\n",
    "num_points = 1200  # Total number of points\n",
    "\n",
    "# Generate a non-linear range\n",
    "linear_space = np.linspace(0, 1, num_points)\n",
    "non_linear_range = start + (end - start) * linear_space**2\n",
    "\n",
    "for j in non_linear_range:\n",
    "    z = torch.randn(num_samples, latent_size)\n",
    "    condition_to_noise_ratio = j\n",
    "    c = condition_to_noise_ratio * torch.eye(num_samples, 10)\n",
    "\n",
    "    z = torch.cat((z, c), dim=-1).to(device='cuda')\n",
    "    CVAE.eval()\n",
    "    samples = torch.sigmoid(CVAE.decoder(z)).data.cpu().numpy()[:, :784]\n",
    "\n",
    "    fig = plt.figure(figsize=(num_samples, 2))  # Adjusted height to 2\n",
    "    gspec = gridspec.GridSpec(1, num_samples)\n",
    "    gspec.update(wspace=0.05, hspace=0.05)\n",
    "\n",
    "    # Add a title for the whole figure\n",
    "    fig.suptitle(f'Generated Samples of CVAE with ctn ratio = {j:.2f}', y=0.85, fontsize=15)\n",
    "\n",
    "    for i, sample in enumerate(samples):\n",
    "        ax = plt.subplot(gspec[i])\n",
    "        plt.axis('off')\n",
    "        ax.set_xticklabels([])\n",
    "        ax.set_yticklabels([])\n",
    "        ax.set_aspect('equal')\n",
    "        plt.imshow(sample.reshape(28, 28), cmap='Greys_r')\n",
    "\n",
    "    # Save the current figure as an image in memory\n",
    "    plt.axis('off')\n",
    "    fig.canvas.draw()\n",
    "    img_array = np.array(fig.canvas.renderer.buffer_rgba())\n",
    "    img_pil = Image.fromarray(img_array)\n",
    "    frames.append(img_pil)\n",
    "\n",
    "    plt.close(fig)  # Close the figure to avoid display\n",
    "\n",
    "# Save the collected frames as a GIF\n",
    "frames[0].save('gif.gif', save_all=True, append_images=frames[1:], duration=75, loop=0)\n"
   ]
  },
  {
   "cell_type": "markdown",
   "metadata": {},
   "source": [
    "### Conditional Variational Autoencoder (C-VAE) and CTN Ratio\n",
    "\n",
    "The **Condition-to-Noise (CTN) ratio** is a parameter in Conditional Variational Autoencoders (C-VAE) that governs the balance between the random noise and the conditioning signal in the latent space. This balance directly affects the diversity of the outputs generated by the model.\n",
    "\n",
    "- **Low CTN Ratio:** When the CTN ratio is low, the random noise in the latent space has a stronger influence. This results in **high diversity** among the generated outputs, as the model incorporates significant randomness.\n",
    "\n",
    "- **High CTN Ratio:** When the CTN ratio is high, the conditioning signal dominates. This makes the outputs more deterministic, as they align closely with the conditional input. However, this also means that the diversity of the outputs decreases, as the randomness from the noise is largely suppressed.\n",
    "\n",
    "### Why Diversity Decreases with Increasing CTN Ratio\n",
    "\n",
    "As the CTN ratio increases:\n",
    "1. The model increasingly relies on the deterministic conditioning signal.\n",
    "2. The contribution of noise to the latent representation becomes negligible.\n",
    "3. The generated outputs become nearly identical for the same condition, reducing variability.\n",
    "\n",
    "Conversely, at low CTN ratios, the noise component adds variability, allowing for a wider range of outputs even for the same condition.\n",
    "\n",
    "### Visualization (GIF)\n",
    "\n",
    "The GIF below demonstrates the effect of varying the CTN ratio:\n",
    "\n",
    "- **Low Ratio:** At the start, the generated outputs exhibit high variability, reflecting the influence of random noise.\n",
    "- **High Ratio:** As the CTN ratio increases, the outputs become more similar, showing a loss of diversity and increased determinism.\n",
    "\n",
    "![CTN Ratio Effect on Diversity](gif.gif)\n",
    "\n",
    "In the GIF, you can observe the transition from diverse to deterministic outputs as the CTN ratio progresses from low to high. This visualization highlights how the CTN ratio serves as a control for the diversity of the generated samples."
   ]
  }
 ],
 "metadata": {
  "accelerator": "GPU",
  "colab": {
   "gpuType": "T4",
   "provenance": []
  },
  "kaggle": {
   "accelerator": "gpu",
   "dataSources": [],
   "dockerImageVersionId": 30840,
   "isGpuEnabled": true,
   "isInternetEnabled": true,
   "language": "python",
   "sourceType": "notebook"
  },
  "kernelspec": {
   "display_name": "Python 3",
   "language": "python",
   "name": "python3"
  },
  "language_info": {
   "codemirror_mode": {
    "name": "ipython",
    "version": 3
   },
   "file_extension": ".py",
   "mimetype": "text/x-python",
   "name": "python",
   "nbconvert_exporter": "python",
   "pygments_lexer": "ipython3",
   "version": "3.10.12"
  }
 },
 "nbformat": 4,
 "nbformat_minor": 4
}
